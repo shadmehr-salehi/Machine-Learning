{
  "cells": [
    {
      "cell_type": "code",
      "execution_count": 2,
      "metadata": {
        "id": "fcrsmfTV231a"
      },
      "outputs": [],
      "source": [
        "import pandas as pd\n",
        "import numpy as np\n",
        "import matplotlib.pyplot as plt"
      ]
    },
    {
      "attachments": {},
      "cell_type": "markdown",
      "metadata": {
        "id": "ya1B_ceY3EdD"
      },
      "source": [
        "# Load Data"
      ]
    },
    {
      "cell_type": "code",
      "execution_count": 35,
      "metadata": {
        "colab": {
          "base_uri": "https://localhost:8080/"
        },
        "id": "3im7ZuDq3DqH",
        "outputId": "e105318d-f8f2-47a6-d40a-7d1a711ae3a2"
      },
      "outputs": [],
      "source": [
        "from tensorflow.keras.datasets import fashion_mnist\n",
        "(X_train, y_train), (X_test, y_test) = fashion_mnist.load_data()"
      ]
    },
    {
      "cell_type": "code",
      "execution_count": 9,
      "metadata": {
        "colab": {
          "base_uri": "https://localhost:8080/",
          "height": 448
        },
        "id": "d3D1J4Uy3GPZ",
        "outputId": "cd739fb0-037e-4ae6-f2ff-6d0346042d57"
      },
      "outputs": [
        {
          "data": {
            "text/plain": [
              "<matplotlib.image.AxesImage at 0x1d8d042cd00>"
            ]
          },
          "execution_count": 9,
          "metadata": {},
          "output_type": "execute_result"
        },
        {
          "data": {
            "image/png": "[encoded data removed]",
            "text/plain": [
              "<Figure size 432x288 with 1 Axes>"
            ]
          },
          "metadata": {
            "needs_background": "light"
          },
          "output_type": "display_data"
        }
      ],
      "source": [
        "plt.imshow(X_train[np.random.randint(60000)], cmap='gray')"
      ]
    },
    {
      "attachments": {},
      "cell_type": "markdown",
      "metadata": {
        "id": "TrDRzXAJ3kw1"
      },
      "source": [
        "# Model\n",
        "\n"
      ]
    },
    {
      "cell_type": "code",
      "execution_count": 33,
      "metadata": {
        "id": "3t8aABjH3jNw"
      },
      "outputs": [],
      "source": [
        "from tensorflow.keras.models import Sequential\n",
        "from tensorflow.keras.layers import Dense , Conv2D , Flatten\n",
        "model = Sequential()\n",
        "model.add(Conv2D(25 , (3,3) ,input_shape=(28, 28,1), activation='relu')),\n",
        "model.add(Conv2D(25 , (3,3) ,input_shape=(28, 28,1), activation='relu')),\n",
        "model.add(Flatten())\n",
        "model.add(Dense(28 * 28, activation = \"relu\"))\n",
        "model.add(Dense(512, activation = \"relu\"))\n",
        "model.add(Dense(256, activation = \"relu\"))\n",
        "model.add(Dense(128, activation = \"relu\"))\n",
        "model.add(Dense(10, activation = \"softmax\"))\n",
        "\n",
        "model.compile(optimizer='adam', loss='sparse_categorical_crossentropy', metrics=['accuracy'])"
      ]
    },
    {
      "cell_type": "code",
      "execution_count": 34,
      "metadata": {
        "id": "TzbRzskQ4W6X"
      },
      "outputs": [
        {
          "name": "stdout",
          "output_type": "stream",
          "text": [
            "Epoch 1/15\n",
            "1875/1875 [==============================] - 23s 10ms/step - loss: 0.8076 - accuracy: 0.8465 - val_loss: 0.3571 - val_accuracy: 0.8773\n",
            "Epoch 2/15\n",
            "1875/1875 [==============================] - 19s 10ms/step - loss: 0.2606 - accuracy: 0.9056 - val_loss: 0.2959 - val_accuracy: 0.8967\n",
            "Epoch 3/15\n",
            "1875/1875 [==============================] - 19s 10ms/step - loss: 0.1952 - accuracy: 0.9283 - val_loss: 0.3275 - val_accuracy: 0.8909\n",
            "Epoch 4/15\n",
            "1875/1875 [==============================] - 20s 11ms/step - loss: 0.1532 - accuracy: 0.9456 - val_loss: 0.3940 - val_accuracy: 0.8944\n",
            "Epoch 5/15\n",
            "1875/1875 [==============================] - 19s 10ms/step - loss: 0.1171 - accuracy: 0.9595 - val_loss: 0.4859 - val_accuracy: 0.8937\n",
            "Epoch 6/15\n",
            "1875/1875 [==============================] - 18s 10ms/step - loss: 0.0946 - accuracy: 0.9692 - val_loss: 0.5312 - val_accuracy: 0.8894\n",
            "Epoch 7/15\n",
            "1875/1875 [==============================] - 18s 10ms/step - loss: 0.0787 - accuracy: 0.9750 - val_loss: 0.5282 - val_accuracy: 0.8949\n",
            "Epoch 8/15\n",
            "1875/1875 [==============================] - 19s 10ms/step - loss: 0.0681 - accuracy: 0.9796 - val_loss: 0.6668 - val_accuracy: 0.8931\n",
            "Epoch 9/15\n",
            "1875/1875 [==============================] - 19s 10ms/step - loss: 0.0520 - accuracy: 0.9845 - val_loss: 0.8056 - val_accuracy: 0.8949\n",
            "Epoch 10/15\n",
            "1875/1875 [==============================] - 20s 11ms/step - loss: 0.0424 - accuracy: 0.9877 - val_loss: 0.7664 - val_accuracy: 0.8946\n",
            "Epoch 11/15\n",
            "1875/1875 [==============================] - 20s 11ms/step - loss: 0.0513 - accuracy: 0.9866 - val_loss: 0.8653 - val_accuracy: 0.8895\n",
            "Epoch 12/15\n",
            "1875/1875 [==============================] - 21s 11ms/step - loss: 0.0328 - accuracy: 0.9915 - val_loss: 0.9875 - val_accuracy: 0.8830\n",
            "Epoch 13/15\n",
            "1875/1875 [==============================] - 20s 11ms/step - loss: 0.0521 - accuracy: 0.9878 - val_loss: 0.8766 - val_accuracy: 0.8924\n",
            "Epoch 14/15\n",
            "1875/1875 [==============================] - 22s 12ms/step - loss: 0.0304 - accuracy: 0.9922 - val_loss: 0.8070 - val_accuracy: 0.8933\n",
            "Epoch 15/15\n",
            "1875/1875 [==============================] - 22s 12ms/step - loss: 0.0368 - accuracy: 0.9918 - val_loss: 0.9498 - val_accuracy: 0.8844\n"
          ]
        }
      ],
      "source": [
        "history = model.fit(X_train,y_train ,epochs=15, validation_data=(X_test,y_test))"
      ]
    },
    {
      "attachments": {},
      "cell_type": "markdown",
      "metadata": {},
      "source": [
        "## Plotting"
      ]
    },
    {
      "cell_type": "code",
      "execution_count": 41,
      "metadata": {
        "id": "M47wVpC34u8K"
      },
      "outputs": [
        {
          "data": {
            "text/plain": [
              "<matplotlib.legend.Legend at 0x1daa75e1ca0>"
            ]
          },
          "execution_count": 41,
          "metadata": {},
          "output_type": "execute_result"
        },
        {
          "data": {
            "image/png": "[encoded data removed]",
            "text/plain": [
              "<Figure size 432x288 with 1 Axes>"
            ]
          },
          "metadata": {
            "needs_background": "light"
          },
          "output_type": "display_data"
        }
      ],
      "source": [
        "plt.plot(history.history['accuracy'] , label='Accuracy')\n",
        "plt.ylabel('accuracy')\n",
        "plt.legend()\n"
      ]
    },
    {
      "cell_type": "code",
      "execution_count": 82,
      "metadata": {},
      "outputs": [],
      "source": [
        "y_pred = model.predict(X_test)\n",
        "y_pred = np.argmax(y_pred , axis=1)\n"
      ]
    },
    {
      "cell_type": "code",
      "execution_count": 119,
      "metadata": {},
      "outputs": [
        {
          "data": {
            "text/plain": [
              "Text(0.5, 1.0, 'Predicted = 0 True Label = 0')"
            ]
          },
          "execution_count": 119,
          "metadata": {},
          "output_type": "execute_result"
        },
        {
          "data": {
            "image/png": "[encoded data removed]",
            "text/plain": [
              "<Figure size 432x288 with 4 Axes>"
            ]
          },
          "metadata": {
            "needs_background": "light"
          },
          "output_type": "display_data"
        }
      ],
      "source": [
        "indices = np.random.randint(low=0 , high=10000,size=4)\n",
        "figure, axis = plt.subplots(2, 2)\n",
        "\n",
        "figure.subplots_adjust(wspace=0.5 , hspace=0.5)\n",
        "axis[0,0].imshow(X_test[indices[0]] , cmap='gray' )\n",
        "axis[0, 0].set_title(f\"Predicted = {y_pred[indices[0]]} True Label = {y_test[indices[0]]}\")\n",
        "axis[0,1].imshow(X_test[indices[1]] , cmap='gray')\n",
        "axis[0, 1].set_title(f\"Predicted = {y_pred[indices[1]]} True Label = {y_test[indices[1]]}\")\n",
        "axis[1,0].imshow(X_test[indices[2]], cmap='gray')\n",
        "axis[1, 0].set_title(f\"Predicted = {y_pred[indices[2]]} True Label = {y_test[indices[2]]}\")\n",
        "axis[1,1].imshow(X_test[indices[3]] , cmap='gray')\n",
        "axis[1, 1].set_title(f\"Predicted = {y_pred[indices[3]]} True Label = {y_test[indices[3]]}\")\n"
      ]
    }
  ],
  "metadata": {
    "colab": {
      "provenance": []
    },
    "kernelspec": {
      "display_name": "Python 3",
      "name": "python3"
    },
    "language_info": {
      "codemirror_mode": {
        "name": "ipython",
        "version": 3
      },
      "file_extension": ".py",
      "mimetype": "text/x-python",
      "name": "python",
      "nbconvert_exporter": "python",
      "pygments_lexer": "ipython3",
      "version": "3.9.0"
    }
  },
  "nbformat": 4,
  "nbformat_minor": 0
}
