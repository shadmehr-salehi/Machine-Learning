{
 "cells": [
  {
   "attachments": {},
   "cell_type": "markdown",
   "metadata": {},
   "source": [
    "## Import Depencdencies"
   ]
  },
  {
   "cell_type": "code",
   "execution_count": 10,
   "metadata": {},
   "outputs": [],
   "source": [
    "# from tensorflow.keras.layers import Dense , Flatten \n",
    "# from tensorflow.keras.models import Sequential\n",
    "# from tensorflow.keras.activations import relu,sigmoid,linear , softmax\n",
    "# from tensorflow.keras.losses import CategoricalCrossentropy\n",
    "import numpy as np\n",
    "import tensorflow as tf \n",
    "import matplotlib.pyplot as plt\n",
    "from sklearn.preprocessing import MinMaxScaler"
   ]
  },
  {
   "attachments": {},
   "cell_type": "markdown",
   "metadata": {},
   "source": [
    "## Pre Processing"
   ]
  },
  {
   "cell_type": "code",
   "execution_count": 11,
   "metadata": {},
   "outputs": [],
   "source": [
    "(x_train , y_train), (x_test,y_test) = tf.keras.datasets.mnist.load_data()"
   ]
  },
  {
   "cell_type": "code",
   "execution_count": 27,
   "metadata": {},
   "outputs": [
    {
     "data": {
      "text/plain": [
       "(60000, 784)"
      ]
     },
     "execution_count": 27,
     "metadata": {},
     "output_type": "execute_result"
    }
   ],
   "source": [
    "\n",
    "x_train = x_train.reshape(-1, 28*28)\n",
    "x_test = x_test.reshape(-1, 28*28)\n",
    "x_train.shape"
   ]
  },
  {
   "cell_type": "code",
   "execution_count": 28,
   "metadata": {},
   "outputs": [],
   "source": [
    "scalar = MinMaxScaler()\n",
    "scalar.fit(x_train)\n",
    "x_train = scalar.transform(x_train)\n",
    "x_test = scalar.transform(x_test)"
   ]
  },
  {
   "cell_type": "code",
   "execution_count": 37,
   "metadata": {},
   "outputs": [
    {
     "data": {
      "text/plain": [
       "(60000, 28, 28, 1)"
      ]
     },
     "execution_count": 37,
     "metadata": {},
     "output_type": "execute_result"
    }
   ],
   "source": [
    "x_train = x_train.reshape(-1 , 28 , 28 , 1)\n",
    "x_test = x_test.reshape(-1 , 28 , 28 ,1)\n",
    "x_train.shape\n"
   ]
  },
  {
   "cell_type": "code",
   "execution_count": 38,
   "metadata": {},
   "outputs": [],
   "source": [
    "tf.random.set_seed(1234) # for consistent results\n",
    "model = tf.keras.models.Sequential([\n",
    "    tf.keras.Input(x_train.shape[1:]),\n",
    "    tf.keras.layers.Conv2D(16 , (3,3) , activation='relu'),\n",
    "    tf.keras.layers.Conv2D(16 ,  (3,3) , activation='relu'),\n",
    "    tf.keras.layers.Flatten(),\n",
    "    tf.keras.layers.Dense(32 , activation=\"relu\"),\n",
    "    tf.keras.layers.Dense(10 , activation=\"softmax\"),\n",
    "    \n",
    "])"
   ]
  },
  {
   "cell_type": "code",
   "execution_count": 42,
   "metadata": {},
   "outputs": [],
   "source": [
    "model.compile(\n",
    "    loss=tf.keras.losses.SparseCategoricalCrossentropy(from_logits=True),\n",
    "    optimizer=tf.keras.optimizers.Adam(learning_rate=0.001),\n",
    "    metrics=['accuracy'] , \n",
    ")"
   ]
  },
  {
   "cell_type": "code",
   "execution_count": 43,
   "metadata": {},
   "outputs": [
    {
     "name": "stdout",
     "output_type": "stream",
     "text": [
      "Model: \"sequential_2\"\n",
      "_________________________________________________________________\n",
      " Layer (type)                Output Shape              Param #   \n",
      "=================================================================\n",
      " conv2d_4 (Conv2D)           (None, 26, 26, 16)        160       \n",
      "                                                                 \n",
      " conv2d_5 (Conv2D)           (None, 24, 24, 16)        2320      \n",
      "                                                                 \n",
      " flatten_2 (Flatten)         (None, 9216)              0         \n",
      "                                                                 \n",
      " dense_4 (Dense)             (None, 32)                294944    \n",
      "                                                                 \n",
      " dense_5 (Dense)             (None, 10)                330       \n",
      "                                                                 \n",
      "=================================================================\n",
      "Total params: 297,754\n",
      "Trainable params: 297,754\n",
      "Non-trainable params: 0\n",
      "_________________________________________________________________\n"
     ]
    }
   ],
   "source": [
    "model.summary()"
   ]
  },
  {
   "cell_type": "code",
   "execution_count": 52,
   "metadata": {},
   "outputs": [
    {
     "name": "stdout",
     "output_type": "stream",
     "text": [
      "Epoch 1/20\n",
      "1873/1875 [============================>.] - ETA: 0s - loss: 0.0023 - accuracy: 0.9991"
     ]
    },
    {
     "name": "stderr",
     "output_type": "stream",
     "text": [
      "C:\\Users\\shadm\\AppData\\Roaming\\Python\\Python39\\site-packages\\tensorflow\\python\\util\\dispatch.py:1096: UserWarning: \"`sparse_categorical_crossentropy` received `from_logits=True`, but the `output` argument was produced by a sigmoid or softmax activation and thus does not represent logits. Was this intended?\"\n",
      "  return dispatch_target(*args, **kwargs)\n"
     ]
    },
    {
     "name": "stdout",
     "output_type": "stream",
     "text": [
      "1875/1875 [==============================] - 34s 18ms/step - loss: 0.0023 - accuracy: 0.9991 - val_loss: 0.0807 - val_accuracy: 0.9873\n",
      "Epoch 2/20\n",
      "1875/1875 [==============================] - 37s 20ms/step - loss: 0.0022 - accuracy: 0.9993 - val_loss: 0.0837 - val_accuracy: 0.9875\n",
      "Epoch 3/20\n",
      "1875/1875 [==============================] - 36s 19ms/step - loss: 0.0014 - accuracy: 0.9995 - val_loss: 0.1223 - val_accuracy: 0.9817\n",
      "Epoch 4/20\n",
      "1875/1875 [==============================] - 31s 17ms/step - loss: 0.0025 - accuracy: 0.9992 - val_loss: 0.0909 - val_accuracy: 0.9865\n",
      "Epoch 5/20\n",
      "1875/1875 [==============================] - 33s 18ms/step - loss: 0.0022 - accuracy: 0.9994 - val_loss: 0.1071 - val_accuracy: 0.9868\n",
      "Epoch 6/20\n",
      "1875/1875 [==============================] - 32s 17ms/step - loss: 0.0024 - accuracy: 0.9992 - val_loss: 0.1207 - val_accuracy: 0.9854\n",
      "Epoch 7/20\n",
      "1875/1875 [==============================] - 36s 19ms/step - loss: 0.0013 - accuracy: 0.9996 - val_loss: 0.1009 - val_accuracy: 0.9864\n",
      "Epoch 8/20\n",
      "1875/1875 [==============================] - 36s 19ms/step - loss: 0.0017 - accuracy: 0.9995 - val_loss: 0.1235 - val_accuracy: 0.9855\n",
      "Epoch 9/20\n",
      "1875/1875 [==============================] - 36s 19ms/step - loss: 0.0029 - accuracy: 0.9991 - val_loss: 0.1231 - val_accuracy: 0.9845\n",
      "Epoch 10/20\n",
      "1875/1875 [==============================] - 38s 20ms/step - loss: 0.0017 - accuracy: 0.9995 - val_loss: 0.1132 - val_accuracy: 0.9865\n",
      "Epoch 11/20\n",
      "1875/1875 [==============================] - 35s 19ms/step - loss: 0.0024 - accuracy: 0.9993 - val_loss: 0.1247 - val_accuracy: 0.9848\n",
      "Epoch 12/20\n",
      "1875/1875 [==============================] - 35s 18ms/step - loss: 0.0026 - accuracy: 0.9991 - val_loss: 0.1087 - val_accuracy: 0.9864\n",
      "Epoch 13/20\n",
      "1875/1875 [==============================] - 33s 18ms/step - loss: 0.0014 - accuracy: 0.9996 - val_loss: 0.1181 - val_accuracy: 0.9850\n",
      "Epoch 14/20\n",
      "1875/1875 [==============================] - 35s 18ms/step - loss: 0.0015 - accuracy: 0.9994 - val_loss: 0.1062 - val_accuracy: 0.9878\n",
      "Epoch 15/20\n",
      "1875/1875 [==============================] - 35s 18ms/step - loss: 0.0018 - accuracy: 0.9995 - val_loss: 0.1095 - val_accuracy: 0.9856\n",
      "Epoch 16/20\n",
      "1875/1875 [==============================] - 35s 19ms/step - loss: 0.0019 - accuracy: 0.9995 - val_loss: 0.1090 - val_accuracy: 0.9860\n",
      "Epoch 17/20\n",
      "1875/1875 [==============================] - 37s 20ms/step - loss: 0.0012 - accuracy: 0.9997 - val_loss: 0.1446 - val_accuracy: 0.9836\n",
      "Epoch 18/20\n",
      "1875/1875 [==============================] - 34s 18ms/step - loss: 0.0025 - accuracy: 0.9994 - val_loss: 0.1262 - val_accuracy: 0.9865\n",
      "Epoch 19/20\n",
      "1875/1875 [==============================] - 34s 18ms/step - loss: 0.0014 - accuracy: 0.9995 - val_loss: 0.1399 - val_accuracy: 0.9854\n",
      "Epoch 20/20\n",
      "1875/1875 [==============================] - 33s 18ms/step - loss: 0.0019 - accuracy: 0.9994 - val_loss: 0.1116 - val_accuracy: 0.9865\n"
     ]
    }
   ],
   "source": [
    "history = model.fit(\n",
    "    x_train,y_train,\n",
    "    epochs=20 , \n",
    "    validation_data = (x_test, y_test)\n",
    ")"
   ]
  },
  {
   "cell_type": "code",
   "execution_count": 53,
   "metadata": {},
   "outputs": [
    {
     "data": {
      "text/plain": [
       "<function matplotlib.pyplot.show(close=None, block=None)>"
      ]
     },
     "execution_count": 53,
     "metadata": {},
     "output_type": "execute_result"
    },
    {
     "data": {
      "image/png": "[encoded data removed]",
      "text/plain": [
       "<Figure size 432x288 with 1 Axes>"
      ]
     },
     "metadata": {
      "needs_background": "light"
     },
     "output_type": "display_data"
    }
   ],
   "source": [
    "plt.plot(history.history['accuracy'],label='train')\n",
    "plt.ylabel('accuracy')\n",
    "plt.legend()\n",
    "plt.show"
   ]
  },
  {
   "cell_type": "code",
   "execution_count": 55,
   "metadata": {},
   "outputs": [],
   "source": [
    "probs = model.predict(x_test[:150])\n",
    "preds = np.argmax(probs , axis=1)"
   ]
  },
  {
   "cell_type": "code",
   "execution_count": 71,
   "metadata": {},
   "outputs": [
    {
     "name": "stdout",
     "output_type": "stream",
     "text": [
      "3\n"
     ]
    },
    {
     "data": {
      "text/plain": [
       "<matplotlib.image.AxesImage at 0x269654742e0>"
      ]
     },
     "execution_count": 71,
     "metadata": {},
     "output_type": "execute_result"
    },
    {
     "data": {
      "image/png": "[encoded data removed]",
      "text/plain": [
       "<Figure size 432x288 with 1 Axes>"
      ]
     },
     "metadata": {
      "needs_background": "light"
     },
     "output_type": "display_data"
    }
   ],
   "source": [
    "print(preds[90])\n",
    "plt.imshow(x_test[90] , cmap='gray')"
   ]
  },
  {
   "cell_type": "code",
   "execution_count": null,
   "metadata": {},
   "outputs": [],
   "source": []
  }
 ],
 "metadata": {
  "kernelspec": {
   "display_name": "Python 3",
   "language": "python",
   "name": "python3"
  },
  "language_info": {
   "codemirror_mode": {
    "name": "ipython",
    "version": 3
   },
   "file_extension": ".py",
   "mimetype": "text/x-python",
   "name": "python",
   "nbconvert_exporter": "python",
   "pygments_lexer": "ipython3",
   "version": "3.9.0"
  },
  "orig_nbformat": 4,
  "vscode": {
   "interpreter": {
    "hash": "4be3d54b81ad998a9f2940af1a2b6aca7f01044fd1742be353bf2e3ce1ea4058"
   }
  }
 },
 "nbformat": 4,
 "nbformat_minor": 2
}
