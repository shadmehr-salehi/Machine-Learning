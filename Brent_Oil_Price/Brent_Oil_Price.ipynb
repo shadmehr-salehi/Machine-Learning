{
 "cells": [
  {
   "attachments": {},
   "cell_type": "markdown",
   "metadata": {},
   "source": [
    "## Project brent oil"
   ]
  },
  {
   "attachments": {},
   "cell_type": "markdown",
   "metadata": {},
   "source": [
    "We have brent oil prices weekly for 30 years written in `brent_oil_weekly_30_years.csv` <br>\n",
    "Contains `Date`  , `Open` , `High` , `Low` , `Vol` and `Change` As Features and ,`Price` as Target. <br>\n",
    "The Goal Of This Project is To Build A `Time Series` Model And Predict Price Bases On Previous Datas.\n",
    "\n"
   ]
  },
  {
   "attachments": {},
   "cell_type": "markdown",
   "metadata": {},
   "source": [
    "### Import Dependencies"
   ]
  },
  {
   "cell_type": "code",
   "execution_count": 86,
   "metadata": {},
   "outputs": [],
   "source": [
    "import numpy as np\n",
    "import pandas as pd\n",
    "import matplotlib.pyplot as plt \n",
    "\n",
    "\n",
    "import warnings\n",
    "warnings.filterwarnings('ignore')"
   ]
  },
  {
   "cell_type": "code",
   "execution_count": 87,
   "metadata": {},
   "outputs": [
    {
     "data": {
      "text/html": [
       "<div>\n",
       "<style scoped>\n",
       "    .dataframe tbody tr th:only-of-type {\n",
       "        vertical-align: middle;\n",
       "    }\n",
       "\n",
       "    .dataframe tbody tr th {\n",
       "        vertical-align: top;\n",
       "    }\n",
       "\n",
       "    .dataframe thead th {\n",
       "        text-align: right;\n",
       "    }\n",
       "</style>\n",
       "<table border=\"1\" class=\"dataframe\">\n",
       "  <thead>\n",
       "    <tr style=\"text-align: right;\">\n",
       "      <th></th>\n",
       "      <th>Date</th>\n",
       "      <th>Price</th>\n",
       "      <th>Open</th>\n",
       "      <th>High</th>\n",
       "      <th>Low</th>\n",
       "      <th>Vol.</th>\n",
       "      <th>Change %</th>\n",
       "    </tr>\n",
       "  </thead>\n",
       "  <tbody>\n",
       "    <tr>\n",
       "      <th>0</th>\n",
       "      <td>04/09/2023</td>\n",
       "      <td>84.46</td>\n",
       "      <td>85.23</td>\n",
       "      <td>85.52</td>\n",
       "      <td>84.11</td>\n",
       "      <td>NaN</td>\n",
       "      <td>-0.78%</td>\n",
       "    </tr>\n",
       "    <tr>\n",
       "      <th>1</th>\n",
       "      <td>04/02/2023</td>\n",
       "      <td>85.12</td>\n",
       "      <td>86.00</td>\n",
       "      <td>86.44</td>\n",
       "      <td>83.50</td>\n",
       "      <td>1.29M</td>\n",
       "      <td>6.55%</td>\n",
       "    </tr>\n",
       "    <tr>\n",
       "      <th>2</th>\n",
       "      <td>03/26/2023</td>\n",
       "      <td>79.89</td>\n",
       "      <td>74.62</td>\n",
       "      <td>79.95</td>\n",
       "      <td>74.39</td>\n",
       "      <td>1.68M</td>\n",
       "      <td>6.53%</td>\n",
       "    </tr>\n",
       "    <tr>\n",
       "      <th>3</th>\n",
       "      <td>03/19/2023</td>\n",
       "      <td>74.99</td>\n",
       "      <td>73.01</td>\n",
       "      <td>77.44</td>\n",
       "      <td>70.12</td>\n",
       "      <td>1.06M</td>\n",
       "      <td>2.77%</td>\n",
       "    </tr>\n",
       "    <tr>\n",
       "      <th>4</th>\n",
       "      <td>03/12/2023</td>\n",
       "      <td>72.97</td>\n",
       "      <td>82.60</td>\n",
       "      <td>83.48</td>\n",
       "      <td>71.40</td>\n",
       "      <td>2.13M</td>\n",
       "      <td>-11.85%</td>\n",
       "    </tr>\n",
       "    <tr>\n",
       "      <th>...</th>\n",
       "      <td>...</td>\n",
       "      <td>...</td>\n",
       "      <td>...</td>\n",
       "      <td>...</td>\n",
       "      <td>...</td>\n",
       "      <td>...</td>\n",
       "      <td>...</td>\n",
       "    </tr>\n",
       "    <tr>\n",
       "      <th>1561</th>\n",
       "      <td>05/09/1993</td>\n",
       "      <td>18.60</td>\n",
       "      <td>19.25</td>\n",
       "      <td>19.27</td>\n",
       "      <td>18.51</td>\n",
       "      <td>89.64K</td>\n",
       "      <td>-3.07%</td>\n",
       "    </tr>\n",
       "    <tr>\n",
       "      <th>1562</th>\n",
       "      <td>05/02/1993</td>\n",
       "      <td>19.19</td>\n",
       "      <td>19.25</td>\n",
       "      <td>19.30</td>\n",
       "      <td>18.96</td>\n",
       "      <td>78.82K</td>\n",
       "      <td>0.21%</td>\n",
       "    </tr>\n",
       "    <tr>\n",
       "      <th>1563</th>\n",
       "      <td>04/25/1993</td>\n",
       "      <td>19.15</td>\n",
       "      <td>18.98</td>\n",
       "      <td>19.24</td>\n",
       "      <td>18.72</td>\n",
       "      <td>67.36K</td>\n",
       "      <td>1.27%</td>\n",
       "    </tr>\n",
       "    <tr>\n",
       "      <th>1564</th>\n",
       "      <td>04/18/1993</td>\n",
       "      <td>18.91</td>\n",
       "      <td>18.82</td>\n",
       "      <td>18.98</td>\n",
       "      <td>18.71</td>\n",
       "      <td>77.49K</td>\n",
       "      <td>0.53%</td>\n",
       "    </tr>\n",
       "    <tr>\n",
       "      <th>1565</th>\n",
       "      <td>04/11/1993</td>\n",
       "      <td>18.81</td>\n",
       "      <td>18.98</td>\n",
       "      <td>19.03</td>\n",
       "      <td>18.73</td>\n",
       "      <td>79.20K</td>\n",
       "      <td>0.21%</td>\n",
       "    </tr>\n",
       "  </tbody>\n",
       "</table>\n",
       "<p>1566 rows × 7 columns</p>\n",
       "</div>"
      ],
      "text/plain": [
       "            Date  Price   Open   High    Low    Vol. Change %\n",
       "0     04/09/2023  84.46  85.23  85.52  84.11     NaN   -0.78%\n",
       "1     04/02/2023  85.12  86.00  86.44  83.50   1.29M    6.55%\n",
       "2     03/26/2023  79.89  74.62  79.95  74.39   1.68M    6.53%\n",
       "3     03/19/2023  74.99  73.01  77.44  70.12   1.06M    2.77%\n",
       "4     03/12/2023  72.97  82.60  83.48  71.40   2.13M  -11.85%\n",
       "...          ...    ...    ...    ...    ...     ...      ...\n",
       "1561  05/09/1993  18.60  19.25  19.27  18.51  89.64K   -3.07%\n",
       "1562  05/02/1993  19.19  19.25  19.30  18.96  78.82K    0.21%\n",
       "1563  04/25/1993  19.15  18.98  19.24  18.72  67.36K    1.27%\n",
       "1564  04/18/1993  18.91  18.82  18.98  18.71  77.49K    0.53%\n",
       "1565  04/11/1993  18.81  18.98  19.03  18.73  79.20K    0.21%\n",
       "\n",
       "[1566 rows x 7 columns]"
      ]
     },
     "execution_count": 87,
     "metadata": {},
     "output_type": "execute_result"
    }
   ],
   "source": [
    "df = pd.read_csv('brent_oil_weekly_30_years.csv')\n",
    "df"
   ]
  },
  {
   "attachments": {},
   "cell_type": "markdown",
   "metadata": {},
   "source": [
    "### Pre Processing"
   ]
  },
  {
   "attachments": {},
   "cell_type": "markdown",
   "metadata": {},
   "source": [
    "#### Changing Date To DateTime Object"
   ]
  },
  {
   "cell_type": "code",
   "execution_count": 88,
   "metadata": {},
   "outputs": [
    {
     "data": {
      "text/plain": [
       "dtype('O')"
      ]
     },
     "execution_count": 88,
     "metadata": {},
     "output_type": "execute_result"
    }
   ],
   "source": [
    "df[\"Date\"] = pd.to_datetime(df[\"Date\"])\n",
    "# df.set_index(\"Date\", inplace=True)\n",
    "\n",
    "df['Change %'].dtype"
   ]
  },
  {
   "attachments": {},
   "cell_type": "markdown",
   "metadata": {},
   "source": [
    "#### Checking For NaN Values"
   ]
  },
  {
   "cell_type": "code",
   "execution_count": 89,
   "metadata": {},
   "outputs": [
    {
     "data": {
      "text/plain": [
       "Date        0\n",
       "Price       0\n",
       "Open        0\n",
       "High        0\n",
       "Low         0\n",
       "Vol.        1\n",
       "Change %    0\n",
       "dtype: int64"
      ]
     },
     "execution_count": 89,
     "metadata": {},
     "output_type": "execute_result"
    }
   ],
   "source": [
    "df.isna().sum()"
   ]
  },
  {
   "attachments": {},
   "cell_type": "markdown",
   "metadata": {},
   "source": [
    "#### Convert M to Million and K to Killo "
   ]
  },
  {
   "cell_type": "code",
   "execution_count": 90,
   "metadata": {},
   "outputs": [],
   "source": [
    "# remove M and K's\n",
    "def convert_volume(val):\n",
    "    if val[-1] == 'M':\n",
    "        return int(float(val[:-1]) * 1000000)\n",
    "    elif val[-1] == 'K':\n",
    "        return int(float(val[:-1]) * 1000)\n",
    "    else:\n",
    "        return int(val)"
   ]
  },
  {
   "cell_type": "code",
   "execution_count": 91,
   "metadata": {},
   "outputs": [],
   "source": [
    "df['Vol.'] = df['Vol.'].astype('str')\n",
    "df['Vol.'][0] = '0'\n",
    "df['Vol.'] = df['Vol.'].apply(convert_volume)\n",
    "df['Vol.'][0] = int(df['Vol.'].mean())"
   ]
  },
  {
   "cell_type": "code",
   "execution_count": 92,
   "metadata": {},
   "outputs": [
    {
     "data": {
      "text/plain": [
       "0        601114\n",
       "1       1290000\n",
       "2       1680000\n",
       "3       1060000\n",
       "4       2130000\n",
       "         ...   \n",
       "1561      89640\n",
       "1562      78820\n",
       "1563      67360\n",
       "1564      77490\n",
       "1565      79200\n",
       "Name: Vol., Length: 1566, dtype: int64"
      ]
     },
     "execution_count": 92,
     "metadata": {},
     "output_type": "execute_result"
    }
   ],
   "source": [
    "df['Vol.']"
   ]
  },
  {
   "attachments": {},
   "cell_type": "markdown",
   "metadata": {},
   "source": [
    "#### Convert Percentages to Number"
   ]
  },
  {
   "cell_type": "code",
   "execution_count": 93,
   "metadata": {},
   "outputs": [],
   "source": [
    "df['Change %'] = pd.to_numeric(df['Change %'].str.strip('%')) \n"
   ]
  },
  {
   "cell_type": "code",
   "execution_count": 94,
   "metadata": {},
   "outputs": [
    {
     "data": {
      "text/plain": [
       "0    -0.78\n",
       "1     6.55\n",
       "2     6.53\n",
       "3     2.77\n",
       "4   -11.85\n",
       "Name: Change %, dtype: float64"
      ]
     },
     "execution_count": 94,
     "metadata": {},
     "output_type": "execute_result"
    }
   ],
   "source": [
    "df['Change %'].head()"
   ]
  },
  {
   "attachments": {},
   "cell_type": "markdown",
   "metadata": {},
   "source": [
    "### Plotting Features "
   ]
  },
  {
   "cell_type": "code",
   "execution_count": 95,
   "metadata": {},
   "outputs": [
    {
     "data": {
      "image/png": "[encoded data removed]",
      "text/plain": [
       "<Figure size 1440x720 with 6 Axes>"
      ]
     },
     "metadata": {
      "needs_background": "light"
     },
     "output_type": "display_data"
    }
   ],
   "source": [
    "fig, ax = plt.subplots(2, 3, figsize=(20, 10))\n",
    "\n",
    "Feature_Names = np.array(list(df.columns[1::]))\n",
    "Feature_Names = Feature_Names.reshape(2,3)\n",
    "\n",
    "for i , feature in enumerate(df.columns[1::]):\n",
    "    row = i // 3\n",
    "    col = i % 3\n",
    "    ax[row, col].plot(df[feature])\n",
    "    ax[row, col].set_title(Feature_Names[row][col])\n"
   ]
  },
  {
   "attachments": {},
   "cell_type": "markdown",
   "metadata": {},
   "source": [
    "### Defining Function To Make Time Series Based On a Given Data "
   ]
  },
  {
   "cell_type": "code",
   "execution_count": 96,
   "metadata": {},
   "outputs": [],
   "source": [
    "def make_time_series(df, n, m):\n",
    "    df_new = pd.DataFrame()\n",
    "    df_new['Date'] = df['Date']\n",
    "\n",
    "    for i in range(1, n+1):\n",
    "        df_new['Price_t-'+str(i)] = df['Price'].shift(i)\n",
    "        df_new['Open_t-'+str(i)] = df['Open'].shift(i)\n",
    "        df_new['High_t-'+str(i)] = df['High'].shift(i)\n",
    "        df_new['Low_t-'+str(i)] = df['Low'].shift(i)\n",
    "        df_new['Vol._t-'+str(i)] = df['Vol.'].shift(i)\n",
    "        df_new['Change %_t-'+str(i)] = df['Change %'].shift(i)\n",
    "\n",
    "    for i in range(1, m+1):\n",
    "        df_new['Price_t+'+str(i)] = df['Price'].shift(-i)\n",
    "\n",
    "    return df_new"
   ]
  },
  {
   "cell_type": "code",
   "execution_count": 132,
   "metadata": {},
   "outputs": [
    {
     "data": {
      "text/html": [
       "<div>\n",
       "<style scoped>\n",
       "    .dataframe tbody tr th:only-of-type {\n",
       "        vertical-align: middle;\n",
       "    }\n",
       "\n",
       "    .dataframe tbody tr th {\n",
       "        vertical-align: top;\n",
       "    }\n",
       "\n",
       "    .dataframe thead th {\n",
       "        text-align: right;\n",
       "    }\n",
       "</style>\n",
       "<table border=\"1\" class=\"dataframe\">\n",
       "  <thead>\n",
       "    <tr style=\"text-align: right;\">\n",
       "      <th></th>\n",
       "      <th>Date</th>\n",
       "      <th>Price_t-1</th>\n",
       "      <th>Open_t-1</th>\n",
       "      <th>High_t-1</th>\n",
       "      <th>Low_t-1</th>\n",
       "      <th>Vol._t-1</th>\n",
       "      <th>Change %_t-1</th>\n",
       "      <th>Price_t-2</th>\n",
       "      <th>Open_t-2</th>\n",
       "      <th>High_t-2</th>\n",
       "      <th>Low_t-2</th>\n",
       "      <th>Vol._t-2</th>\n",
       "      <th>Change %_t-2</th>\n",
       "      <th>Price_t+1</th>\n",
       "      <th>Price_t+2</th>\n",
       "      <th>Price_t+3</th>\n",
       "      <th>Price_t+4</th>\n",
       "    </tr>\n",
       "  </thead>\n",
       "  <tbody>\n",
       "    <tr>\n",
       "      <th>0</th>\n",
       "      <td>2023-04-09</td>\n",
       "      <td>NaN</td>\n",
       "      <td>NaN</td>\n",
       "      <td>NaN</td>\n",
       "      <td>NaN</td>\n",
       "      <td>NaN</td>\n",
       "      <td>NaN</td>\n",
       "      <td>NaN</td>\n",
       "      <td>NaN</td>\n",
       "      <td>NaN</td>\n",
       "      <td>NaN</td>\n",
       "      <td>NaN</td>\n",
       "      <td>NaN</td>\n",
       "      <td>85.12</td>\n",
       "      <td>79.89</td>\n",
       "      <td>74.99</td>\n",
       "      <td>72.97</td>\n",
       "    </tr>\n",
       "    <tr>\n",
       "      <th>1</th>\n",
       "      <td>2023-04-02</td>\n",
       "      <td>84.46</td>\n",
       "      <td>85.23</td>\n",
       "      <td>85.52</td>\n",
       "      <td>84.11</td>\n",
       "      <td>601114.0</td>\n",
       "      <td>-0.78</td>\n",
       "      <td>NaN</td>\n",
       "      <td>NaN</td>\n",
       "      <td>NaN</td>\n",
       "      <td>NaN</td>\n",
       "      <td>NaN</td>\n",
       "      <td>NaN</td>\n",
       "      <td>79.89</td>\n",
       "      <td>74.99</td>\n",
       "      <td>72.97</td>\n",
       "      <td>82.78</td>\n",
       "    </tr>\n",
       "    <tr>\n",
       "      <th>2</th>\n",
       "      <td>2023-03-26</td>\n",
       "      <td>85.12</td>\n",
       "      <td>86.00</td>\n",
       "      <td>86.44</td>\n",
       "      <td>83.50</td>\n",
       "      <td>1290000.0</td>\n",
       "      <td>6.55</td>\n",
       "      <td>84.46</td>\n",
       "      <td>85.23</td>\n",
       "      <td>85.52</td>\n",
       "      <td>84.11</td>\n",
       "      <td>601114.0</td>\n",
       "      <td>-0.78</td>\n",
       "      <td>74.99</td>\n",
       "      <td>72.97</td>\n",
       "      <td>82.78</td>\n",
       "      <td>85.83</td>\n",
       "    </tr>\n",
       "    <tr>\n",
       "      <th>3</th>\n",
       "      <td>2023-03-19</td>\n",
       "      <td>79.89</td>\n",
       "      <td>74.62</td>\n",
       "      <td>79.95</td>\n",
       "      <td>74.39</td>\n",
       "      <td>1680000.0</td>\n",
       "      <td>6.53</td>\n",
       "      <td>85.12</td>\n",
       "      <td>86.00</td>\n",
       "      <td>86.44</td>\n",
       "      <td>83.50</td>\n",
       "      <td>1290000.0</td>\n",
       "      <td>6.55</td>\n",
       "      <td>72.97</td>\n",
       "      <td>82.78</td>\n",
       "      <td>85.83</td>\n",
       "      <td>83.16</td>\n",
       "    </tr>\n",
       "    <tr>\n",
       "      <th>4</th>\n",
       "      <td>2023-03-12</td>\n",
       "      <td>74.99</td>\n",
       "      <td>73.01</td>\n",
       "      <td>77.44</td>\n",
       "      <td>70.12</td>\n",
       "      <td>1060000.0</td>\n",
       "      <td>2.77</td>\n",
       "      <td>79.89</td>\n",
       "      <td>74.62</td>\n",
       "      <td>79.95</td>\n",
       "      <td>74.39</td>\n",
       "      <td>1680000.0</td>\n",
       "      <td>6.53</td>\n",
       "      <td>82.78</td>\n",
       "      <td>85.83</td>\n",
       "      <td>83.16</td>\n",
       "      <td>83.00</td>\n",
       "    </tr>\n",
       "  </tbody>\n",
       "</table>\n",
       "</div>"
      ],
      "text/plain": [
       "        Date  Price_t-1  Open_t-1  High_t-1  Low_t-1   Vol._t-1  Change %_t-1  \\\n",
       "0 2023-04-09        NaN       NaN       NaN      NaN        NaN           NaN   \n",
       "1 2023-04-02      84.46     85.23     85.52    84.11   601114.0         -0.78   \n",
       "2 2023-03-26      85.12     86.00     86.44    83.50  1290000.0          6.55   \n",
       "3 2023-03-19      79.89     74.62     79.95    74.39  1680000.0          6.53   \n",
       "4 2023-03-12      74.99     73.01     77.44    70.12  1060000.0          2.77   \n",
       "\n",
       "   Price_t-2  Open_t-2  High_t-2  Low_t-2   Vol._t-2  Change %_t-2  Price_t+1  \\\n",
       "0        NaN       NaN       NaN      NaN        NaN           NaN      85.12   \n",
       "1        NaN       NaN       NaN      NaN        NaN           NaN      79.89   \n",
       "2      84.46     85.23     85.52    84.11   601114.0         -0.78      74.99   \n",
       "3      85.12     86.00     86.44    83.50  1290000.0          6.55      72.97   \n",
       "4      79.89     74.62     79.95    74.39  1680000.0          6.53      82.78   \n",
       "\n",
       "   Price_t+2  Price_t+3  Price_t+4  \n",
       "0      79.89      74.99      72.97  \n",
       "1      74.99      72.97      82.78  \n",
       "2      72.97      82.78      85.83  \n",
       "3      82.78      85.83      83.16  \n",
       "4      85.83      83.16      83.00  "
      ]
     },
     "execution_count": 132,
     "metadata": {},
     "output_type": "execute_result"
    }
   ],
   "source": [
    "ndf = make_time_series(df , 2 , 4 )\n",
    "ndf.head()"
   ]
  },
  {
   "attachments": {},
   "cell_type": "markdown",
   "metadata": {},
   "source": [
    "### Training Models Based On Time Series"
   ]
  },
  {
   "attachments": {},
   "cell_type": "markdown",
   "metadata": {},
   "source": [
    "Splitting Datas Before 2019 For Traing And Datas After 2019 For test "
   ]
  },
  {
   "cell_type": "code",
   "execution_count": 98,
   "metadata": {},
   "outputs": [],
   "source": [
    "\n",
    "test_data = df[df['Date'].dt.year >= 2019]\n",
    "train_data = df[df['Date'].dt.year < 2019]\n",
    "\n",
    "X_train = df[df['Date'].dt.year < 2019].drop('Price', axis=1)\n",
    "y_train = df[df['Date'].dt.year < 2019]['Price']\n",
    "\n",
    "\n",
    "y_test = df[df['Date'].dt.year >= 2019]['Price']"
   ]
  },
  {
   "cell_type": "code",
   "execution_count": 131,
   "metadata": {},
   "outputs": [],
   "source": [
    "X_Train_TimeSeries = make_time_series(train_data , 8 , 1)\n",
    "X_Train_TimeSeries = X_Train_TimeSeries.fillna(X_Train_TimeSeries.mean())\n",
    "X_Train_TimeSeries.drop('Date' , axis=1 , inplace=True)\n",
    "\n",
    "X_Test_TimeSeries  = make_time_series(test_data , 8 , 1)\n",
    "X_Test_TimeSeries  = X_Test_TimeSeries .fillna(X_Test_TimeSeries .mean())\n",
    "X_Test_TimeSeries.drop('Date' , axis=1 , inplace=True)\n",
    "\n",
    "\n"
   ]
  },
  {
   "cell_type": "code",
   "execution_count": 100,
   "metadata": {},
   "outputs": [
    {
     "data": {
      "text/html": [
       "<div>\n",
       "<style scoped>\n",
       "    .dataframe tbody tr th:only-of-type {\n",
       "        vertical-align: middle;\n",
       "    }\n",
       "\n",
       "    .dataframe tbody tr th {\n",
       "        vertical-align: top;\n",
       "    }\n",
       "\n",
       "    .dataframe thead th {\n",
       "        text-align: right;\n",
       "    }\n",
       "</style>\n",
       "<table border=\"1\" class=\"dataframe\">\n",
       "  <thead>\n",
       "    <tr style=\"text-align: right;\">\n",
       "      <th></th>\n",
       "      <th>Price_t-1</th>\n",
       "      <th>Price_t-2</th>\n",
       "      <th>Price_t-3</th>\n",
       "      <th>Price_t-4</th>\n",
       "      <th>Price_t-5</th>\n",
       "      <th>Price_t-6</th>\n",
       "      <th>Price_t-7</th>\n",
       "      <th>Price_t-8</th>\n",
       "      <th>Price_t+1</th>\n",
       "    </tr>\n",
       "  </thead>\n",
       "  <tbody>\n",
       "    <tr>\n",
       "      <th>223</th>\n",
       "      <td>52.649449</td>\n",
       "      <td>52.674609</td>\n",
       "      <td>52.699627</td>\n",
       "      <td>52.724653</td>\n",
       "      <td>52.750157</td>\n",
       "      <td>52.775826</td>\n",
       "      <td>52.801407</td>\n",
       "      <td>52.827243</td>\n",
       "      <td>52.200000</td>\n",
       "    </tr>\n",
       "    <tr>\n",
       "      <th>224</th>\n",
       "      <td>57.060000</td>\n",
       "      <td>52.674609</td>\n",
       "      <td>52.699627</td>\n",
       "      <td>52.724653</td>\n",
       "      <td>52.750157</td>\n",
       "      <td>52.775826</td>\n",
       "      <td>52.801407</td>\n",
       "      <td>52.827243</td>\n",
       "      <td>53.820000</td>\n",
       "    </tr>\n",
       "    <tr>\n",
       "      <th>225</th>\n",
       "      <td>52.200000</td>\n",
       "      <td>57.060000</td>\n",
       "      <td>52.699627</td>\n",
       "      <td>52.724653</td>\n",
       "      <td>52.750157</td>\n",
       "      <td>52.775826</td>\n",
       "      <td>52.801407</td>\n",
       "      <td>52.827243</td>\n",
       "      <td>60.280000</td>\n",
       "    </tr>\n",
       "    <tr>\n",
       "      <th>226</th>\n",
       "      <td>53.820000</td>\n",
       "      <td>52.200000</td>\n",
       "      <td>57.060000</td>\n",
       "      <td>52.724653</td>\n",
       "      <td>52.750157</td>\n",
       "      <td>52.775826</td>\n",
       "      <td>52.801407</td>\n",
       "      <td>52.827243</td>\n",
       "      <td>61.670000</td>\n",
       "    </tr>\n",
       "    <tr>\n",
       "      <th>227</th>\n",
       "      <td>60.280000</td>\n",
       "      <td>53.820000</td>\n",
       "      <td>52.200000</td>\n",
       "      <td>57.060000</td>\n",
       "      <td>52.750157</td>\n",
       "      <td>52.775826</td>\n",
       "      <td>52.801407</td>\n",
       "      <td>52.827243</td>\n",
       "      <td>58.710000</td>\n",
       "    </tr>\n",
       "    <tr>\n",
       "      <th>...</th>\n",
       "      <td>...</td>\n",
       "      <td>...</td>\n",
       "      <td>...</td>\n",
       "      <td>...</td>\n",
       "      <td>...</td>\n",
       "      <td>...</td>\n",
       "      <td>...</td>\n",
       "      <td>...</td>\n",
       "      <td>...</td>\n",
       "    </tr>\n",
       "    <tr>\n",
       "      <th>1561</th>\n",
       "      <td>18.430000</td>\n",
       "      <td>18.600000</td>\n",
       "      <td>18.310000</td>\n",
       "      <td>17.660000</td>\n",
       "      <td>17.560000</td>\n",
       "      <td>17.450000</td>\n",
       "      <td>16.740000</td>\n",
       "      <td>16.650000</td>\n",
       "      <td>19.190000</td>\n",
       "    </tr>\n",
       "    <tr>\n",
       "      <th>1562</th>\n",
       "      <td>18.600000</td>\n",
       "      <td>18.430000</td>\n",
       "      <td>18.600000</td>\n",
       "      <td>18.310000</td>\n",
       "      <td>17.660000</td>\n",
       "      <td>17.560000</td>\n",
       "      <td>17.450000</td>\n",
       "      <td>16.740000</td>\n",
       "      <td>19.150000</td>\n",
       "    </tr>\n",
       "    <tr>\n",
       "      <th>1563</th>\n",
       "      <td>19.190000</td>\n",
       "      <td>18.600000</td>\n",
       "      <td>18.430000</td>\n",
       "      <td>18.600000</td>\n",
       "      <td>18.310000</td>\n",
       "      <td>17.660000</td>\n",
       "      <td>17.560000</td>\n",
       "      <td>17.450000</td>\n",
       "      <td>18.910000</td>\n",
       "    </tr>\n",
       "    <tr>\n",
       "      <th>1564</th>\n",
       "      <td>19.150000</td>\n",
       "      <td>19.190000</td>\n",
       "      <td>18.600000</td>\n",
       "      <td>18.430000</td>\n",
       "      <td>18.600000</td>\n",
       "      <td>18.310000</td>\n",
       "      <td>17.660000</td>\n",
       "      <td>17.560000</td>\n",
       "      <td>18.810000</td>\n",
       "    </tr>\n",
       "    <tr>\n",
       "      <th>1565</th>\n",
       "      <td>18.910000</td>\n",
       "      <td>19.150000</td>\n",
       "      <td>19.190000</td>\n",
       "      <td>18.600000</td>\n",
       "      <td>18.430000</td>\n",
       "      <td>18.600000</td>\n",
       "      <td>18.310000</td>\n",
       "      <td>17.660000</td>\n",
       "      <td>52.620946</td>\n",
       "    </tr>\n",
       "  </tbody>\n",
       "</table>\n",
       "<p>1343 rows × 9 columns</p>\n",
       "</div>"
      ],
      "text/plain": [
       "      Price_t-1  Price_t-2  Price_t-3  Price_t-4  Price_t-5  Price_t-6  \\\n",
       "223   52.649449  52.674609  52.699627  52.724653  52.750157  52.775826   \n",
       "224   57.060000  52.674609  52.699627  52.724653  52.750157  52.775826   \n",
       "225   52.200000  57.060000  52.699627  52.724653  52.750157  52.775826   \n",
       "226   53.820000  52.200000  57.060000  52.724653  52.750157  52.775826   \n",
       "227   60.280000  53.820000  52.200000  57.060000  52.750157  52.775826   \n",
       "...         ...        ...        ...        ...        ...        ...   \n",
       "1561  18.430000  18.600000  18.310000  17.660000  17.560000  17.450000   \n",
       "1562  18.600000  18.430000  18.600000  18.310000  17.660000  17.560000   \n",
       "1563  19.190000  18.600000  18.430000  18.600000  18.310000  17.660000   \n",
       "1564  19.150000  19.190000  18.600000  18.430000  18.600000  18.310000   \n",
       "1565  18.910000  19.150000  19.190000  18.600000  18.430000  18.600000   \n",
       "\n",
       "      Price_t-7  Price_t-8  Price_t+1  \n",
       "223   52.801407  52.827243  52.200000  \n",
       "224   52.801407  52.827243  53.820000  \n",
       "225   52.801407  52.827243  60.280000  \n",
       "226   52.801407  52.827243  61.670000  \n",
       "227   52.801407  52.827243  58.710000  \n",
       "...         ...        ...        ...  \n",
       "1561  16.740000  16.650000  19.190000  \n",
       "1562  17.450000  16.740000  19.150000  \n",
       "1563  17.560000  17.450000  18.910000  \n",
       "1564  17.660000  17.560000  18.810000  \n",
       "1565  18.310000  17.660000  52.620946  \n",
       "\n",
       "[1343 rows x 9 columns]"
      ]
     },
     "execution_count": 100,
     "metadata": {},
     "output_type": "execute_result"
    }
   ],
   "source": [
    "import re\n",
    "\n",
    "i = 0\n",
    "indexes = []\n",
    "for column in X_Train_TimeSeries.columns:\n",
    "    if re.search('^Price', column):\n",
    "        indexes.append(i)\n",
    "    i += 1\n",
    "\n",
    "X_Train_TimeSeries = X_Train_TimeSeries.iloc[:,indexes]\n",
    "X_Train_TimeSeries"
   ]
  },
  {
   "cell_type": "code",
   "execution_count": 101,
   "metadata": {},
   "outputs": [
    {
     "data": {
      "text/html": [
       "<div>\n",
       "<style scoped>\n",
       "    .dataframe tbody tr th:only-of-type {\n",
       "        vertical-align: middle;\n",
       "    }\n",
       "\n",
       "    .dataframe tbody tr th {\n",
       "        vertical-align: top;\n",
       "    }\n",
       "\n",
       "    .dataframe thead th {\n",
       "        text-align: right;\n",
       "    }\n",
       "</style>\n",
       "<table border=\"1\" class=\"dataframe\">\n",
       "  <thead>\n",
       "    <tr style=\"text-align: right;\">\n",
       "      <th></th>\n",
       "      <th>Price_t-1</th>\n",
       "      <th>Price_t-2</th>\n",
       "      <th>Price_t-3</th>\n",
       "      <th>Price_t-4</th>\n",
       "      <th>Price_t-5</th>\n",
       "      <th>Price_t-6</th>\n",
       "      <th>Price_t-7</th>\n",
       "      <th>Price_t-8</th>\n",
       "      <th>Price_t+1</th>\n",
       "    </tr>\n",
       "  </thead>\n",
       "  <tbody>\n",
       "    <tr>\n",
       "      <th>0</th>\n",
       "      <td>70.44018</td>\n",
       "      <td>70.475204</td>\n",
       "      <td>70.515364</td>\n",
       "      <td>70.550822</td>\n",
       "      <td>70.589587</td>\n",
       "      <td>70.609585</td>\n",
       "      <td>70.625741</td>\n",
       "      <td>70.651581</td>\n",
       "      <td>85.120000</td>\n",
       "    </tr>\n",
       "    <tr>\n",
       "      <th>1</th>\n",
       "      <td>84.46000</td>\n",
       "      <td>70.475204</td>\n",
       "      <td>70.515364</td>\n",
       "      <td>70.550822</td>\n",
       "      <td>70.589587</td>\n",
       "      <td>70.609585</td>\n",
       "      <td>70.625741</td>\n",
       "      <td>70.651581</td>\n",
       "      <td>79.890000</td>\n",
       "    </tr>\n",
       "    <tr>\n",
       "      <th>2</th>\n",
       "      <td>85.12000</td>\n",
       "      <td>84.460000</td>\n",
       "      <td>70.515364</td>\n",
       "      <td>70.550822</td>\n",
       "      <td>70.589587</td>\n",
       "      <td>70.609585</td>\n",
       "      <td>70.625741</td>\n",
       "      <td>70.651581</td>\n",
       "      <td>74.990000</td>\n",
       "    </tr>\n",
       "    <tr>\n",
       "      <th>3</th>\n",
       "      <td>79.89000</td>\n",
       "      <td>85.120000</td>\n",
       "      <td>84.460000</td>\n",
       "      <td>70.550822</td>\n",
       "      <td>70.589587</td>\n",
       "      <td>70.609585</td>\n",
       "      <td>70.625741</td>\n",
       "      <td>70.651581</td>\n",
       "      <td>72.970000</td>\n",
       "    </tr>\n",
       "    <tr>\n",
       "      <th>4</th>\n",
       "      <td>74.99000</td>\n",
       "      <td>79.890000</td>\n",
       "      <td>85.120000</td>\n",
       "      <td>84.460000</td>\n",
       "      <td>70.589587</td>\n",
       "      <td>70.609585</td>\n",
       "      <td>70.625741</td>\n",
       "      <td>70.651581</td>\n",
       "      <td>82.780000</td>\n",
       "    </tr>\n",
       "    <tr>\n",
       "      <th>...</th>\n",
       "      <td>...</td>\n",
       "      <td>...</td>\n",
       "      <td>...</td>\n",
       "      <td>...</td>\n",
       "      <td>...</td>\n",
       "      <td>...</td>\n",
       "      <td>...</td>\n",
       "      <td>...</td>\n",
       "      <td>...</td>\n",
       "    </tr>\n",
       "    <tr>\n",
       "      <th>218</th>\n",
       "      <td>66.25000</td>\n",
       "      <td>67.120000</td>\n",
       "      <td>65.070000</td>\n",
       "      <td>65.740000</td>\n",
       "      <td>67.160000</td>\n",
       "      <td>67.030000</td>\n",
       "      <td>68.390000</td>\n",
       "      <td>70.340000</td>\n",
       "      <td>62.750000</td>\n",
       "    </tr>\n",
       "    <tr>\n",
       "      <th>219</th>\n",
       "      <td>62.10000</td>\n",
       "      <td>66.250000</td>\n",
       "      <td>67.120000</td>\n",
       "      <td>65.070000</td>\n",
       "      <td>65.740000</td>\n",
       "      <td>67.160000</td>\n",
       "      <td>67.030000</td>\n",
       "      <td>68.390000</td>\n",
       "      <td>61.640000</td>\n",
       "    </tr>\n",
       "    <tr>\n",
       "      <th>220</th>\n",
       "      <td>62.75000</td>\n",
       "      <td>62.100000</td>\n",
       "      <td>66.250000</td>\n",
       "      <td>67.120000</td>\n",
       "      <td>65.070000</td>\n",
       "      <td>65.740000</td>\n",
       "      <td>67.160000</td>\n",
       "      <td>67.030000</td>\n",
       "      <td>62.700000</td>\n",
       "    </tr>\n",
       "    <tr>\n",
       "      <th>221</th>\n",
       "      <td>61.64000</td>\n",
       "      <td>62.750000</td>\n",
       "      <td>62.100000</td>\n",
       "      <td>66.250000</td>\n",
       "      <td>67.120000</td>\n",
       "      <td>65.070000</td>\n",
       "      <td>65.740000</td>\n",
       "      <td>67.160000</td>\n",
       "      <td>60.480000</td>\n",
       "    </tr>\n",
       "    <tr>\n",
       "      <th>222</th>\n",
       "      <td>62.70000</td>\n",
       "      <td>61.640000</td>\n",
       "      <td>62.750000</td>\n",
       "      <td>62.100000</td>\n",
       "      <td>66.250000</td>\n",
       "      <td>67.120000</td>\n",
       "      <td>65.070000</td>\n",
       "      <td>65.740000</td>\n",
       "      <td>70.332162</td>\n",
       "    </tr>\n",
       "  </tbody>\n",
       "</table>\n",
       "<p>223 rows × 9 columns</p>\n",
       "</div>"
      ],
      "text/plain": [
       "     Price_t-1  Price_t-2  Price_t-3  Price_t-4  Price_t-5  Price_t-6  \\\n",
       "0     70.44018  70.475204  70.515364  70.550822  70.589587  70.609585   \n",
       "1     84.46000  70.475204  70.515364  70.550822  70.589587  70.609585   \n",
       "2     85.12000  84.460000  70.515364  70.550822  70.589587  70.609585   \n",
       "3     79.89000  85.120000  84.460000  70.550822  70.589587  70.609585   \n",
       "4     74.99000  79.890000  85.120000  84.460000  70.589587  70.609585   \n",
       "..         ...        ...        ...        ...        ...        ...   \n",
       "218   66.25000  67.120000  65.070000  65.740000  67.160000  67.030000   \n",
       "219   62.10000  66.250000  67.120000  65.070000  65.740000  67.160000   \n",
       "220   62.75000  62.100000  66.250000  67.120000  65.070000  65.740000   \n",
       "221   61.64000  62.750000  62.100000  66.250000  67.120000  65.070000   \n",
       "222   62.70000  61.640000  62.750000  62.100000  66.250000  67.120000   \n",
       "\n",
       "     Price_t-7  Price_t-8  Price_t+1  \n",
       "0    70.625741  70.651581  85.120000  \n",
       "1    70.625741  70.651581  79.890000  \n",
       "2    70.625741  70.651581  74.990000  \n",
       "3    70.625741  70.651581  72.970000  \n",
       "4    70.625741  70.651581  82.780000  \n",
       "..         ...        ...        ...  \n",
       "218  68.390000  70.340000  62.750000  \n",
       "219  67.030000  68.390000  61.640000  \n",
       "220  67.160000  67.030000  62.700000  \n",
       "221  65.740000  67.160000  60.480000  \n",
       "222  65.070000  65.740000  70.332162  \n",
       "\n",
       "[223 rows x 9 columns]"
      ]
     },
     "execution_count": 101,
     "metadata": {},
     "output_type": "execute_result"
    }
   ],
   "source": [
    "import re\n",
    "\n",
    "i = 0\n",
    "indexes = []\n",
    "for column in X_Test_TimeSeries.columns:\n",
    "    if re.search('^Price', column):\n",
    "        indexes.append(i)\n",
    "    i += 1\n",
    "\n",
    "X_Test_TimeSeries = X_Test_TimeSeries.iloc[:,indexes]\n",
    "X_Test_TimeSeries"
   ]
  },
  {
   "cell_type": "code",
   "execution_count": 102,
   "metadata": {},
   "outputs": [
    {
     "data": {
      "text/html": [
       "<div>\n",
       "<style scoped>\n",
       "    .dataframe tbody tr th:only-of-type {\n",
       "        vertical-align: middle;\n",
       "    }\n",
       "\n",
       "    .dataframe tbody tr th {\n",
       "        vertical-align: top;\n",
       "    }\n",
       "\n",
       "    .dataframe thead th {\n",
       "        text-align: right;\n",
       "    }\n",
       "</style>\n",
       "<table border=\"1\" class=\"dataframe\">\n",
       "  <thead>\n",
       "    <tr style=\"text-align: right;\">\n",
       "      <th></th>\n",
       "      <th>Price_t-1</th>\n",
       "      <th>Price_t-2</th>\n",
       "      <th>Price_t-3</th>\n",
       "      <th>Price_t-4</th>\n",
       "      <th>Price_t-5</th>\n",
       "      <th>Price_t-6</th>\n",
       "      <th>Price_t-7</th>\n",
       "      <th>Price_t-8</th>\n",
       "      <th>Price_t+1</th>\n",
       "    </tr>\n",
       "  </thead>\n",
       "  <tbody>\n",
       "    <tr>\n",
       "      <th>223</th>\n",
       "      <td>52.649449</td>\n",
       "      <td>52.674609</td>\n",
       "      <td>52.699627</td>\n",
       "      <td>52.724653</td>\n",
       "      <td>52.750157</td>\n",
       "      <td>52.775826</td>\n",
       "      <td>52.801407</td>\n",
       "      <td>52.827243</td>\n",
       "      <td>52.20</td>\n",
       "    </tr>\n",
       "    <tr>\n",
       "      <th>224</th>\n",
       "      <td>57.060000</td>\n",
       "      <td>52.674609</td>\n",
       "      <td>52.699627</td>\n",
       "      <td>52.724653</td>\n",
       "      <td>52.750157</td>\n",
       "      <td>52.775826</td>\n",
       "      <td>52.801407</td>\n",
       "      <td>52.827243</td>\n",
       "      <td>53.82</td>\n",
       "    </tr>\n",
       "    <tr>\n",
       "      <th>225</th>\n",
       "      <td>52.200000</td>\n",
       "      <td>57.060000</td>\n",
       "      <td>52.699627</td>\n",
       "      <td>52.724653</td>\n",
       "      <td>52.750157</td>\n",
       "      <td>52.775826</td>\n",
       "      <td>52.801407</td>\n",
       "      <td>52.827243</td>\n",
       "      <td>60.28</td>\n",
       "    </tr>\n",
       "    <tr>\n",
       "      <th>226</th>\n",
       "      <td>53.820000</td>\n",
       "      <td>52.200000</td>\n",
       "      <td>57.060000</td>\n",
       "      <td>52.724653</td>\n",
       "      <td>52.750157</td>\n",
       "      <td>52.775826</td>\n",
       "      <td>52.801407</td>\n",
       "      <td>52.827243</td>\n",
       "      <td>61.67</td>\n",
       "    </tr>\n",
       "    <tr>\n",
       "      <th>227</th>\n",
       "      <td>60.280000</td>\n",
       "      <td>53.820000</td>\n",
       "      <td>52.200000</td>\n",
       "      <td>57.060000</td>\n",
       "      <td>52.750157</td>\n",
       "      <td>52.775826</td>\n",
       "      <td>52.801407</td>\n",
       "      <td>52.827243</td>\n",
       "      <td>58.71</td>\n",
       "    </tr>\n",
       "  </tbody>\n",
       "</table>\n",
       "</div>"
      ],
      "text/plain": [
       "     Price_t-1  Price_t-2  Price_t-3  Price_t-4  Price_t-5  Price_t-6  \\\n",
       "223  52.649449  52.674609  52.699627  52.724653  52.750157  52.775826   \n",
       "224  57.060000  52.674609  52.699627  52.724653  52.750157  52.775826   \n",
       "225  52.200000  57.060000  52.699627  52.724653  52.750157  52.775826   \n",
       "226  53.820000  52.200000  57.060000  52.724653  52.750157  52.775826   \n",
       "227  60.280000  53.820000  52.200000  57.060000  52.750157  52.775826   \n",
       "\n",
       "     Price_t-7  Price_t-8  Price_t+1  \n",
       "223  52.801407  52.827243      52.20  \n",
       "224  52.801407  52.827243      53.82  \n",
       "225  52.801407  52.827243      60.28  \n",
       "226  52.801407  52.827243      61.67  \n",
       "227  52.801407  52.827243      58.71  "
      ]
     },
     "execution_count": 102,
     "metadata": {},
     "output_type": "execute_result"
    }
   ],
   "source": [
    "X_Train_TimeSeries.head()"
   ]
  },
  {
   "attachments": {},
   "cell_type": "markdown",
   "metadata": {},
   "source": [
    "#### Linear Regression "
   ]
  },
  {
   "cell_type": "code",
   "execution_count": 103,
   "metadata": {},
   "outputs": [
    {
     "name": "stdout",
     "output_type": "stream",
     "text": [
      "Mean Absolute Error: 2.1422792949340796\n",
      "Mean Squared Error: 9.625816980827175\n"
     ]
    }
   ],
   "source": [
    "from sklearn.linear_model import LinearRegression\n",
    "from sklearn.metrics import mean_squared_error, mean_absolute_error\n",
    "\n",
    "\n",
    "lr = LinearRegression().fit(X_Train_TimeSeries , y_train)\n",
    "\n",
    "y_pred_lr = lr.predict(X_Test_TimeSeries)\n",
    "\n",
    "print('Mean Absolute Error:', mean_absolute_error(y_pred_lr, y_test))\n",
    "print('Mean Squared Error:', mean_squared_error(y_pred_lr, y_test))\n"
   ]
  },
  {
   "attachments": {},
   "cell_type": "markdown",
   "metadata": {},
   "source": [
    "#### Gradiant Regressor"
   ]
  },
  {
   "cell_type": "code",
   "execution_count": 104,
   "metadata": {},
   "outputs": [
    {
     "name": "stdout",
     "output_type": "stream",
     "text": [
      "Mean Absolute Error: 2.2494981008166124\n",
      "Mean Squared Error: 10.407005527476096\n"
     ]
    }
   ],
   "source": [
    "from sklearn.ensemble import GradientBoostingRegressor\n",
    "\n",
    "gb = GradientBoostingRegressor().fit(X_Train_TimeSeries,y_train)\n",
    "\n",
    "y_pred_gb = gb.predict(X_Test_TimeSeries)\n",
    "\n",
    "print('Mean Absolute Error:', mean_absolute_error(y_pred_gb, y_test))\n",
    "print('Mean Squared Error:', mean_squared_error(y_pred_gb, y_test))"
   ]
  },
  {
   "attachments": {},
   "cell_type": "markdown",
   "metadata": {},
   "source": [
    "#### SVR "
   ]
  },
  {
   "cell_type": "code",
   "execution_count": 105,
   "metadata": {},
   "outputs": [
    {
     "name": "stdout",
     "output_type": "stream",
     "text": [
      "Mean Absolute Error: 2.704250852446875\n",
      "Mean Squared Error: 13.741329085555252\n"
     ]
    }
   ],
   "source": [
    "from sklearn.svm import SVR \n",
    "\n",
    "sv = SVR().fit(X_Train_TimeSeries,y_train)\n",
    "y_pred_sv = sv.predict(X_Test_TimeSeries)\n",
    "\n",
    "print('Mean Absolute Error:', mean_absolute_error(y_pred_sv, y_test))\n",
    "print('Mean Squared Error:', mean_squared_error(y_pred_sv, y_test))\n"
   ]
  },
  {
   "attachments": {},
   "cell_type": "markdown",
   "metadata": {},
   "source": [
    "#### Decision Tree Regressor "
   ]
  },
  {
   "cell_type": "code",
   "execution_count": 106,
   "metadata": {},
   "outputs": [
    {
     "name": "stdout",
     "output_type": "stream",
     "text": [
      "Mean Absolute Error: 2.949596412556054\n",
      "Mean Squared Error: 16.499083408071748\n"
     ]
    }
   ],
   "source": [
    "from sklearn.tree import DecisionTreeRegressor\n",
    "\n",
    "dt = DecisionTreeRegressor().fit(X_Train_TimeSeries,y_train)\n",
    "\n",
    "y_pred_dt = dt.predict(X_Test_TimeSeries)\n",
    "\n",
    "print('Mean Absolute Error:', mean_absolute_error(y_pred_dt, y_test))\n",
    "print('Mean Squared Error:', mean_squared_error(y_pred_dt, y_test))"
   ]
  },
  {
   "attachments": {},
   "cell_type": "markdown",
   "metadata": {},
   "source": [
    "### Plotting Real Chart And Our Prediction"
   ]
  },
  {
   "cell_type": "code",
   "execution_count": 107,
   "metadata": {},
   "outputs": [
    {
     "data": {
      "image/png": "[encoded data removed]",
      "text/plain": [
       "<Figure size 1440x720 with 4 Axes>"
      ]
     },
     "metadata": {
      "needs_background": "light"
     },
     "output_type": "display_data"
    }
   ],
   "source": [
    "fig, ax = plt.subplots(2, 2, figsize=(20, 10))\n",
    "fig.subplots_adjust(hspace=0.5, wspace=0.3)\n",
    "\n",
    "ax[0][0].plot(y_test, label='real values')\n",
    "ax[0][0].plot(y_pred_lr, label='predictions')\n",
    "ax[0][0].set_title('Linear Regression')\n",
    "ax[0][0].set_xlabel('Weeks')\n",
    "ax[0][0].set_ylabel('Predictions')\n",
    "ax[0][0].legend()\n",
    "\n",
    "ax[0][1].plot(y_test, label='real values')\n",
    "ax[0][1].plot(y_pred_sv, label='predictions')\n",
    "ax[0][1].set_title('SVR')\n",
    "ax[0][1].set_xlabel('Weeks')\n",
    "ax[0][1].set_ylabel('Predictions')\n",
    "ax[0][1].legend()\n",
    "\n",
    "ax[1][0].plot(y_test, label='real values')\n",
    "ax[1][0].plot(y_pred_gb, label='predictions')\n",
    "ax[1][0].set_title('Gradiant Regressor')\n",
    "ax[1][0].set_xlabel('Weeks')\n",
    "ax[1][0].set_ylabel('Predictions')\n",
    "ax[1][0].legend()\n",
    "\n",
    "ax[1][1].plot(y_test, label='real values')\n",
    "ax[1][1].plot(y_pred_dt, label='predictions')\n",
    "ax[1][1].set_title('Decision Tree Regressor')\n",
    "ax[1][1].set_xlabel('Weeks')\n",
    "ax[1][1].set_ylabel('Predictions')\n",
    "ax[1][1].legend()\n",
    "\n",
    "plt.show()"
   ]
  },
  {
   "attachments": {},
   "cell_type": "markdown",
   "metadata": {},
   "source": [
    "### Trying Diffrent n's For Time Series Function"
   ]
  },
  {
   "cell_type": "code",
   "execution_count": 108,
   "metadata": {},
   "outputs": [],
   "source": [
    "# accs = []\n",
    "# for i in range(1,15):\n",
    "#     Train_Data_Temp = make_time_series(train_data , i , 1)\n",
    "#     Train_Data_Temp = Train_Data_Temp.fillna(Train_Data_Temp.mean())\n",
    "#     Train_Data_Temp.drop('Date' , axis=1 , inplace=True)\n",
    "#     # print(train_data)\n",
    "    \n",
    "    \n",
    "#     X_Test_Temp = make_time_series(test_data , i , 1)\n",
    "#     X_Test_Temp = X_Test_Temp.fillna(X_Test_Temp.mean())\n",
    "#     X_Test_Temp.drop('Date' , axis=1 , inplace=True)\n",
    "#     # print(X_Test_Temp.columns)\n",
    "#     # print(test_data)\n",
    "#     lr_temp = LinearRegression().fit(Train_Data_Temp , y_train)\n",
    "\n",
    "#     y_pred_lr_temp = lr_temp.predict(X_Test_Temp)\n",
    "    \n",
    "#     accs.append( mean_squared_error(y_pred_lr_temp, y_test))\n",
    "        \n",
    "import re\n",
    "\n",
    "accs = []\n",
    "for i in range(1,15):\n",
    "    train_data_new_temp = make_time_series(train_data, i, 1)\n",
    "    train_data_new_temp = train_data_new_temp.fillna(train_data_new_temp.mean())\n",
    "    train_data_new_temp.drop('Date' , axis=1 , inplace=True)\n",
    "\n",
    "    j = 0\n",
    "    indexes = []\n",
    "    for column in train_data_new_temp.columns:\n",
    "        if re.search('^Price', column):\n",
    "            indexes.append(j)\n",
    "        j += 1\n",
    "\n",
    "    train_data_new_temp = train_data_new_temp.iloc[:,indexes]\n",
    "\n",
    "    test_data_new_temp = make_time_series(test_data, i, 1)\n",
    "    test_data_new_temp = test_data_new_temp.fillna(test_data_new_temp.mean())\n",
    "    test_data_new_temp.drop('Date' , axis=1 , inplace=True)\n",
    "\n",
    "    j = 0\n",
    "    indexes = []\n",
    "    for column in test_data_new_temp.columns:\n",
    "        if re.search('^Price', column):\n",
    "            indexes.append(j)\n",
    "        j += 1\n",
    "\n",
    "    test_data_new_temp = test_data_new_temp.iloc[:,indexes]\n",
    "    X_test_new_temp = test_data_new_temp\n",
    "\n",
    "    lr_temp = LinearRegression().fit(train_data_new_temp, y_train)\n",
    "\n",
    "    y_pred_lr_temp = lr_temp.predict(X_test_new_temp)\n",
    "\n",
    "    accs.append(mean_squared_error(y_pred_lr_temp, y_test))"
   ]
  },
  {
   "attachments": {},
   "cell_type": "markdown",
   "metadata": {},
   "source": [
    "### Plotting Features "
   ]
  },
  {
   "cell_type": "code",
   "execution_count": 130,
   "metadata": {},
   "outputs": [
    {
     "data": {
      "image/png": "[encoded data removed]",
      "text/plain": [
       "<Figure size 432x288 with 1 Axes>"
      ]
     },
     "metadata": {
      "needs_background": "light"
     },
     "output_type": "display_data"
    },
    {
     "name": "stdout",
     "output_type": "stream",
     "text": [
      "Best Score at n = 9\n"
     ]
    }
   ],
   "source": [
    "plt.plot(list(range(1,15)),accs)\n",
    "plt.show()\n",
    "print(f\"Best Score at n = {np.argmin(accs)+1}\")"
   ]
  },
  {
   "attachments": {},
   "cell_type": "markdown",
   "metadata": {},
   "source": [
    "### Define A New Function To Use All Future Features\n"
   ]
  },
  {
   "cell_type": "code",
   "execution_count": 110,
   "metadata": {},
   "outputs": [],
   "source": [
    "def make_time_series_use_all_features(df, n, m):\n",
    "    df_new = pd.DataFrame()\n",
    "    df_new['Date'] = df['Date']\n",
    "\n",
    "    for i in range(1, n+1):\n",
    "        df_new['Price_t-'+str(i)] = df['Price'].shift(i)\n",
    "        df_new['Open_t-'+str(i)] = df['Open'].shift(i)\n",
    "        df_new['High_t-'+str(i)] = df['High'].shift(i)\n",
    "        df_new['Low_t-'+str(i)] = df['Low'].shift(i)\n",
    "        df_new['Vol._t-'+str(i)] = df['Vol.'].shift(i)\n",
    "        df_new['Change %_t-'+str(i)] = df['Change %'].shift(i)\n",
    "\n",
    "    for i in range(1, m+1):\n",
    "        df_new['Price_t+'+str(i)] = df['Price'].shift(-i)\n",
    "        df_new['Open_t+'+str(i)] = df['Open'].shift(-i)\n",
    "        df_new['High_t+'+str(i)] = df['High'].shift(-i)\n",
    "        df_new['Low_t+'+str(i)] = df['Low'].shift(-i)\n",
    "        df_new['Vol._t+'+str(i)] = df['Vol.'].shift(-i)\n",
    "        df_new['Change %_t+'+str(i)] = df['Change %'].shift(-i)\n",
    "\n",
    "    return df_new\n"
   ]
  },
  {
   "cell_type": "code",
   "execution_count": 111,
   "metadata": {},
   "outputs": [],
   "source": [
    "X_Train_TimeSeries_All = make_time_series_use_all_features(train_data, 5, 1)\n",
    "X_Train_TimeSeries_All = X_Train_TimeSeries_All.fillna(X_Train_TimeSeries_All.mean())\n",
    "X_Train_TimeSeries_All.drop('Date' , axis=1 , inplace=True)\n",
    "\n",
    "X_Test_TimeSeries_All = make_time_series_use_all_features(test_data, 5, 1)\n",
    "X_Test_TimeSeries_All = X_Test_TimeSeries_All.fillna(X_Test_TimeSeries_All.mean())\n",
    "X_Test_TimeSeries_All.drop('Date' , axis=1 , inplace=True)\n",
    "\n",
    "\n"
   ]
  },
  {
   "cell_type": "code",
   "execution_count": 112,
   "metadata": {},
   "outputs": [
    {
     "name": "stdout",
     "output_type": "stream",
     "text": [
      "Mean Absolute Error for LinearRegression: 0.5939255372235183\n",
      "Mean Squared Error for LinearRegression: 1.9911771675765741\n"
     ]
    }
   ],
   "source": [
    "\n",
    "lr2 = LinearRegression().fit(X_Train_TimeSeries_All, y_train)\n",
    "y_pred_lr2 = lr2.predict(X_Test_TimeSeries_All)\n",
    "from sklearn.metrics import mean_squared_error, mean_absolute_error\n",
    "\n",
    "print('Mean Absolute Error for LinearRegression:', mean_absolute_error(y_pred_lr2, y_test))\n",
    "print('Mean Squared Error for LinearRegression:', mean_squared_error(y_pred_lr2, y_test))"
   ]
  },
  {
   "cell_type": "code",
   "execution_count": 113,
   "metadata": {},
   "outputs": [
    {
     "data": {
      "text/html": [
       "<style>#sk-container-id-1 {color: black;background-color: white;}#sk-container-id-1 pre{padding: 0;}#sk-container-id-1 div.sk-toggleable {background-color: white;}#sk-container-id-1 label.sk-toggleable__label {cursor: pointer;display: block;width: 100%;margin-bottom: 0;padding: 0.3em;box-sizing: border-box;text-align: center;}#sk-container-id-1 label.sk-toggleable__label-arrow:before {content: \"▸\";float: left;margin-right: 0.25em;color: #696969;}#sk-container-id-1 label.sk-toggleable__label-arrow:hover:before {color: black;}#sk-container-id-1 div.sk-estimator:hover label.sk-toggleable__label-arrow:before {color: black;}#sk-container-id-1 div.sk-toggleable__content {max-height: 0;max-width: 0;overflow: hidden;text-align: left;background-color: #f0f8ff;}#sk-container-id-1 div.sk-toggleable__content pre {margin: 0.2em;color: black;border-radius: 0.25em;background-color: #f0f8ff;}#sk-container-id-1 input.sk-toggleable__control:checked~div.sk-toggleable__content {max-height: 200px;max-width: 100%;overflow: auto;}#sk-container-id-1 input.sk-toggleable__control:checked~label.sk-toggleable__label-arrow:before {content: \"▾\";}#sk-container-id-1 div.sk-estimator input.sk-toggleable__control:checked~label.sk-toggleable__label {background-color: #d4ebff;}#sk-container-id-1 div.sk-label input.sk-toggleable__control:checked~label.sk-toggleable__label {background-color: #d4ebff;}#sk-container-id-1 input.sk-hidden--visually {border: 0;clip: rect(1px 1px 1px 1px);clip: rect(1px, 1px, 1px, 1px);height: 1px;margin: -1px;overflow: hidden;padding: 0;position: absolute;width: 1px;}#sk-container-id-1 div.sk-estimator {font-family: monospace;background-color: #f0f8ff;border: 1px dotted black;border-radius: 0.25em;box-sizing: border-box;margin-bottom: 0.5em;}#sk-container-id-1 div.sk-estimator:hover {background-color: #d4ebff;}#sk-container-id-1 div.sk-parallel-item::after {content: \"\";width: 100%;border-bottom: 1px solid gray;flex-grow: 1;}#sk-container-id-1 div.sk-label:hover label.sk-toggleable__label {background-color: #d4ebff;}#sk-container-id-1 div.sk-serial::before {content: \"\";position: absolute;border-left: 1px solid gray;box-sizing: border-box;top: 0;bottom: 0;left: 50%;z-index: 0;}#sk-container-id-1 div.sk-serial {display: flex;flex-direction: column;align-items: center;background-color: white;padding-right: 0.2em;padding-left: 0.2em;position: relative;}#sk-container-id-1 div.sk-item {position: relative;z-index: 1;}#sk-container-id-1 div.sk-parallel {display: flex;align-items: stretch;justify-content: center;background-color: white;position: relative;}#sk-container-id-1 div.sk-item::before, #sk-container-id-1 div.sk-parallel-item::before {content: \"\";position: absolute;border-left: 1px solid gray;box-sizing: border-box;top: 0;bottom: 0;left: 50%;z-index: -1;}#sk-container-id-1 div.sk-parallel-item {display: flex;flex-direction: column;z-index: 1;position: relative;background-color: white;}#sk-container-id-1 div.sk-parallel-item:first-child::after {align-self: flex-end;width: 50%;}#sk-container-id-1 div.sk-parallel-item:last-child::after {align-self: flex-start;width: 50%;}#sk-container-id-1 div.sk-parallel-item:only-child::after {width: 0;}#sk-container-id-1 div.sk-dashed-wrapped {border: 1px dashed gray;margin: 0 0.4em 0.5em 0.4em;box-sizing: border-box;padding-bottom: 0.4em;background-color: white;}#sk-container-id-1 div.sk-label label {font-family: monospace;font-weight: bold;display: inline-block;line-height: 1.2em;}#sk-container-id-1 div.sk-label-container {text-align: center;}#sk-container-id-1 div.sk-container {/* jupyter's `normalize.less` sets `[hidden] { display: none; }` but bootstrap.min.css set `[hidden] { display: none !important; }` so we also need the `!important` here to be able to override the default hidden behavior on the sphinx rendered scikit-learn.org. See: https://github.com/scikit-learn/scikit-learn/issues/21755 */display: inline-block !important;position: relative;}#sk-container-id-1 div.sk-text-repr-fallback {display: none;}</style><div id=\"sk-container-id-1\" class=\"sk-top-container\"><div class=\"sk-text-repr-fallback\"><pre>SequentialFeatureSelector(estimator=LinearRegression(), n_features_to_select=12)</pre><b>In a Jupyter environment, please rerun this cell to show the HTML representation or trust the notebook. <br />On GitHub, the HTML representation is unable to render, please try loading this page with nbviewer.org.</b></div><div class=\"sk-container\" hidden><div class=\"sk-item sk-dashed-wrapped\"><div class=\"sk-label-container\"><div class=\"sk-label sk-toggleable\"><input class=\"sk-toggleable__control sk-hidden--visually\" id=\"sk-estimator-id-1\" type=\"checkbox\" ><label for=\"sk-estimator-id-1\" class=\"sk-toggleable__label sk-toggleable__label-arrow\">SequentialFeatureSelector</label><div class=\"sk-toggleable__content\"><pre>SequentialFeatureSelector(estimator=LinearRegression(), n_features_to_select=12)</pre></div></div></div><div class=\"sk-parallel\"><div class=\"sk-parallel-item\"><div class=\"sk-item\"><div class=\"sk-label-container\"><div class=\"sk-label sk-toggleable\"><input class=\"sk-toggleable__control sk-hidden--visually\" id=\"sk-estimator-id-2\" type=\"checkbox\" ><label for=\"sk-estimator-id-2\" class=\"sk-toggleable__label sk-toggleable__label-arrow\">estimator: LinearRegression</label><div class=\"sk-toggleable__content\"><pre>LinearRegression()</pre></div></div></div><div class=\"sk-serial\"><div class=\"sk-item\"><div class=\"sk-estimator sk-toggleable\"><input class=\"sk-toggleable__control sk-hidden--visually\" id=\"sk-estimator-id-3\" type=\"checkbox\" ><label for=\"sk-estimator-id-3\" class=\"sk-toggleable__label sk-toggleable__label-arrow\">LinearRegression</label><div class=\"sk-toggleable__content\"><pre>LinearRegression()</pre></div></div></div></div></div></div></div></div></div></div>"
      ],
      "text/plain": [
       "SequentialFeatureSelector(estimator=LinearRegression(), n_features_to_select=12)"
      ]
     },
     "execution_count": 113,
     "metadata": {},
     "output_type": "execute_result"
    }
   ],
   "source": [
    "from sklearn.feature_selection import SequentialFeatureSelector\n",
    "\n",
    "lr_best = LinearRegression()\n",
    "\n",
    "sfs = SequentialFeatureSelector(lr_best , n_features_to_select= 12 , direction='forward' , cv=5)\n",
    "sfs.fit(X_Train_TimeSeries_All,y_train)"
   ]
  },
  {
   "cell_type": "code",
   "execution_count": 114,
   "metadata": {},
   "outputs": [
    {
     "name": "stdout",
     "output_type": "stream",
     "text": [
      "['Open_t-1', 'Change %_t-1', 'Price_t-2', 'High_t-2', 'Low_t-2', 'Vol._t-2', 'Open_t-3', 'Vol._t-3', 'Price_t-5', 'Change %_t-5', 'Price_t+1', 'Change %_t+1']\n"
     ]
    }
   ],
   "source": [
    "selected_indices = sfs.get_support(indices=True)\n",
    "selected_names = list(X_Train_TimeSeries_All.columns[selected_indices])\n",
    "print(selected_names)\n"
   ]
  },
  {
   "cell_type": "code",
   "execution_count": 115,
   "metadata": {},
   "outputs": [],
   "source": [
    "X_Train_best_features = X_Train_TimeSeries_All.loc[:, selected_names]\n",
    "X_Test_best_featues = X_Test_TimeSeries_All.loc[:, selected_names]"
   ]
  },
  {
   "cell_type": "code",
   "execution_count": 116,
   "metadata": {},
   "outputs": [
    {
     "name": "stdout",
     "output_type": "stream",
     "text": [
      "Mean Absolute Error for LinearRegression: 0.5954267712994811\n",
      "Mean Squared Error for LinearRegression: 2.073480330326117\n"
     ]
    }
   ],
   "source": [
    "lr_best_features = LinearRegression().fit(X_Train_best_features,y_train)\n",
    "y_pred_best_features = lr_best_features.predict(X_Test_best_featues)\n",
    "print('Mean Absolute Error for LinearRegression:', mean_absolute_error(y_pred_best_features, y_test))\n",
    "print('Mean Squared Error for LinearRegression:', mean_squared_error(y_pred_best_features, y_test))\n"
   ]
  },
  {
   "attachments": {},
   "cell_type": "markdown",
   "metadata": {},
   "source": [
    "## Predict Price Based On 12 Weeks "
   ]
  },
  {
   "cell_type": "code",
   "execution_count": 117,
   "metadata": {},
   "outputs": [],
   "source": [
    "df_16_Weeks = df.iloc[:16]\n",
    "train_data_12_weeks = df_16_Weeks.iloc[:12]\n",
    "\n",
    "X_train_12_weeks = train_data_12_weeks.drop(['Price' , 'Date'] , axis=1)\n",
    "y_train_12_weeks = train_data_12_weeks['Price']\n",
    "\n",
    "test_data_4_weeks = df_16_Weeks.iloc[-4:]\n",
    "y_test_4_weeks = test_data_4_weeks['Price']\n",
    "X_test_4_weeks = test_data_4_weeks.drop(['Price' , 'Date'] , axis=1)"
   ]
  },
  {
   "cell_type": "code",
   "execution_count": 118,
   "metadata": {},
   "outputs": [
    {
     "name": "stdout",
     "output_type": "stream",
     "text": [
      "Mean Absolute Error 0.9345030286280966\n",
      "Mean Squared Error 1.5825724943429846\n"
     ]
    }
   ],
   "source": [
    "\n",
    "lr_12_weeks = LinearRegression().fit(X_train_12_weeks,y_train_12_weeks)\n",
    "\n",
    "y_pred_4_weeks = lr_12_weeks.predict(X_test_4_weeks)\n",
    "print('Mean Absolute Error' ,mean_absolute_error(y_pred_4_weeks , y_test_4_weeks))\n",
    "print('Mean Squared Error' ,mean_squared_error(y_pred_4_weeks , y_test_4_weeks))"
   ]
  },
  {
   "attachments": {},
   "cell_type": "markdown",
   "metadata": {},
   "source": [
    "## GridSearch For GradiantBoostingRegressor"
   ]
  },
  {
   "cell_type": "code",
   "execution_count": 119,
   "metadata": {},
   "outputs": [
    {
     "name": "stdout",
     "output_type": "stream",
     "text": [
      "Fitting 2 folds for each of 243 candidates, totalling 486 fits\n"
     ]
    },
    {
     "data": {
      "text/html": [
       "<style>#sk-container-id-2 {color: black;background-color: white;}#sk-container-id-2 pre{padding: 0;}#sk-container-id-2 div.sk-toggleable {background-color: white;}#sk-container-id-2 label.sk-toggleable__label {cursor: pointer;display: block;width: 100%;margin-bottom: 0;padding: 0.3em;box-sizing: border-box;text-align: center;}#sk-container-id-2 label.sk-toggleable__label-arrow:before {content: \"▸\";float: left;margin-right: 0.25em;color: #696969;}#sk-container-id-2 label.sk-toggleable__label-arrow:hover:before {color: black;}#sk-container-id-2 div.sk-estimator:hover label.sk-toggleable__label-arrow:before {color: black;}#sk-container-id-2 div.sk-toggleable__content {max-height: 0;max-width: 0;overflow: hidden;text-align: left;background-color: #f0f8ff;}#sk-container-id-2 div.sk-toggleable__content pre {margin: 0.2em;color: black;border-radius: 0.25em;background-color: #f0f8ff;}#sk-container-id-2 input.sk-toggleable__control:checked~div.sk-toggleable__content {max-height: 200px;max-width: 100%;overflow: auto;}#sk-container-id-2 input.sk-toggleable__control:checked~label.sk-toggleable__label-arrow:before {content: \"▾\";}#sk-container-id-2 div.sk-estimator input.sk-toggleable__control:checked~label.sk-toggleable__label {background-color: #d4ebff;}#sk-container-id-2 div.sk-label input.sk-toggleable__control:checked~label.sk-toggleable__label {background-color: #d4ebff;}#sk-container-id-2 input.sk-hidden--visually {border: 0;clip: rect(1px 1px 1px 1px);clip: rect(1px, 1px, 1px, 1px);height: 1px;margin: -1px;overflow: hidden;padding: 0;position: absolute;width: 1px;}#sk-container-id-2 div.sk-estimator {font-family: monospace;background-color: #f0f8ff;border: 1px dotted black;border-radius: 0.25em;box-sizing: border-box;margin-bottom: 0.5em;}#sk-container-id-2 div.sk-estimator:hover {background-color: #d4ebff;}#sk-container-id-2 div.sk-parallel-item::after {content: \"\";width: 100%;border-bottom: 1px solid gray;flex-grow: 1;}#sk-container-id-2 div.sk-label:hover label.sk-toggleable__label {background-color: #d4ebff;}#sk-container-id-2 div.sk-serial::before {content: \"\";position: absolute;border-left: 1px solid gray;box-sizing: border-box;top: 0;bottom: 0;left: 50%;z-index: 0;}#sk-container-id-2 div.sk-serial {display: flex;flex-direction: column;align-items: center;background-color: white;padding-right: 0.2em;padding-left: 0.2em;position: relative;}#sk-container-id-2 div.sk-item {position: relative;z-index: 1;}#sk-container-id-2 div.sk-parallel {display: flex;align-items: stretch;justify-content: center;background-color: white;position: relative;}#sk-container-id-2 div.sk-item::before, #sk-container-id-2 div.sk-parallel-item::before {content: \"\";position: absolute;border-left: 1px solid gray;box-sizing: border-box;top: 0;bottom: 0;left: 50%;z-index: -1;}#sk-container-id-2 div.sk-parallel-item {display: flex;flex-direction: column;z-index: 1;position: relative;background-color: white;}#sk-container-id-2 div.sk-parallel-item:first-child::after {align-self: flex-end;width: 50%;}#sk-container-id-2 div.sk-parallel-item:last-child::after {align-self: flex-start;width: 50%;}#sk-container-id-2 div.sk-parallel-item:only-child::after {width: 0;}#sk-container-id-2 div.sk-dashed-wrapped {border: 1px dashed gray;margin: 0 0.4em 0.5em 0.4em;box-sizing: border-box;padding-bottom: 0.4em;background-color: white;}#sk-container-id-2 div.sk-label label {font-family: monospace;font-weight: bold;display: inline-block;line-height: 1.2em;}#sk-container-id-2 div.sk-label-container {text-align: center;}#sk-container-id-2 div.sk-container {/* jupyter's `normalize.less` sets `[hidden] { display: none; }` but bootstrap.min.css set `[hidden] { display: none !important; }` so we also need the `!important` here to be able to override the default hidden behavior on the sphinx rendered scikit-learn.org. See: https://github.com/scikit-learn/scikit-learn/issues/21755 */display: inline-block !important;position: relative;}#sk-container-id-2 div.sk-text-repr-fallback {display: none;}</style><div id=\"sk-container-id-2\" class=\"sk-top-container\"><div class=\"sk-text-repr-fallback\"><pre>GridSearchCV(cv=2, estimator=GradientBoostingRegressor(), n_jobs=-1,\n",
       "             param_grid={&#x27;learning_rate&#x27;: [0.01, 0.1, 1],\n",
       "                         &#x27;max_depth&#x27;: [3, 5, 7], &#x27;min_samples_leaf&#x27;: [1, 2, 4],\n",
       "                         &#x27;min_samples_split&#x27;: [2, 5, 10],\n",
       "                         &#x27;n_estimators&#x27;: [50, 100, 200]},\n",
       "             verbose=1)</pre><b>In a Jupyter environment, please rerun this cell to show the HTML representation or trust the notebook. <br />On GitHub, the HTML representation is unable to render, please try loading this page with nbviewer.org.</b></div><div class=\"sk-container\" hidden><div class=\"sk-item sk-dashed-wrapped\"><div class=\"sk-label-container\"><div class=\"sk-label sk-toggleable\"><input class=\"sk-toggleable__control sk-hidden--visually\" id=\"sk-estimator-id-4\" type=\"checkbox\" ><label for=\"sk-estimator-id-4\" class=\"sk-toggleable__label sk-toggleable__label-arrow\">GridSearchCV</label><div class=\"sk-toggleable__content\"><pre>GridSearchCV(cv=2, estimator=GradientBoostingRegressor(), n_jobs=-1,\n",
       "             param_grid={&#x27;learning_rate&#x27;: [0.01, 0.1, 1],\n",
       "                         &#x27;max_depth&#x27;: [3, 5, 7], &#x27;min_samples_leaf&#x27;: [1, 2, 4],\n",
       "                         &#x27;min_samples_split&#x27;: [2, 5, 10],\n",
       "                         &#x27;n_estimators&#x27;: [50, 100, 200]},\n",
       "             verbose=1)</pre></div></div></div><div class=\"sk-parallel\"><div class=\"sk-parallel-item\"><div class=\"sk-item\"><div class=\"sk-label-container\"><div class=\"sk-label sk-toggleable\"><input class=\"sk-toggleable__control sk-hidden--visually\" id=\"sk-estimator-id-5\" type=\"checkbox\" ><label for=\"sk-estimator-id-5\" class=\"sk-toggleable__label sk-toggleable__label-arrow\">estimator: GradientBoostingRegressor</label><div class=\"sk-toggleable__content\"><pre>GradientBoostingRegressor()</pre></div></div></div><div class=\"sk-serial\"><div class=\"sk-item\"><div class=\"sk-estimator sk-toggleable\"><input class=\"sk-toggleable__control sk-hidden--visually\" id=\"sk-estimator-id-6\" type=\"checkbox\" ><label for=\"sk-estimator-id-6\" class=\"sk-toggleable__label sk-toggleable__label-arrow\">GradientBoostingRegressor</label><div class=\"sk-toggleable__content\"><pre>GradientBoostingRegressor()</pre></div></div></div></div></div></div></div></div></div></div>"
      ],
      "text/plain": [
       "GridSearchCV(cv=2, estimator=GradientBoostingRegressor(), n_jobs=-1,\n",
       "             param_grid={'learning_rate': [0.01, 0.1, 1],\n",
       "                         'max_depth': [3, 5, 7], 'min_samples_leaf': [1, 2, 4],\n",
       "                         'min_samples_split': [2, 5, 10],\n",
       "                         'n_estimators': [50, 100, 200]},\n",
       "             verbose=1)"
      ]
     },
     "execution_count": 119,
     "metadata": {},
     "output_type": "execute_result"
    }
   ],
   "source": [
    "from sklearn.model_selection import GridSearchCV\n",
    "\n",
    "\n",
    "gb2 = GradientBoostingRegressor()\n",
    "param_grid = {\n",
    "    'n_estimators': [50, 100, 200],\n",
    "    'learning_rate': [0.01, 0.1, 1],\n",
    "    'max_depth': [3, 5, 7],\n",
    "    'min_samples_split': [2, 5, 10],\n",
    "    'min_samples_leaf': [1, 2, 4],\n",
    "}\n",
    "\n",
    "gs = GridSearchCV(estimator=gb2 , param_grid=param_grid , cv=2 , n_jobs=-1 , verbose=1)\n",
    "\n",
    "gs.fit(X_train_12_weeks,y_train_12_weeks)"
   ]
  },
  {
   "cell_type": "code",
   "execution_count": 120,
   "metadata": {},
   "outputs": [
    {
     "name": "stdout",
     "output_type": "stream",
     "text": [
      "Mean Squared Error 3.0349500000000065\n"
     ]
    }
   ],
   "source": [
    "gb_b = GradientBoostingRegressor(**gs.best_params_).fit(X_train_12_weeks,y_train_12_weeks)\n",
    "\n",
    "y_pred_gb_2  = gb_b.predict(X_test_4_weeks)\n",
    "print('Mean Squared Error' ,mean_squared_error(y_test_4_weeks,y_pred_gb_2))"
   ]
  },
  {
   "attachments": {},
   "cell_type": "markdown",
   "metadata": {},
   "source": [
    "### Use EMD (Empirical Mode Decomposition ) Features To Improve Our Model"
   ]
  },
  {
   "cell_type": "code",
   "execution_count": 121,
   "metadata": {},
   "outputs": [],
   "source": [
    "from PyEMD import EMD\n",
    "emd = EMD()"
   ]
  },
  {
   "cell_type": "code",
   "execution_count": 122,
   "metadata": {},
   "outputs": [],
   "source": [
    "imfs = emd(df['Price'].values)\n",
    "short_term = imfs[0]\n",
    "mid_term = imfs[1:4].sum(axis=0)\n",
    "long_term = imfs[4:].sum(axis=0)\n",
    "\n",
    "df_emd = df.copy()\n"
   ]
  },
  {
   "cell_type": "code",
   "execution_count": 123,
   "metadata": {},
   "outputs": [],
   "source": [
    "df_emd['short_term'] = short_term\n",
    "df_emd['mid_term'] = mid_term\n",
    "df_emd['long_term'] = long_term"
   ]
  },
  {
   "cell_type": "code",
   "execution_count": 124,
   "metadata": {},
   "outputs": [],
   "source": [
    "df_16_Weeks_emd = df_emd.iloc[:16]\n",
    "train_data_12_weeks_emd = df_16_Weeks_emd.iloc[:12]\n",
    "\n",
    "y_train_12_weeks_emd = train_data_12_weeks_emd['Price']\n",
    "X_train_12_weeks_emd = train_data_12_weeks_emd.drop(['Price' , 'Date'] , axis=1)\n",
    "\n",
    "test_data_4_weeks_emd = df_16_Weeks_emd.iloc[-4:]\n",
    "y_test_4_weeks_emd = test_data_4_weeks_emd['Price']\n",
    "X_test_4_weeks_emd = test_data_4_weeks_emd.drop(['Price' , 'Date'] , axis=1)"
   ]
  },
  {
   "cell_type": "code",
   "execution_count": 125,
   "metadata": {},
   "outputs": [
    {
     "name": "stdout",
     "output_type": "stream",
     "text": [
      " MSE With EMD  = 1.2621774483536189e-27\n",
      " MAE With EMD = 3.197442310920451e-14\n",
      " They're Almost Zero 0_0\n"
     ]
    }
   ],
   "source": [
    "\n",
    "lr_12_weeks_emd = LinearRegression().fit(X_train_12_weeks_emd,y_train_12_weeks_emd)\n",
    "y_pred_4_weeks_emd = lr_12_weeks_emd.predict(X_test_4_weeks_emd)\n",
    "print ( f\" MSE With EMD  = {mean_squared_error(y_pred_4_weeks_emd , y_test_4_weeks_emd)}\")\n",
    "print(f\" MAE With EMD = {mean_absolute_error(y_pred_4_weeks_emd , y_test_4_weeks_emd)}\")\n",
    "print(\" They're Almost Zero 0_0\")"
   ]
  },
  {
   "attachments": {},
   "cell_type": "markdown",
   "metadata": {},
   "source": [
    "## Model Stacking"
   ]
  },
  {
   "cell_type": "code",
   "execution_count": 126,
   "metadata": {},
   "outputs": [],
   "source": [
    "lr_m = LinearRegression().fit(X_train_12_weeks_emd , y_train_12_weeks_emd)\n",
    "dt_m = DecisionTreeRegressor().fit(X_train_12_weeks_emd , y_train_12_weeks_emd)\n",
    "gb_m = GradientBoostingRegressor().fit(X_train_12_weeks_emd , y_train_12_weeks_emd)\n",
    "\n",
    "lr_preds = lr_m.predict(X_test_4_weeks_emd)\n",
    "tree_preds = dt_m.predict(X_test_4_weeks_emd)\n",
    "gb_preds = gb_m.predict(X_test_4_weeks_emd)\n",
    "\n",
    "X_stacked = np.column_stack((lr_preds, tree_preds, gb_preds))\n",
    "\n",
    "\n",
    "model_final = LinearRegression().fit(X_stacked , y_test_4_weeks_emd)"
   ]
  },
  {
   "cell_type": "code",
   "execution_count": 127,
   "metadata": {},
   "outputs": [
    {
     "name": "stdout",
     "output_type": "stream",
     "text": [
      "MSE = 5.048709793414476e-28\n"
     ]
    }
   ],
   "source": [
    "stacked_preds = model_final.predict(X_stacked)\n",
    "\n",
    "print(f\"MSE = {mean_squared_error(stacked_preds , y_test_4_weeks_emd)}\")"
   ]
  }
 ],
 "metadata": {
  "kernelspec": {
   "display_name": "Python 3",
   "language": "python",
   "name": "python3"
  },
  "language_info": {
   "codemirror_mode": {
    "name": "ipython",
    "version": 3
   },
   "file_extension": ".py",
   "mimetype": "text/x-python",
   "name": "python",
   "nbconvert_exporter": "python",
   "pygments_lexer": "ipython3",
   "version": "3.9.0"
  },
  "orig_nbformat": 4
 },
 "nbformat": 4,
 "nbformat_minor": 2
}
