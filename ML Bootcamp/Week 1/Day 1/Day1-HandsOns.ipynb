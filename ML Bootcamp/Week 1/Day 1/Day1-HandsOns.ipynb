{
 "cells": [
  {
   "attachments": {},
   "cell_type": "markdown",
   "id": "a5ada11b",
   "metadata": {},
   "source": [
    "<!-- <img src=\"../assets/logo3.png\" width=\"200\" height=\"200\" > -->\n",
    "\n",
    "<div style=\"display:block\"><br><br>\n",
    "    <div style=\"display:block\" align=left display=block> \n",
    "        <font size=5><b>Day1 - HandsOn</b></font><br>\n",
    "        <hr/>\n",
    "\n",
    "</div>\n",
    "\n",
    "<pre>\n",
    ".\n",
    "├── Step 1: Import necessary libraries and load the dataset\n",
    "│\n",
    "├── Step 2: Understand the dataset and perform exploratory data analysis (EDA)\n",
    "│\n",
    "├── Step 3: Visualization\n",
    "│ \n",
    "├── Step 4: Split the dataset into features (X) and target variable (y)\n",
    "│ \n",
    "├── Step 5: Split the dataset into training and test sets\n",
    "│\n",
    "├── Step 6: Running the KNN algorithm on the dataset\n",
    "│\n",
    "├── Step 7: Checking the output of the algorithm\n",
    "│\n",
    "├── Step 8: Checking the effect of dimension normalization on the model's performance\n",
    "│\n",
    "├── Step 9: Comparing the accuracy before and after normalization\n",
    "│\n",
    "├── Step 10: Checking the effect of model parameters\n",
    "│\n",
    "└── Step 11: Checking the types of distance functions\n",
    "\n",
    "</pre>"
   ]
  },
  {
   "attachments": {},
   "cell_type": "markdown",
   "id": "73d365ef",
   "metadata": {},
   "source": [
    "# Part 1"
   ]
  },
  {
   "attachments": {},
   "cell_type": "markdown",
   "id": "d6c9b7e5-d054-42fd-965d-0b9cf13e31eb",
   "metadata": {
    "tags": []
   },
   "source": [
    "## Step 1: Import necessary libraries and load the dataset\n",
    "\n",
    "\n",
    "* In this step, we import the necessary libraries such as NumPy, Pandas, Matplotlib, Seaborn, and the breast cancer dataset from scikit-learn.\n",
    "* The breast cancer dataset contains information about various features computed from digitized images of breast mass samples."
   ]
  },
  {
   "cell_type": "code",
   "execution_count": 2,
   "id": "95f6cbdd-fe97-4d2e-8aab-742f3c80e1e4",
   "metadata": {
    "tags": []
   },
   "outputs": [],
   "source": [
    "import numpy as np\n",
    "import pandas as pd\n",
    "import matplotlib.pyplot as plt\n",
    "import seaborn as sns\n",
    "from sklearn.datasets import load_breast_cancer"
   ]
  },
  {
   "attachments": {},
   "cell_type": "markdown",
   "id": "b767fb1f-3631-4d27-86e6-a36cb9aa0e8e",
   "metadata": {
    "tags": []
   },
   "source": [
    "## Step 2: Understand the dataset and perform exploratory data analysis (EDA)\n",
    "\n",
    "* We will use the Breast Cancer dataset for this example.\n",
    "* The load_breast_cancer function loads the dataset.\n",
    "\n",
    "* In this step, we create a DataFrame from the feature data of the breast cancer dataset.\n",
    "* We add the target variable (diagnosis) to the DataFrame.\n",
    "* The first few rows of the DataFrame are displayed to get an initial understanding of the data.\n",
    "* We check the shape of the DataFrame to see the number of rows and columns.\n",
    "* Missing values are checked to ensure the data is complete.\n",
    "* We visualize the distribution of the target variable using a countplot.\n",
    "* The correlation between features is computed and visualized using a heatmap."
   ]
  },
  {
   "cell_type": "code",
   "execution_count": 3,
   "id": "e890fb9c-9f58-42b7-a5a9-04fdba756496",
   "metadata": {
    "tags": []
   },
   "outputs": [],
   "source": [
    "# Load dataset\n",
    "data = load_breast_cancer()"
   ]
  },
  {
   "attachments": {},
   "cell_type": "markdown",
   "id": "a0cdb330-5ce0-4ea0-be7e-5a103394e98f",
   "metadata": {
    "tags": []
   },
   "source": [
    "### About the dataset\n",
    "\n",
    "\n",
    "The Breast Cancer dataset used in the code is a popular benchmark dataset for binary classification tasks. It is available in scikit-learn and contains measurements of various features computed from digitized images of breast mass samples. The goal is to classify whether a given sample is benign (non-cancerous) or malignant (cancerous).\n",
    "\n",
    "Here's some information about the Breast Cancer dataset:\n",
    "\n",
    "* Number of Instances: 569\n",
    "* Number of Features: 30\n",
    "* Target Variable: Diagnosis (Benign or Malignant)\n",
    "* Benign: Represented by 0\n",
    "* Malignant: Represented by 1\n",
    "\n"
   ]
  },
  {
   "attachments": {},
   "cell_type": "markdown",
   "id": "8caf25ea-f50d-4b78-961d-02543e584bc1",
   "metadata": {},
   "source": [
    "### Create a DataFrame with the feature data"
   ]
  },
  {
   "cell_type": "code",
   "execution_count": 4,
   "id": "ccd367b8-fd0b-45a8-b7b4-060ca52fd62f",
   "metadata": {
    "tags": []
   },
   "outputs": [],
   "source": [
    "df = pd.DataFrame(data.data)"
   ]
  },
  {
   "attachments": {},
   "cell_type": "markdown",
   "id": "a8248af5-0f69-4879-b48a-f798d490086d",
   "metadata": {},
   "source": [
    "### Add the target variable to the DataFrame"
   ]
  },
  {
   "cell_type": "code",
   "execution_count": 5,
   "id": "bc0da0f1-08f5-4afa-b7d5-23fbe012cdfc",
   "metadata": {
    "tags": []
   },
   "outputs": [],
   "source": [
    "df['Target'] = data.target\n"
   ]
  },
  {
   "attachments": {},
   "cell_type": "markdown",
   "id": "65f11c23-6ade-46d6-b47c-e778deecb791",
   "metadata": {},
   "source": [
    "### Check the first few rows of the DataFrame\n",
    "\n",
    "\n",
    "* Let's take a look at the first few rows of the dataset to understand its structure and contents.\n",
    "\n",
    "* This will help us get a sense of the data we are working with.\n",
    "\n",
    "* Display the first few rows of the dataset"
   ]
  },
  {
   "cell_type": "code",
   "execution_count": 6,
   "id": "b1573a80-1c6c-4ab1-9dcf-431adf1f137c",
   "metadata": {
    "tags": []
   },
   "outputs": [
    {
     "data": {
      "text/html": [
       "<div>\n",
       "<style scoped>\n",
       "    .dataframe tbody tr th:only-of-type {\n",
       "        vertical-align: middle;\n",
       "    }\n",
       "\n",
       "    .dataframe tbody tr th {\n",
       "        vertical-align: top;\n",
       "    }\n",
       "\n",
       "    .dataframe thead th {\n",
       "        text-align: right;\n",
       "    }\n",
       "</style>\n",
       "<table border=\"1\" class=\"dataframe\">\n",
       "  <thead>\n",
       "    <tr style=\"text-align: right;\">\n",
       "      <th></th>\n",
       "      <th>0</th>\n",
       "      <th>1</th>\n",
       "      <th>2</th>\n",
       "      <th>3</th>\n",
       "      <th>4</th>\n",
       "      <th>5</th>\n",
       "      <th>6</th>\n",
       "      <th>7</th>\n",
       "      <th>8</th>\n",
       "      <th>9</th>\n",
       "      <th>...</th>\n",
       "      <th>21</th>\n",
       "      <th>22</th>\n",
       "      <th>23</th>\n",
       "      <th>24</th>\n",
       "      <th>25</th>\n",
       "      <th>26</th>\n",
       "      <th>27</th>\n",
       "      <th>28</th>\n",
       "      <th>29</th>\n",
       "      <th>Target</th>\n",
       "    </tr>\n",
       "  </thead>\n",
       "  <tbody>\n",
       "    <tr>\n",
       "      <th>0</th>\n",
       "      <td>17.99</td>\n",
       "      <td>10.38</td>\n",
       "      <td>122.80</td>\n",
       "      <td>1001.0</td>\n",
       "      <td>0.11840</td>\n",
       "      <td>0.27760</td>\n",
       "      <td>0.3001</td>\n",
       "      <td>0.14710</td>\n",
       "      <td>0.2419</td>\n",
       "      <td>0.07871</td>\n",
       "      <td>...</td>\n",
       "      <td>17.33</td>\n",
       "      <td>184.60</td>\n",
       "      <td>2019.0</td>\n",
       "      <td>0.1622</td>\n",
       "      <td>0.6656</td>\n",
       "      <td>0.7119</td>\n",
       "      <td>0.2654</td>\n",
       "      <td>0.4601</td>\n",
       "      <td>0.11890</td>\n",
       "      <td>0</td>\n",
       "    </tr>\n",
       "    <tr>\n",
       "      <th>1</th>\n",
       "      <td>20.57</td>\n",
       "      <td>17.77</td>\n",
       "      <td>132.90</td>\n",
       "      <td>1326.0</td>\n",
       "      <td>0.08474</td>\n",
       "      <td>0.07864</td>\n",
       "      <td>0.0869</td>\n",
       "      <td>0.07017</td>\n",
       "      <td>0.1812</td>\n",
       "      <td>0.05667</td>\n",
       "      <td>...</td>\n",
       "      <td>23.41</td>\n",
       "      <td>158.80</td>\n",
       "      <td>1956.0</td>\n",
       "      <td>0.1238</td>\n",
       "      <td>0.1866</td>\n",
       "      <td>0.2416</td>\n",
       "      <td>0.1860</td>\n",
       "      <td>0.2750</td>\n",
       "      <td>0.08902</td>\n",
       "      <td>0</td>\n",
       "    </tr>\n",
       "    <tr>\n",
       "      <th>2</th>\n",
       "      <td>19.69</td>\n",
       "      <td>21.25</td>\n",
       "      <td>130.00</td>\n",
       "      <td>1203.0</td>\n",
       "      <td>0.10960</td>\n",
       "      <td>0.15990</td>\n",
       "      <td>0.1974</td>\n",
       "      <td>0.12790</td>\n",
       "      <td>0.2069</td>\n",
       "      <td>0.05999</td>\n",
       "      <td>...</td>\n",
       "      <td>25.53</td>\n",
       "      <td>152.50</td>\n",
       "      <td>1709.0</td>\n",
       "      <td>0.1444</td>\n",
       "      <td>0.4245</td>\n",
       "      <td>0.4504</td>\n",
       "      <td>0.2430</td>\n",
       "      <td>0.3613</td>\n",
       "      <td>0.08758</td>\n",
       "      <td>0</td>\n",
       "    </tr>\n",
       "    <tr>\n",
       "      <th>3</th>\n",
       "      <td>11.42</td>\n",
       "      <td>20.38</td>\n",
       "      <td>77.58</td>\n",
       "      <td>386.1</td>\n",
       "      <td>0.14250</td>\n",
       "      <td>0.28390</td>\n",
       "      <td>0.2414</td>\n",
       "      <td>0.10520</td>\n",
       "      <td>0.2597</td>\n",
       "      <td>0.09744</td>\n",
       "      <td>...</td>\n",
       "      <td>26.50</td>\n",
       "      <td>98.87</td>\n",
       "      <td>567.7</td>\n",
       "      <td>0.2098</td>\n",
       "      <td>0.8663</td>\n",
       "      <td>0.6869</td>\n",
       "      <td>0.2575</td>\n",
       "      <td>0.6638</td>\n",
       "      <td>0.17300</td>\n",
       "      <td>0</td>\n",
       "    </tr>\n",
       "    <tr>\n",
       "      <th>4</th>\n",
       "      <td>20.29</td>\n",
       "      <td>14.34</td>\n",
       "      <td>135.10</td>\n",
       "      <td>1297.0</td>\n",
       "      <td>0.10030</td>\n",
       "      <td>0.13280</td>\n",
       "      <td>0.1980</td>\n",
       "      <td>0.10430</td>\n",
       "      <td>0.1809</td>\n",
       "      <td>0.05883</td>\n",
       "      <td>...</td>\n",
       "      <td>16.67</td>\n",
       "      <td>152.20</td>\n",
       "      <td>1575.0</td>\n",
       "      <td>0.1374</td>\n",
       "      <td>0.2050</td>\n",
       "      <td>0.4000</td>\n",
       "      <td>0.1625</td>\n",
       "      <td>0.2364</td>\n",
       "      <td>0.07678</td>\n",
       "      <td>0</td>\n",
       "    </tr>\n",
       "  </tbody>\n",
       "</table>\n",
       "<p>5 rows × 31 columns</p>\n",
       "</div>"
      ],
      "text/plain": [
       "       0      1       2       3        4        5       6        7       8  \\\n",
       "0  17.99  10.38  122.80  1001.0  0.11840  0.27760  0.3001  0.14710  0.2419   \n",
       "1  20.57  17.77  132.90  1326.0  0.08474  0.07864  0.0869  0.07017  0.1812   \n",
       "2  19.69  21.25  130.00  1203.0  0.10960  0.15990  0.1974  0.12790  0.2069   \n",
       "3  11.42  20.38   77.58   386.1  0.14250  0.28390  0.2414  0.10520  0.2597   \n",
       "4  20.29  14.34  135.10  1297.0  0.10030  0.13280  0.1980  0.10430  0.1809   \n",
       "\n",
       "         9  ...     21      22      23      24      25      26      27  \\\n",
       "0  0.07871  ...  17.33  184.60  2019.0  0.1622  0.6656  0.7119  0.2654   \n",
       "1  0.05667  ...  23.41  158.80  1956.0  0.1238  0.1866  0.2416  0.1860   \n",
       "2  0.05999  ...  25.53  152.50  1709.0  0.1444  0.4245  0.4504  0.2430   \n",
       "3  0.09744  ...  26.50   98.87   567.7  0.2098  0.8663  0.6869  0.2575   \n",
       "4  0.05883  ...  16.67  152.20  1575.0  0.1374  0.2050  0.4000  0.1625   \n",
       "\n",
       "       28       29  Target  \n",
       "0  0.4601  0.11890       0  \n",
       "1  0.2750  0.08902       0  \n",
       "2  0.3613  0.08758       0  \n",
       "3  0.6638  0.17300       0  \n",
       "4  0.2364  0.07678       0  \n",
       "\n",
       "[5 rows x 31 columns]"
      ]
     },
     "execution_count": 6,
     "metadata": {},
     "output_type": "execute_result"
    }
   ],
   "source": [
    "df.head()"
   ]
  },
  {
   "attachments": {},
   "cell_type": "markdown",
   "id": "13117826-c4f6-4d90-af27-08b6576ed86b",
   "metadata": {},
   "source": [
    "### Check the shape of the DataFrame\n"
   ]
  },
  {
   "cell_type": "code",
   "execution_count": 7,
   "id": "427e75b5-88c7-43f1-a00c-7471d10fa8aa",
   "metadata": {
    "tags": []
   },
   "outputs": [
    {
     "data": {
      "text/plain": [
       "(569, 31)"
      ]
     },
     "execution_count": 7,
     "metadata": {},
     "output_type": "execute_result"
    }
   ],
   "source": [
    "df.shape"
   ]
  },
  {
   "attachments": {},
   "cell_type": "markdown",
   "id": "e9d43285-d5dc-4ce8-967b-4d9b8c5a38f2",
   "metadata": {},
   "source": [
    "### Check for missing values"
   ]
  },
  {
   "cell_type": "code",
   "execution_count": 8,
   "id": "4e611b89-94b7-480e-86fd-f99301318c8e",
   "metadata": {
    "tags": []
   },
   "outputs": [
    {
     "data": {
      "text/plain": [
       "0"
      ]
     },
     "execution_count": 8,
     "metadata": {},
     "output_type": "execute_result"
    }
   ],
   "source": [
    "df.isnull().sum().sum()"
   ]
  },
  {
   "attachments": {},
   "cell_type": "markdown",
   "id": "7ea05161-033b-49c0-82a9-fd4cfa79c0b9",
   "metadata": {
    "tags": []
   },
   "source": [
    "### Check the distribution of the target variable\n"
   ]
  },
  {
   "cell_type": "code",
   "execution_count": 9,
   "id": "2dedeb27-5da4-4ca4-a5ec-328c26127840",
   "metadata": {
    "tags": []
   },
   "outputs": [
    {
     "data": {
      "text/plain": [
       "<seaborn.axisgrid.FacetGrid at 0x1c3767b6d90>"
      ]
     },
     "execution_count": 9,
     "metadata": {},
     "output_type": "execute_result"
    },
    {
     "data": {
      "image/png": "[encoded data removed]",
      "text/plain": [
       "<Figure size 360x360 with 1 Axes>"
      ]
     },
     "metadata": {
      "needs_background": "light"
     },
     "output_type": "display_data"
    }
   ],
   "source": [
    "sns.displot(df.Target)"
   ]
  },
  {
   "attachments": {},
   "cell_type": "markdown",
   "id": "3a469896-b68c-43af-a770-3990a8cbb8f0",
   "metadata": {},
   "source": [
    "### Check the correlation between features"
   ]
  },
  {
   "cell_type": "code",
   "execution_count": 10,
   "id": "0025890f-69ff-4d50-b336-7b7583229f33",
   "metadata": {
    "tags": []
   },
   "outputs": [
    {
     "data": {
      "text/plain": [
       "<AxesSubplot:>"
      ]
     },
     "execution_count": 10,
     "metadata": {},
     "output_type": "execute_result"
    },
    {
     "data": {
      "image/png": "[encoded data removed]",
      "text/plain": [
       "<Figure size 432x288 with 2 Axes>"
      ]
     },
     "metadata": {
      "needs_background": "light"
     },
     "output_type": "display_data"
    }
   ],
   "source": [
    "sns.heatmap(df.corr())"
   ]
  },
  {
   "attachments": {},
   "cell_type": "markdown",
   "id": "55d07464-47fd-4936-b0ec-d1fce2c041b5",
   "metadata": {},
   "source": [
    "## Step 3: Visualization"
   ]
  },
  {
   "attachments": {},
   "cell_type": "markdown",
   "id": "903cc568-bc42-4095-81a3-6da62fc744be",
   "metadata": {},
   "source": [
    "### Perform a scatter plot to visualize two features\n",
    "\n",
    "* To visualize the relationship between two features, convert the dataset to a DataFrame using pd.DataFrame(data.data, columns=data.feature_names) and assign the target values using df['target'] = data.target.\n",
    "* Define the two features (mean radius and mean texture) that you want to visualize by setting the variables feature1 and feature2.\n",
    "* Create a scatter plot using plt.scatter to plot the two features against each other. The color of each point represents the target variable (target) using the c parameter and a cool-warm colormap.\n",
    "* Finally, add labels and a title to the plot for better understanding and visualization."
   ]
  },
  {
   "cell_type": "code",
   "execution_count": null,
   "metadata": {},
   "outputs": [],
   "source": []
  },
  {
   "cell_type": "code",
   "execution_count": 11,
   "id": "b787e048-8fe4-40e8-b398-a38bcbf6ec94",
   "metadata": {
    "tags": []
   },
   "outputs": [
    {
     "data": {
      "text/plain": [
       "Text(0.5, 1.0, 'mean radius & mean texture')"
      ]
     },
     "execution_count": 11,
     "metadata": {},
     "output_type": "execute_result"
    },
    {
     "data": {
      "image/png": "[encoded data removed]",
      "text/plain": [
       "<Figure size 432x288 with 1 Axes>"
      ]
     },
     "metadata": {
      "needs_background": "light"
     },
     "output_type": "display_data"
    }
   ],
   "source": [
    "# Convert the dataset to a DataFrame\n",
    "import pandas as pd\n",
    "df = pd.DataFrame(data.data , columns=data.feature_names)\n",
    "df['target'] = data.target\n",
    "\n",
    "# Define the features to visualize\n",
    "feature1 = df[\"mean radius\"]\n",
    "feature2 = df[\"mean texture\"]\n",
    "# Create a scatter plot\n",
    "plt.scatter(feature1,feature2 , c=df[\"target\"] ,cmap='coolwarm')\n",
    "plt.xlabel('mean radius')\n",
    "plt.ylabel('mean texture')\n",
    "plt.title('mean radius & mean texture')\n",
    "\n",
    "\n",
    "\n"
   ]
  },
  {
   "attachments": {},
   "cell_type": "markdown",
   "id": "37527c69-2e72-4e63-828f-6a1daa71e0ca",
   "metadata": {},
   "source": [
    "### Create a boxplot to compare the distribution of a feature by target class\n",
    "\n",
    "* To compare the distribution of a feature based on target class, import the seaborn library using import seaborn as sns.\n",
    "* Specify the feature you want to analyze by setting the variable feature to 'mean area'.\n",
    "* Create a boxplot using sns.boxplot, where the x-axis represents the target variable (target), and the y-axis represents the feature values.\n",
    "* Add labels and a title to the plot to provide clear information about the visualization.\n"
   ]
  },
  {
   "cell_type": "code",
   "execution_count": 12,
   "id": "585bcdcc-49b1-4d09-96ff-e42dccea0885",
   "metadata": {
    "tags": []
   },
   "outputs": [
    {
     "data": {
      "text/plain": [
       "Text(0.5, 1.0, 'mean area distribution')"
      ]
     },
     "execution_count": 12,
     "metadata": {},
     "output_type": "execute_result"
    },
    {
     "data": {
      "image/png": "[encoded data removed]",
      "text/plain": [
       "<Figure size 432x288 with 1 Axes>"
      ]
     },
     "metadata": {
      "needs_background": "light"
     },
     "output_type": "display_data"
    }
   ],
   "source": [
    "# Import the necessary library\n",
    "import seaborn as sns\n",
    "\n",
    "\n",
    "\n",
    "# Define the feature for boxplot\n",
    "mean_area = df[\"mean area\"]\n",
    "# Create a boxplot\n",
    "sns.boxplot(x=\"target\" , y=mean_area , data=df)\n",
    "plt.title(\"mean area distribution\")"
   ]
  },
  {
   "attachments": {},
   "cell_type": "markdown",
   "id": "0c60c0b0-6604-4721-90c0-2d7f2154e6c9",
   "metadata": {
    "tags": []
   },
   "source": [
    "### Visualize the distribution of a feature by target class using a histogram\n",
    "\n",
    "* To visualize the distribution of a feature based on target class, specify the feature you want to analyze by setting the variable feature to 'mean smoothness'.\n",
    "* Create a histogram using sns.histplot. The feature values will be represented on the x-axis, and the frequency of occurrence will be represented on the y-axis. The histogram bars will be overlaid with a KDE (kernel density estimation) curve.\n",
    "* Add labels and a title to the plot to provide clear information"
   ]
  },
  {
   "cell_type": "code",
   "execution_count": 13,
   "id": "6ac9c4f8-d6a2-4bd5-a5d2-8e97e826c4c8",
   "metadata": {
    "tags": []
   },
   "outputs": [
    {
     "data": {
      "text/plain": [
       "Text(0.5, 1.0, 'mean smoothness frequency')"
      ]
     },
     "execution_count": 13,
     "metadata": {},
     "output_type": "execute_result"
    },
    {
     "data": {
      "image/png": "[encoded data removed]",
      "text/plain": [
       "<Figure size 432x288 with 1 Axes>"
      ]
     },
     "metadata": {
      "needs_background": "light"
     },
     "output_type": "display_data"
    }
   ],
   "source": [
    "# Define the feature for histogram\n",
    "mean_smoothness = df[\"mean smoothness\"]\n",
    "# Create a histogram with KDE\n",
    "sns.histplot(x = mean_smoothness ,stat=\"count\")\n",
    "plt.title(\"mean smoothness frequency\")"
   ]
  },
  {
   "attachments": {},
   "cell_type": "markdown",
   "id": "fe383e3e-9780-48d3-9fcf-89c6b7e2ea45",
   "metadata": {
    "tags": []
   },
   "source": [
    "## Step 4: Split the dataset into features (X) and target variable (y)\n",
    "\n",
    "* In machine learning, we typically split the dataset into features (input variables) and a target variable (output variable).\n",
    "* The features are the attributes or characteristics of the data that we will use to make predictions.\n",
    "* The target variable is the variable we want to predict.\n",
    "\n",
    "* Split the dataset into features (X) and target variable (y)\n"
   ]
  },
  {
   "cell_type": "code",
   "execution_count": 14,
   "id": "6b6594ee-23d7-4ca8-ab26-a77e0c02dc49",
   "metadata": {
    "tags": []
   },
   "outputs": [],
   "source": [
    "x = data.data\n",
    "y = data.target\n",
    "# you also can use df for spilt dataset by drop()."
   ]
  },
  {
   "attachments": {},
   "cell_type": "markdown",
   "id": "53d58338-da01-4b91-9ca8-ee7ecf87a7f1",
   "metadata": {
    "jp-MarkdownHeadingCollapsed": true,
    "tags": []
   },
   "source": [
    "## Step 5: Split the dataset into training and test sets\n",
    "\n",
    "* It is important to evaluate our machine learning model on data it has never seen before.\n",
    "* Therefore, we split the dataset into a training set and a test set.\n",
    "* The training set will be used to train the model, and the test set will be used to evaluate its performance.\n",
    "\n",
    "* Split the dataset into training and test sets\n"
   ]
  },
  {
   "cell_type": "code",
   "execution_count": 15,
   "id": "45d8d7de-9b37-4204-a29e-b369f08303d9",
   "metadata": {
    "tags": []
   },
   "outputs": [],
   "source": [
    "from sklearn.model_selection import train_test_split\n",
    "x_train , x_test , y_train , y_test = train_test_split(x,y)\n"
   ]
  },
  {
   "attachments": {},
   "cell_type": "markdown",
   "id": "b33343cc",
   "metadata": {},
   "source": [
    "___________"
   ]
  },
  {
   "attachments": {},
   "cell_type": "markdown",
   "id": "38b4ba42",
   "metadata": {},
   "source": [
    "# Part 2"
   ]
  },
  {
   "attachments": {},
   "cell_type": "markdown",
   "id": "edab9f27-7b60-4ffb-8fad-3747503099e2",
   "metadata": {
    "jp-MarkdownHeadingCollapsed": true,
    "tags": []
   },
   "source": [
    "## Step 6: Running the KNN algorithm on the dataset\n",
    "\n",
    "* Creating a KNN classifier\n",
    "* fitting it to the training data\n",
    "* making predictions on the test data.\n",
    "\n"
   ]
  },
  {
   "cell_type": "code",
   "execution_count": 29,
   "id": "d625efec-cc28-457b-b628-f89b32b48e96",
   "metadata": {
    "tags": []
   },
   "outputs": [],
   "source": [
    "from sklearn.neighbors import KNeighborsClassifier\n",
    "knn = KNeighborsClassifier()\n",
    "knn.fit(x_train,y_train)\n",
    "y_pred = knn.predict(x_test)"
   ]
  },
  {
   "attachments": {},
   "cell_type": "markdown",
   "id": "7e29dd55-9696-4daa-8678-fae367307049",
   "metadata": {
    "jp-MarkdownHeadingCollapsed": true,
    "tags": []
   },
   "source": [
    "## Step 7: Checking the output of the algorithm\n",
    "\n",
    "* Printing the predicted labels to see the output of the KNN algorithm.\n",
    "\n",
    "\n"
   ]
  },
  {
   "cell_type": "code",
   "execution_count": 30,
   "id": "9149d8df-28ce-407e-8aff-0a2d50b39ba4",
   "metadata": {
    "tags": []
   },
   "outputs": [
    {
     "name": "stdout",
     "output_type": "stream",
     "text": [
      "[1 1 0 0 1 1 1 0 1 0 1 0 0 1 0 1 1 1 1 0 1 0 1 1 1 1 1 0 1 1 1 1 1 0 0 1 0\n",
      " 0 0 1 1 0 1 1 1 0 1 1 1 1 1 1 0 1 1 1 1 1 1 0 1 1 1 1 0 1 0 1 1 1 1 1 1 1\n",
      " 1 1 1 1 0 1 1 1 1 1 0 1 1 0 1 1 1 1 1 1 1 1 1 1 1 0 1 0 1 0 1 1 1 0 1 1 1\n",
      " 1 1 1 0 1 0 0 1 1 0 1 1 1 1 0 0 0 1 1 1 1 0 1 1 0 1 1 1 1 1 1 1]\n"
     ]
    }
   ],
   "source": [
    "print(y_pred)"
   ]
  },
  {
   "attachments": {},
   "cell_type": "markdown",
   "id": "72af7814-5ffb-4c4d-95dd-f2474aeb7af6",
   "metadata": {
    "jp-MarkdownHeadingCollapsed": true,
    "tags": []
   },
   "source": [
    "## Step 8: Checking the effect of normalization on the model's performance\n",
    "\n",
    "* Normalizing the feature variables using StandardScaler to improve the model's performance.\n",
    "\n"
   ]
  },
  {
   "cell_type": "code",
   "execution_count": 36,
   "id": "80123ccd-dd50-4373-840a-6123c3132635",
   "metadata": {
    "tags": []
   },
   "outputs": [
    {
     "data": {
      "text/plain": [
       "array([1, 1, 0, 0, 0, 1, 1, 0, 1, 1, 1, 0, 0, 1, 0, 1, 1, 1, 1, 0, 1, 0,\n",
       "       1, 1, 1, 1, 1, 0, 1, 1, 1, 1, 1, 0, 0, 1, 0, 0, 0, 0, 1, 0, 1, 1,\n",
       "       1, 0, 1, 1, 1, 1, 1, 1, 0, 1, 1, 0, 0, 1, 1, 0, 1, 1, 1, 1, 0, 1,\n",
       "       0, 1, 1, 1, 1, 1, 1, 1, 0, 1, 1, 1, 0, 1, 1, 1, 1, 1, 0, 1, 1, 0,\n",
       "       1, 1, 0, 1, 1, 1, 1, 1, 1, 1, 1, 0, 1, 0, 1, 0, 1, 1, 1, 0, 1, 1,\n",
       "       1, 0, 1, 0, 0, 1, 0, 0, 0, 0, 0, 1, 1, 1, 1, 0, 0, 1, 1, 1, 1, 1,\n",
       "       1, 0, 1, 0, 1, 1, 1, 1, 1, 1, 1])"
      ]
     },
     "execution_count": 36,
     "metadata": {},
     "output_type": "execute_result"
    }
   ],
   "source": [
    "from sklearn.preprocessing import StandardScaler\n",
    "\n",
    "scalar = StandardScaler()\n",
    "scalar.fit(x_train)\n",
    "x_train2 = scalar.transform(x_train)\n",
    "\n",
    "scalar.fit(x_test)\n",
    "x_test2 = scalar.transform(x_test)\n",
    "\n",
    "knn2 = KNeighborsClassifier()\n",
    "knn2.fit(x_train2,y_train)\n",
    "knn2.predict(x_test2)\n",
    "\n"
   ]
  },
  {
   "attachments": {},
   "cell_type": "markdown",
   "id": "fd16489d-4c54-42f6-a238-74cdbafef4db",
   "metadata": {
    "jp-MarkdownHeadingCollapsed": true,
    "tags": []
   },
   "source": [
    "## Step 9: Comparing the accuracy before and after normalization\n"
   ]
  },
  {
   "cell_type": "code",
   "execution_count": 42,
   "id": "94e369c2-49fc-43d2-89b7-4cf5791793c5",
   "metadata": {
    "tags": []
   },
   "outputs": [
    {
     "name": "stdout",
     "output_type": "stream",
     "text": [
      "Before : 0.9020979020979021\n",
      "After :  0.986013986013986\n"
     ]
    }
   ],
   "source": [
    "print(\"Before :\" , knn.score(x_test,y_test))\n",
    "print(\"After : \",knn2.score(x_test2,y_test))"
   ]
  },
  {
   "attachments": {},
   "cell_type": "markdown",
   "id": "219f9ea6-b1ce-4e35-a854-cafd1dc748f9",
   "metadata": {
    "jp-MarkdownHeadingCollapsed": true,
    "tags": []
   },
   "source": [
    "## Step 10: Checking the effect of model parameters\n",
    "\n",
    "* Varying the number of neighbors (k) to observe its effect on the model's accuracy.\n"
   ]
  },
  {
   "cell_type": "code",
   "execution_count": 58,
   "id": "b5d7bfc4-da6d-4a85-ac6c-4ed33a5d28f6",
   "metadata": {
    "tags": []
   },
   "outputs": [
    {
     "data": {
      "text/plain": [
       "0.986013986013986"
      ]
     },
     "execution_count": 58,
     "metadata": {},
     "output_type": "execute_result"
    }
   ],
   "source": [
    "knn3 = KNeighborsClassifier(n_neighbors=5)\n",
    "knn3.fit(x_train2,y_train)\n",
    "knn3.predict(x_test2)\n",
    "knn3.score(x_test2,y_test)"
   ]
  },
  {
   "attachments": {},
   "cell_type": "markdown",
   "id": "59ee6f86-1203-41db-adc7-f75be4a03285",
   "metadata": {
    "jp-MarkdownHeadingCollapsed": true,
    "tags": []
   },
   "source": [
    "## Step 11: Checking the types of distance functions\n",
    "* Varying the distance metric used by the KNN algorithm to observe its effect on accuracy.\n",
    "\n"
   ]
  },
  {
   "cell_type": "code",
   "execution_count": 106,
   "id": "6cb1ea38-6ade-4cf9-8ab7-56f18ea0272b",
   "metadata": {
    "tags": []
   },
   "outputs": [
    {
     "name": "stdout",
     "output_type": "stream",
     "text": [
      "chebyshev : 0.986013986013986\n",
      "manhattan : 0.965034965034965\n",
      "euclidean : 0.986013986013986\n",
      "minkowski : 0.986013986013986\n"
     ]
    }
   ],
   "source": [
    "\n",
    "distance_functions = ['euclidean', 'manhattan', 'chebyshev']\n",
    "\n",
    "knn4 = KNeighborsClassifier(n_neighbors= 9, metric=\"chebyshev\")\n",
    "knn4.fit(x_train2,y_train)\n",
    "print(\"chebyshev :\" ,knn4.score(x_test2,y_test))\n",
    "\n",
    "\n",
    "knn5 = KNeighborsClassifier(n_neighbors=3 , metric=\"manhattan\")\n",
    "knn5.fit(x_train2,y_train)\n",
    "print(\"manhattan :\" , knn5.score(x_test2,y_test))\n",
    "\n",
    "\n",
    "knn6 = KNeighborsClassifier(n_neighbors=3 , metric=\"euclidean\")\n",
    "knn6.fit(x_train2,y_train)\n",
    "print(\"euclidean :\" ,knn6.score(x_test2,y_test))\n",
    "\n",
    "knn7 = KNeighborsClassifier(n_neighbors=3 , metric=\"minkowski\" , p=2)\n",
    "knn7.fit(x_train2,y_train)\n",
    "print(\"minkowski :\" ,knn7.score(x_test2,y_test))\n"
   ]
  },
  {
   "cell_type": "code",
   "execution_count": null,
   "id": "dddb1428",
   "metadata": {},
   "outputs": [],
   "source": []
  }
 ],
 "metadata": {
  "kernelspec": {
   "display_name": "Python 3 (ipykernel)",
   "language": "python",
   "name": "python3"
  },
  "language_info": {
   "codemirror_mode": {
    "name": "ipython",
    "version": 3
   },
   "file_extension": ".py",
   "mimetype": "text/x-python",
   "name": "python",
   "nbconvert_exporter": "python",
   "pygments_lexer": "ipython3",
   "version": "3.9.0"
  }
 },
 "nbformat": 4,
 "nbformat_minor": 5
}
