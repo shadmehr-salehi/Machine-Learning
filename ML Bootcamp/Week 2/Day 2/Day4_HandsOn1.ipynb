{
  "cells": [
    {
      "attachments": {},
      "cell_type": "markdown",
      "metadata": {
        "id": "JMzs4QSQ9Kp7"
      },
      "source": [
        "\n",
        "\n",
        "<div style=\"display:block\"><br><br>\n",
        "    <div style=\"display:block\" align=left display=block> \n",
        "        <font size=5><b>Day4 - HandsOn2: Ensemble Models</b></font><br>\n",
        "        <hr/>\n",
        "\n",
        "</div>\n",
        "\n",
        "<pre>\n",
        ".\n",
        "├── Dataset\n",
        "│\n",
        "├── What is Entropy?\n",
        "│\n",
        "├── Decsion Trees\n",
        "│ \n",
        "├── Visualization of Decision Trees\n",
        "│\n",
        "└──  (Optional) One step of Decision Tree from Scratch\n",
        "\n",
        "</pre>"
      ]
    },
    {
      "attachments": {},
      "cell_type": "markdown",
      "metadata": {
        "id": "XOVcdZmg9KqD"
      },
      "source": [
        "The sections marked with a Thinking Emoji (💭) are those which you need to read and answer. All right, without further ado, let's get started!\n",
        "______________________________________"
      ]
    },
    {
      "attachments": {},
      "cell_type": "markdown",
      "metadata": {
        "id": "H8Y6ugqk9KqE"
      },
      "source": [
        "## Import Modules/Libraries"
      ]
    },
    {
      "cell_type": "code",
      "execution_count": 1,
      "metadata": {
        "id": "MH4VS3Gr9KqF"
      },
      "outputs": [],
      "source": [
        "import numpy as np\n",
        "import pandas as pd\n",
        "import matplotlib.pyplot as plt\n",
        "import seaborn as sns\n",
        "import scipy as sp"
      ]
    },
    {
      "attachments": {},
      "cell_type": "markdown",
      "metadata": {
        "id": "i76yPOcA9KqH"
      },
      "source": [
        "__________________________________________________"
      ]
    },
    {
      "attachments": {},
      "cell_type": "markdown",
      "metadata": {
        "id": "j0A6F2wD9KqI"
      },
      "source": [
        "## Dataset"
      ]
    },
    {
      "attachments": {},
      "cell_type": "markdown",
      "metadata": {
        "id": "vjcjKp3l9KqJ"
      },
      "source": [
        "Before doing anything, we need to get familiar with Dataset. The desired dataset is located in the `car_evaluation.csv` file. Car Evaluation Database was derived from a simple hierarchical decision model originally developed for the demonstration of DEX. The classification goal is to predict quality of a car with given information. Features of this dataset are described below:\n"
      ]
    },
    {
      "attachments": {},
      "cell_type": "markdown",
      "metadata": {
        "id": "r_EPDiAF9KqK"
      },
      "source": [
        "| Feature | Description |\n",
        "| :- | :- |\n",
        "|buying | buying price\n",
        "|maint  |  price of the maintenance\n",
        "| doors |  number of doors\n",
        "| persons  | capacity in terms of persons to carry\n",
        "| lug_boot | the size of luggage boot\n",
        "| safety | estimated safety of the car\n",
        "| Class | class labels for each car\n",
        "\n",
        "\n",
        "\n"
      ]
    },
    {
      "attachments": {},
      "cell_type": "markdown",
      "metadata": {
        "id": "m9ZZ9Li79KqL"
      },
      "source": [
        "read dataset in code cell below, considering the parameter `header` to be `None`"
      ]
    },
    {
      "cell_type": "code",
      "execution_count": 2,
      "metadata": {
        "id": "0dr-lCar9KqM"
      },
      "outputs": [],
      "source": [
        "# Read Dataset\n",
        "df = pd.read_csv('car_evaluation.csv' , header=None)"
      ]
    },
    {
      "attachments": {},
      "cell_type": "markdown",
      "metadata": {
        "id": "4dkfdPqK9KqN"
      },
      "source": [
        "### 📖 Preprocessing and Exploration\n",
        "first we want you to do some preprocessing on the dataset.\n",
        "\n",
        "#### 💭 Questions\n",
        "- print shape of dataset\n",
        "- print some random rows from dataset\n",
        "- rename column names due to the description table\n",
        "- plot frequency of each class label\n",
        "- check if there is any missing values in dataset\n",
        "\n",
        "\n",
        "**Write the answer below:** "
      ]
    },
    {
      "cell_type": "code",
      "execution_count": 3,
      "metadata": {
        "id": "gHpBTJeO9KqO"
      },
      "outputs": [
        {
          "data": {
            "text/plain": [
              "(1728, 7)"
            ]
          },
          "execution_count": 3,
          "metadata": {},
          "output_type": "execute_result"
        }
      ],
      "source": [
        "# print shape\n",
        "df.shape"
      ]
    },
    {
      "cell_type": "code",
      "execution_count": 4,
      "metadata": {
        "id": "jOfIauIc9KqO"
      },
      "outputs": [
        {
          "data": {
            "text/html": [
              "<div>\n",
              "<style scoped>\n",
              "    .dataframe tbody tr th:only-of-type {\n",
              "        vertical-align: middle;\n",
              "    }\n",
              "\n",
              "    .dataframe tbody tr th {\n",
              "        vertical-align: top;\n",
              "    }\n",
              "\n",
              "    .dataframe thead th {\n",
              "        text-align: right;\n",
              "    }\n",
              "</style>\n",
              "<table border=\"1\" class=\"dataframe\">\n",
              "  <thead>\n",
              "    <tr style=\"text-align: right;\">\n",
              "      <th></th>\n",
              "      <th>0</th>\n",
              "      <th>1</th>\n",
              "      <th>2</th>\n",
              "      <th>3</th>\n",
              "      <th>4</th>\n",
              "      <th>5</th>\n",
              "      <th>6</th>\n",
              "    </tr>\n",
              "  </thead>\n",
              "  <tbody>\n",
              "    <tr>\n",
              "      <th>0</th>\n",
              "      <td>vhigh</td>\n",
              "      <td>vhigh</td>\n",
              "      <td>2</td>\n",
              "      <td>2</td>\n",
              "      <td>small</td>\n",
              "      <td>low</td>\n",
              "      <td>unacc</td>\n",
              "    </tr>\n",
              "    <tr>\n",
              "      <th>1</th>\n",
              "      <td>vhigh</td>\n",
              "      <td>vhigh</td>\n",
              "      <td>2</td>\n",
              "      <td>2</td>\n",
              "      <td>small</td>\n",
              "      <td>med</td>\n",
              "      <td>unacc</td>\n",
              "    </tr>\n",
              "    <tr>\n",
              "      <th>2</th>\n",
              "      <td>vhigh</td>\n",
              "      <td>vhigh</td>\n",
              "      <td>2</td>\n",
              "      <td>2</td>\n",
              "      <td>small</td>\n",
              "      <td>high</td>\n",
              "      <td>unacc</td>\n",
              "    </tr>\n",
              "    <tr>\n",
              "      <th>3</th>\n",
              "      <td>vhigh</td>\n",
              "      <td>vhigh</td>\n",
              "      <td>2</td>\n",
              "      <td>2</td>\n",
              "      <td>med</td>\n",
              "      <td>low</td>\n",
              "      <td>unacc</td>\n",
              "    </tr>\n",
              "    <tr>\n",
              "      <th>4</th>\n",
              "      <td>vhigh</td>\n",
              "      <td>vhigh</td>\n",
              "      <td>2</td>\n",
              "      <td>2</td>\n",
              "      <td>med</td>\n",
              "      <td>med</td>\n",
              "      <td>unacc</td>\n",
              "    </tr>\n",
              "  </tbody>\n",
              "</table>\n",
              "</div>"
            ],
            "text/plain": [
              "       0      1  2  3      4     5      6\n",
              "0  vhigh  vhigh  2  2  small   low  unacc\n",
              "1  vhigh  vhigh  2  2  small   med  unacc\n",
              "2  vhigh  vhigh  2  2  small  high  unacc\n",
              "3  vhigh  vhigh  2  2    med   low  unacc\n",
              "4  vhigh  vhigh  2  2    med   med  unacc"
            ]
          },
          "execution_count": 4,
          "metadata": {},
          "output_type": "execute_result"
        }
      ],
      "source": [
        "# print some random rows from dataset\n",
        "df.head()"
      ]
    },
    {
      "cell_type": "code",
      "execution_count": 5,
      "metadata": {
        "id": "_6eRurNb9KqP"
      },
      "outputs": [
        {
          "data": {
            "text/html": [
              "<div>\n",
              "<style scoped>\n",
              "    .dataframe tbody tr th:only-of-type {\n",
              "        vertical-align: middle;\n",
              "    }\n",
              "\n",
              "    .dataframe tbody tr th {\n",
              "        vertical-align: top;\n",
              "    }\n",
              "\n",
              "    .dataframe thead th {\n",
              "        text-align: right;\n",
              "    }\n",
              "</style>\n",
              "<table border=\"1\" class=\"dataframe\">\n",
              "  <thead>\n",
              "    <tr style=\"text-align: right;\">\n",
              "      <th></th>\n",
              "      <th>buying</th>\n",
              "      <th>maint</th>\n",
              "      <th>doors</th>\n",
              "      <th>persons</th>\n",
              "      <th>lug_boot</th>\n",
              "      <th>safety</th>\n",
              "      <th>Class</th>\n",
              "    </tr>\n",
              "  </thead>\n",
              "  <tbody>\n",
              "    <tr>\n",
              "      <th>0</th>\n",
              "      <td>vhigh</td>\n",
              "      <td>vhigh</td>\n",
              "      <td>2</td>\n",
              "      <td>2</td>\n",
              "      <td>small</td>\n",
              "      <td>low</td>\n",
              "      <td>unacc</td>\n",
              "    </tr>\n",
              "    <tr>\n",
              "      <th>1</th>\n",
              "      <td>vhigh</td>\n",
              "      <td>vhigh</td>\n",
              "      <td>2</td>\n",
              "      <td>2</td>\n",
              "      <td>small</td>\n",
              "      <td>med</td>\n",
              "      <td>unacc</td>\n",
              "    </tr>\n",
              "    <tr>\n",
              "      <th>2</th>\n",
              "      <td>vhigh</td>\n",
              "      <td>vhigh</td>\n",
              "      <td>2</td>\n",
              "      <td>2</td>\n",
              "      <td>small</td>\n",
              "      <td>high</td>\n",
              "      <td>unacc</td>\n",
              "    </tr>\n",
              "    <tr>\n",
              "      <th>3</th>\n",
              "      <td>vhigh</td>\n",
              "      <td>vhigh</td>\n",
              "      <td>2</td>\n",
              "      <td>2</td>\n",
              "      <td>med</td>\n",
              "      <td>low</td>\n",
              "      <td>unacc</td>\n",
              "    </tr>\n",
              "    <tr>\n",
              "      <th>4</th>\n",
              "      <td>vhigh</td>\n",
              "      <td>vhigh</td>\n",
              "      <td>2</td>\n",
              "      <td>2</td>\n",
              "      <td>med</td>\n",
              "      <td>med</td>\n",
              "      <td>unacc</td>\n",
              "    </tr>\n",
              "    <tr>\n",
              "      <th>...</th>\n",
              "      <td>...</td>\n",
              "      <td>...</td>\n",
              "      <td>...</td>\n",
              "      <td>...</td>\n",
              "      <td>...</td>\n",
              "      <td>...</td>\n",
              "      <td>...</td>\n",
              "    </tr>\n",
              "    <tr>\n",
              "      <th>1723</th>\n",
              "      <td>low</td>\n",
              "      <td>low</td>\n",
              "      <td>5more</td>\n",
              "      <td>more</td>\n",
              "      <td>med</td>\n",
              "      <td>med</td>\n",
              "      <td>good</td>\n",
              "    </tr>\n",
              "    <tr>\n",
              "      <th>1724</th>\n",
              "      <td>low</td>\n",
              "      <td>low</td>\n",
              "      <td>5more</td>\n",
              "      <td>more</td>\n",
              "      <td>med</td>\n",
              "      <td>high</td>\n",
              "      <td>vgood</td>\n",
              "    </tr>\n",
              "    <tr>\n",
              "      <th>1725</th>\n",
              "      <td>low</td>\n",
              "      <td>low</td>\n",
              "      <td>5more</td>\n",
              "      <td>more</td>\n",
              "      <td>big</td>\n",
              "      <td>low</td>\n",
              "      <td>unacc</td>\n",
              "    </tr>\n",
              "    <tr>\n",
              "      <th>1726</th>\n",
              "      <td>low</td>\n",
              "      <td>low</td>\n",
              "      <td>5more</td>\n",
              "      <td>more</td>\n",
              "      <td>big</td>\n",
              "      <td>med</td>\n",
              "      <td>good</td>\n",
              "    </tr>\n",
              "    <tr>\n",
              "      <th>1727</th>\n",
              "      <td>low</td>\n",
              "      <td>low</td>\n",
              "      <td>5more</td>\n",
              "      <td>more</td>\n",
              "      <td>big</td>\n",
              "      <td>high</td>\n",
              "      <td>vgood</td>\n",
              "    </tr>\n",
              "  </tbody>\n",
              "</table>\n",
              "<p>1728 rows × 7 columns</p>\n",
              "</div>"
            ],
            "text/plain": [
              "     buying  maint  doors persons lug_boot safety  Class\n",
              "0     vhigh  vhigh      2       2    small    low  unacc\n",
              "1     vhigh  vhigh      2       2    small    med  unacc\n",
              "2     vhigh  vhigh      2       2    small   high  unacc\n",
              "3     vhigh  vhigh      2       2      med    low  unacc\n",
              "4     vhigh  vhigh      2       2      med    med  unacc\n",
              "...     ...    ...    ...     ...      ...    ...    ...\n",
              "1723    low    low  5more    more      med    med   good\n",
              "1724    low    low  5more    more      med   high  vgood\n",
              "1725    low    low  5more    more      big    low  unacc\n",
              "1726    low    low  5more    more      big    med   good\n",
              "1727    low    low  5more    more      big   high  vgood\n",
              "\n",
              "[1728 rows x 7 columns]"
            ]
          },
          "execution_count": 5,
          "metadata": {},
          "output_type": "execute_result"
        }
      ],
      "source": [
        "# Rename column names\n",
        "names = ['Class' ,'safety' ,'lug_boot' ,'persons', 'doors', 'maint' ,'buying']\n",
        "names.reverse()\n",
        "df.columns = names\n",
        "df\n"
      ]
    },
    {
      "cell_type": "code",
      "execution_count": 6,
      "metadata": {
        "id": "Aca8QXUj9KqQ"
      },
      "outputs": [
        {
          "data": {
            "text/plain": [
              "<AxesSubplot:>"
            ]
          },
          "execution_count": 6,
          "metadata": {},
          "output_type": "execute_result"
        },
        {
          "data": {
            "image/png": "[encoded data removed]",
            "text/plain": [
              "<Figure size 432x288 with 1 Axes>"
            ]
          },
          "metadata": {
            "needs_background": "light"
          },
          "output_type": "display_data"
        }
      ],
      "source": [
        "# plot frequency of labels\n",
        "df['Class'].value_counts().plot(kind='bar')"
      ]
    },
    {
      "cell_type": "code",
      "execution_count": 7,
      "metadata": {
        "id": "FUxIYZk19KqQ"
      },
      "outputs": [
        {
          "data": {
            "text/plain": [
              "buying      0\n",
              "maint       0\n",
              "doors       0\n",
              "persons     0\n",
              "lug_boot    0\n",
              "safety      0\n",
              "Class       0\n",
              "dtype: int64"
            ]
          },
          "execution_count": 7,
          "metadata": {},
          "output_type": "execute_result"
        }
      ],
      "source": [
        "# check for missing values\n",
        "\n",
        "df.isna().sum()"
      ]
    },
    {
      "attachments": {},
      "cell_type": "markdown",
      "metadata": {
        "id": "qsPfCg7F9KqR"
      },
      "source": [
        "### 📖 Feature Engineering\n",
        "After appropriate preprocessing, we need to encode our categorical features into numbers. for this purpose we can use\n",
        "\n",
        "#### 💭 Questions\n",
        "- print datatypes of dataframe columns\n",
        "- as you have seen up to now our features are categorical. use `category_encoders ` library to convert these categorcal features to discrete numerical features with `ordinal encoding`.\n",
        "- rename column names due to the description table\n",
        "- plot frequency of each class label\n",
        "- check if there is any missing values in dataset\n",
        "\n",
        "\n",
        "**Write the answer below:** "
      ]
    },
    {
      "cell_type": "code",
      "execution_count": 8,
      "metadata": {
        "id": "MaCHWYK-9KqS"
      },
      "outputs": [
        {
          "data": {
            "text/plain": [
              "Index(['buying', 'maint', 'doors', 'persons', 'lug_boot', 'safety', 'Class'], dtype='object')"
            ]
          },
          "execution_count": 8,
          "metadata": {},
          "output_type": "execute_result"
        }
      ],
      "source": [
        "# print data types\n",
        "df.columns"
      ]
    },
    {
      "cell_type": "code",
      "execution_count": 9,
      "metadata": {
        "id": "sX1qpKgU9KqS"
      },
      "outputs": [],
      "source": [
        "# convert fetures to numerical features\n",
        "from category_encoders import OrdinalEncoder\n",
        "\n",
        "encoder = OrdinalEncoder()\n",
        "df = encoder.fit_transform(df[['buying', 'maint', 'doors', 'persons', 'lug_boot', 'safety', 'Class']])\n"
      ]
    },
    {
      "attachments": {},
      "cell_type": "markdown",
      "metadata": {
        "id": "foagsLEA9KqT"
      },
      "source": [
        "_________________________________"
      ]
    },
    {
      "attachments": {},
      "cell_type": "markdown",
      "metadata": {
        "id": "-uR9nbmr9KqT"
      },
      "source": [
        "## What is Entropy?"
      ]
    },
    {
      "attachments": {},
      "cell_type": "markdown",
      "metadata": {
        "id": "ErfgkyR99KqU"
      },
      "source": [
        "as you saw in the theory session, in a decision tree, we decide if a node will be split or not by looking at the **information gain** that split would give us.\n",
        "\n",
        "Where \n",
        "\n",
        "$$\\text{Information Gain} = H(p_1^\\text{node})- \\left(w^{\\text{left}}H\\left(p_1^\\text{left}\\right) + w^{\\text{right}}H\\left(p_1^\\text{right}\\right)\\right),$$\n",
        "\n",
        "and $H$ is the entropy, defined as\n",
        "\n",
        "$$H(p_1) = -p_1 \\text{log}_2(p_1) - (1- p_1) \\text{log}_2(1- p_1)$$\n",
        "\n",
        "Remember that log here is defined to be in base 2. \n",
        "In this section we want to investigate the behavior of $H(p)$ behaves while $p$ varies."
      ]
    },
    {
      "attachments": {},
      "cell_type": "markdown",
      "metadata": {
        "id": "bvVu0jVn9KqU"
      },
      "source": [
        "### 📖 Entropy\n",
        "first we want you to plot different distributuins and working with `scipy` library. Answer the Questions below to reach this purpose.\n",
        "\n",
        "#### 💭 Questions\n",
        "- Write a function that to compute the entropy. `use the equation below for this function`\n",
        "- create a numpy array with numbers from `0` to `1` with a step of `0.01`\n",
        "- calculate the entropy of samples that you have generated in the last section.\n",
        "- Plot the Entropy of samples that you have calculated in the last question. the x-axis must show the numbers that you have generated between 0 and 1, these numbers are considered as probablity. the y-axis must show the entropy of each probablity.\n",
        "- what is the relationship between entropy and probablity?\n",
        "\n",
        "**Write the answer below:** "
      ]
    },
    {
      "cell_type": "code",
      "execution_count": 10,
      "metadata": {
        "id": "pEi-2RSL9KqX"
      },
      "outputs": [],
      "source": [
        "# Define a functioin for entropy\n",
        "from math import log2\n",
        "def entropy(p1):\n",
        "    ans = -p1 * log2(p1) - (1-p1)*log2(1-p1)\n",
        "    return ans \n"
      ]
    },
    {
      "cell_type": "code",
      "execution_count": 11,
      "metadata": {
        "id": "gUfBvW1m9KqY"
      },
      "outputs": [
        {
          "data": {
            "text/plain": [
              "array([0.01, 0.02, 0.03, 0.04, 0.05, 0.06, 0.07, 0.08, 0.09, 0.1 , 0.11,\n",
              "       0.12, 0.13, 0.14, 0.15, 0.16, 0.17, 0.18, 0.19, 0.2 , 0.21, 0.22,\n",
              "       0.23, 0.24, 0.25, 0.26, 0.27, 0.28, 0.29, 0.3 , 0.31, 0.32, 0.33,\n",
              "       0.34, 0.35, 0.36, 0.37, 0.38, 0.39, 0.4 , 0.41, 0.42, 0.43, 0.44,\n",
              "       0.45, 0.46, 0.47, 0.48, 0.49, 0.5 , 0.51, 0.52, 0.53, 0.54, 0.55,\n",
              "       0.56, 0.57, 0.58, 0.59, 0.6 , 0.61, 0.62, 0.63, 0.64, 0.65, 0.66,\n",
              "       0.67, 0.68, 0.69, 0.7 , 0.71, 0.72, 0.73, 0.74, 0.75, 0.76, 0.77,\n",
              "       0.78, 0.79, 0.8 , 0.81, 0.82, 0.83, 0.84, 0.85, 0.86, 0.87, 0.88,\n",
              "       0.89, 0.9 , 0.91, 0.92, 0.93, 0.94, 0.95, 0.96, 0.97, 0.98, 0.99])"
            ]
          },
          "execution_count": 11,
          "metadata": {},
          "output_type": "execute_result"
        }
      ],
      "source": [
        "# create numbers between 0 and 1\n",
        "lst = np.arange(0.01,1,0.01)\n",
        "lst"
      ]
    },
    {
      "cell_type": "code",
      "execution_count": 12,
      "metadata": {
        "id": "iXjcmHAs9KqZ"
      },
      "outputs": [
        {
          "data": {
            "text/plain": [
              "[0.08079313589591118,\n",
              " 0.14144054254182067,\n",
              " 0.1943918578315762,\n",
              " 0.24229218908241482,\n",
              " 0.28639695711595625,\n",
              " 0.32744491915447627,\n",
              " 0.3659236509002231,\n",
              " 0.4021791902022728,\n",
              " 0.43646981706410287,\n",
              " 0.4689955935892812,\n",
              " 0.499915958164528,\n",
              " 0.5293608652873644,\n",
              " 0.5574381850279891,\n",
              " 0.584238811642856,\n",
              " 0.6098403047164004,\n",
              " 0.6343095546405662,\n",
              " 0.6577047787442195,\n",
              " 0.6800770457282799,\n",
              " 0.7014714598838974,\n",
              " 0.7219280948873623,\n",
              " 0.7414827399312737,\n",
              " 0.7601675029619657,\n",
              " 0.7780113035465377,\n",
              " 0.7950402793845222,\n",
              " 0.8112781244591328,\n",
              " 0.8267463724926178,\n",
              " 0.8414646362081757,\n",
              " 0.8554508105601308,\n",
              " 0.8687212463394046,\n",
              " 0.8812908992306927,\n",
              " 0.8931734583778568,\n",
              " 0.9043814577244941,\n",
              " 0.9149263727797275,\n",
              " 0.9248187049730301,\n",
              " 0.9340680553754911,\n",
              " 0.9426831892554923,\n",
              " 0.9506720926870659,\n",
              " 0.9580420222262995,\n",
              " 0.9647995485050872,\n",
              " 0.9709505944546686,\n",
              " 0.9765004687578241,\n",
              " 0.9814538950336537,\n",
              " 0.9858150371789198,\n",
              " 0.9895875212220557,\n",
              " 0.9927744539878084,\n",
              " 0.9953784388202258,\n",
              " 0.9974015885677396,\n",
              " 0.9988455359952018,\n",
              " 0.9997114417528099,\n",
              " 1.0,\n",
              " 0.9997114417528099,\n",
              " 0.9988455359952018,\n",
              " 0.9974015885677396,\n",
              " 0.9953784388202258,\n",
              " 0.9927744539878083,\n",
              " 0.9895875212220557,\n",
              " 0.9858150371789198,\n",
              " 0.9814538950336535,\n",
              " 0.9765004687578241,\n",
              " 0.9709505944546686,\n",
              " 0.9647995485050872,\n",
              " 0.9580420222262995,\n",
              " 0.9506720926870659,\n",
              " 0.9426831892554922,\n",
              " 0.934068055375491,\n",
              " 0.92481870497303,\n",
              " 0.9149263727797274,\n",
              " 0.9043814577244939,\n",
              " 0.8931734583778568,\n",
              " 0.8812908992306926,\n",
              " 0.8687212463394045,\n",
              " 0.8554508105601308,\n",
              " 0.8414646362081757,\n",
              " 0.8267463724926178,\n",
              " 0.8112781244591328,\n",
              " 0.7950402793845223,\n",
              " 0.7780113035465376,\n",
              " 0.7601675029619656,\n",
              " 0.7414827399312736,\n",
              " 0.7219280948873623,\n",
              " 0.7014714598838974,\n",
              " 0.6800770457282796,\n",
              " 0.6577047787442193,\n",
              " 0.6343095546405659,\n",
              " 0.6098403047164004,\n",
              " 0.584238811642856,\n",
              " 0.5574381850279891,\n",
              " 0.5293608652873644,\n",
              " 0.49991595816452794,\n",
              " 0.46899559358928117,\n",
              " 0.4364698170641028,\n",
              " 0.40217919020227266,\n",
              " 0.36592365090022305,\n",
              " 0.327444919154476,\n",
              " 0.2863969571159558,\n",
              " 0.2422921890824144,\n",
              " 0.1943918578315763,\n",
              " 0.14144054254182076,\n",
              " 0.08079313589591124]"
            ]
          },
          "execution_count": 12,
          "metadata": {},
          "output_type": "execute_result"
        }
      ],
      "source": [
        "# calculate entropy\n",
        "lst2 = list(map(entropy , lst))\n",
        "lst2\n"
      ]
    },
    {
      "cell_type": "code",
      "execution_count": 13,
      "metadata": {
        "id": "iyXjKE_O9KqZ"
      },
      "outputs": [
        {
          "data": {
            "text/plain": [
              "[<matplotlib.lines.Line2D at 0x267fdadb2b0>]"
            ]
          },
          "execution_count": 13,
          "metadata": {},
          "output_type": "execute_result"
        },
        {
          "data": {
            "image/png": "[encoded data removed]",
            "text/plain": [
              "<Figure size 432x288 with 1 Axes>"
            ]
          },
          "metadata": {
            "needs_background": "light"
          },
          "output_type": "display_data"
        }
      ],
      "source": [
        "# plot entropy for each number(probablity)\n",
        "plt.plot(lst2)"
      ]
    },
    {
      "attachments": {},
      "cell_type": "markdown",
      "metadata": {
        "id": "kJoT2iHn9Kqa"
      },
      "source": [
        "___________________________________________"
      ]
    },
    {
      "attachments": {},
      "cell_type": "markdown",
      "metadata": {
        "id": "ReL9yUqS9Kqa"
      },
      "source": [
        "## Decsion Trees"
      ]
    },
    {
      "attachments": {},
      "cell_type": "markdown",
      "metadata": {
        "id": "DtBX8j179Kqa"
      },
      "source": [
        "A Decision Tree algorithm is one of the most popular machine learning algorithms. It uses a tree like structure and their possible combinations to solve a particular problem. It belongs to the class of supervised learning algorithms where it can be used for both classification and regression purposes. \n",
        "A decision tree is a structure that includes a root node, branches, and leaf nodes. Each internal node denotes a test on an attribute, each branch denotes the outcome of a test, and each leaf node holds a class label. The topmost node in the tree is the root node.\n"
      ]
    },
    {
      "attachments": {},
      "cell_type": "markdown",
      "metadata": {
        "id": "fJXcSo3Z9Kqb"
      },
      "source": [
        "### 📖 Decision Tree with entropy\n",
        "First we want to use Decision Tree model with `Entropy` criterion.\n",
        "\n",
        "#### 💭 Questions\n",
        "- seperate feature vector and target variables and save them in variables called `X` and `y`.\n",
        "- Split data to Train and Test with proportion of 80 to 20. consider 'stratify' to be \n",
        "- Train a decison tree classifier using `entropy` as criterion and fit train data. set the maximum depth parameter to 3.\n",
        "- predict labels for test data points.\n",
        "- print `f1` score for your test and train data. do you have any idea about overfiiting or underfitting?\n",
        "- check the role of `max_depth` parameter on the complexity of the model and overfiiting/underfitting. plot the result of f1 score for differrent depths for training set and test set.\n",
        "\n",
        "**Write the answer below:** "
      ]
    },
    {
      "cell_type": "code",
      "execution_count": 14,
      "metadata": {
        "id": "lZakYDze9Kqb"
      },
      "outputs": [],
      "source": [
        "# seperate feature vectors and target variables\n",
        "X = df.drop('Class' , axis=1)\n",
        "y = df['Class']"
      ]
    },
    {
      "cell_type": "code",
      "execution_count": 15,
      "metadata": {
        "id": "mxh0QgU99Kqc"
      },
      "outputs": [],
      "source": [
        "# train test split\n",
        "from sklearn.model_selection import train_test_split\n",
        "X_train , X_test , y_train , y_test = train_test_split(X,y , test_size= 0.2 , stratify=y)"
      ]
    },
    {
      "cell_type": "code",
      "execution_count": 16,
      "metadata": {
        "id": "8xJ5tA0Q9Kqc"
      },
      "outputs": [],
      "source": [
        "# Train decision Tree classifier with entropy\n",
        "from sklearn.tree import DecisionTreeClassifier\n",
        "from sklearn.metrics import f1_score\n",
        "\n",
        "dt = DecisionTreeClassifier(criterion='entropy' , max_depth=3)\n",
        "\n"
      ]
    },
    {
      "cell_type": "code",
      "execution_count": 17,
      "metadata": {
        "id": "xoFgmw_L9Kqd"
      },
      "outputs": [],
      "source": [
        "# predict labels\n",
        "dt.fit(X_train,y_train)\n",
        "y_pred_train  =dt.predict(X_train)\n",
        "y_pred_test = dt.predict(X_test)"
      ]
    },
    {
      "cell_type": "code",
      "execution_count": 18,
      "metadata": {
        "id": "s45u38wf9Kqe"
      },
      "outputs": [
        {
          "name": "stdout",
          "output_type": "stream",
          "text": [
            "on test  =  0.83\n",
            "on Train = 0.83\n"
          ]
        }
      ],
      "source": [
        "# print f1 score for train and test data\n",
        "print(f\"on test  =  {f1_score(y_pred_test , y_test , average='weighted'):.2f}\")\n",
        "\n",
        "print(f\"on Train = {f1_score(y_pred_train , y_train , average='weighted'):.2f}\")"
      ]
    },
    {
      "cell_type": "code",
      "execution_count": 19,
      "metadata": {
        "id": "Na2my2zg9Kqe"
      },
      "outputs": [
        {
          "name": "stdout",
          "output_type": "stream",
          "text": [
            "on max depth 5\n",
            "on test  =  0.88170\n",
            "on Train = 0.88514 \n",
            " \n",
            "\n",
            "on max depth 6\n",
            "on test  =  0.89591\n",
            "on Train = 0.91581 \n",
            " \n",
            "\n",
            "on max depth 7\n",
            "on test  =  0.93043\n",
            "on Train = 0.94417 \n",
            " \n",
            "\n",
            "on max depth 8\n",
            "on test  =  0.94698\n",
            "on Train = 0.96536 \n",
            " \n",
            "\n",
            "on max depth 9\n",
            "on test  =  0.97145\n",
            "on Train = 0.98126 \n",
            " \n",
            "\n",
            "on max depth 10\n",
            "on test  =  0.95661\n",
            "on Train = 0.99421 \n",
            " \n",
            "\n",
            "on max depth 11\n",
            "on test  =  0.96835\n",
            "on Train = 0.99640 \n",
            " \n",
            "\n",
            "on max depth 12\n",
            "on test  =  0.96835\n",
            "on Train = 1.00000 \n",
            " \n",
            "\n",
            "on max depth 13\n",
            "on test  =  0.97123\n",
            "on Train = 1.00000 \n",
            " \n",
            "\n",
            "on max depth 14\n",
            "on test  =  0.96544\n",
            "on Train = 1.00000 \n",
            " \n",
            "\n",
            "on max depth 15\n",
            "on test  =  0.96835\n",
            "on Train = 1.00000 \n",
            " \n",
            "\n",
            "on max depth 16\n",
            "on test  =  0.96544\n",
            "on Train = 1.00000 \n",
            " \n",
            "\n",
            "on max depth 17\n",
            "on test  =  0.96835\n",
            "on Train = 1.00000 \n",
            " \n",
            "\n",
            "on max depth 18\n",
            "on test  =  0.97123\n",
            "on Train = 1.00000 \n",
            " \n",
            "\n",
            "on max depth 19\n",
            "on test  =  0.96835\n",
            "on Train = 1.00000 \n",
            " \n",
            "\n",
            "on max depth 20\n",
            "on test  =  0.96835\n",
            "on Train = 1.00000 \n",
            " \n",
            "\n",
            "on max depth 21\n",
            "on test  =  0.96835\n",
            "on Train = 1.00000 \n",
            " \n",
            "\n",
            "on max depth 22\n",
            "on test  =  0.96544\n",
            "on Train = 1.00000 \n",
            " \n",
            "\n",
            "on max depth 23\n",
            "on test  =  0.96835\n",
            "on Train = 1.00000 \n",
            " \n",
            "\n",
            "on max depth 24\n",
            "on test  =  0.96835\n",
            "on Train = 1.00000 \n",
            " \n",
            "\n",
            "on max depth 25\n",
            "on test  =  0.96544\n",
            "on Train = 1.00000 \n",
            " \n",
            "\n",
            "on max depth 26\n",
            "on test  =  0.97123\n",
            "on Train = 1.00000 \n",
            " \n",
            "\n",
            "on max depth 27\n",
            "on test  =  0.97123\n",
            "on Train = 1.00000 \n",
            " \n",
            "\n",
            "on max depth 28\n",
            "on test  =  0.96835\n",
            "on Train = 1.00000 \n",
            " \n",
            "\n",
            "on max depth 29\n",
            "on test  =  0.96835\n",
            "on Train = 1.00000 \n",
            " \n",
            "\n",
            "on max depth 30\n",
            "on test  =  0.96835\n",
            "on Train = 1.00000 \n",
            " \n",
            "\n",
            "on max depth 31\n",
            "on test  =  0.96544\n",
            "on Train = 1.00000 \n",
            " \n",
            "\n",
            "on max depth 32\n",
            "on test  =  0.96835\n",
            "on Train = 1.00000 \n",
            " \n",
            "\n",
            "on max depth 33\n",
            "on test  =  0.96835\n",
            "on Train = 1.00000 \n",
            " \n",
            "\n",
            "on max depth 34\n",
            "on test  =  0.96835\n",
            "on Train = 1.00000 \n",
            " \n",
            "\n",
            "on max depth 35\n",
            "on test  =  0.96835\n",
            "on Train = 1.00000 \n",
            " \n",
            "\n",
            "on max depth 36\n",
            "on test  =  0.96835\n",
            "on Train = 1.00000 \n",
            " \n",
            "\n",
            "on max depth 37\n",
            "on test  =  0.96835\n",
            "on Train = 1.00000 \n",
            " \n",
            "\n",
            "on max depth 38\n",
            "on test  =  0.96835\n",
            "on Train = 1.00000 \n",
            " \n",
            "\n",
            "on max depth 39\n",
            "on test  =  0.96835\n",
            "on Train = 1.00000 \n",
            " \n",
            "\n",
            "on max depth 40\n",
            "on test  =  0.96544\n",
            "on Train = 1.00000 \n",
            " \n",
            "\n",
            "on max depth 41\n",
            "on test  =  0.96835\n",
            "on Train = 1.00000 \n",
            " \n",
            "\n",
            "on max depth 42\n",
            "on test  =  0.96835\n",
            "on Train = 1.00000 \n",
            " \n",
            "\n",
            "on max depth 43\n",
            "on test  =  0.96266\n",
            "on Train = 1.00000 \n",
            " \n",
            "\n",
            "on max depth 44\n",
            "on test  =  0.96835\n",
            "on Train = 1.00000 \n",
            " \n",
            "\n",
            "on max depth 45\n",
            "on test  =  0.96835\n",
            "on Train = 1.00000 \n",
            " \n",
            "\n",
            "on max depth 46\n",
            "on test  =  0.96835\n",
            "on Train = 1.00000 \n",
            " \n",
            "\n",
            "on max depth 47\n",
            "on test  =  0.96835\n",
            "on Train = 1.00000 \n",
            " \n",
            "\n",
            "on max depth 48\n",
            "on test  =  0.96835\n",
            "on Train = 1.00000 \n",
            " \n",
            "\n",
            "on max depth 49\n",
            "on test  =  0.96266\n",
            "on Train = 1.00000 \n",
            " \n",
            "\n"
          ]
        }
      ],
      "source": [
        "# chcek for the role of max_depth\n",
        "for i in range(5,50):\n",
        "    dt_temp = DecisionTreeClassifier(criterion='entropy' , max_depth=i)\n",
        "    dt_temp.fit(X_train,y_train)\n",
        "    y_pred_train_temp  = dt_temp.predict(X_train)\n",
        "    y_pred_test_temp = dt_temp.predict(X_test)\n",
        "    print(f\"on max depth {i}\")\n",
        "    print(f\"on test  =  {f1_score(y_pred_test_temp , y_test , average='weighted'):.5f}\")\n",
        "    print(f\"on Train = {f1_score(y_pred_train_temp , y_train , average='weighted'):.5f} \\n \\n\")\n",
        "    \n",
        "    "
      ]
    },
    {
      "attachments": {},
      "cell_type": "markdown",
      "metadata": {
        "id": "KnDtTGU-9Kqf"
      },
      "source": [
        "### 📖 Decision Tree with entropy\n",
        "you can also use `gini-index` as a criterion for decision tree classifiers.\n",
        "\n",
        "#### 💭 Questions\n",
        "- Train a decison tree classifier using `gini` as criterion and fit train data. set the maximum depth parameter to 3.\n",
        "- predict labels for test data points.\n",
        "- print `f1` score for your test and train data. do you have any idea about overfiiting or underfitting?\n",
        "- compare the results with the classifier that you have used `entropy` as criterion.\n",
        "\n",
        "**Write the answer below:** "
      ]
    },
    {
      "cell_type": "code",
      "execution_count": 20,
      "metadata": {
        "id": "KT6X_A2Q9Kqf"
      },
      "outputs": [
        {
          "data": {
            "text/html": [
              "<style>#sk-container-id-1 {color: black;background-color: white;}#sk-container-id-1 pre{padding: 0;}#sk-container-id-1 div.sk-toggleable {background-color: white;}#sk-container-id-1 label.sk-toggleable__label {cursor: pointer;display: block;width: 100%;margin-bottom: 0;padding: 0.3em;box-sizing: border-box;text-align: center;}#sk-container-id-1 label.sk-toggleable__label-arrow:before {content: \"▸\";float: left;margin-right: 0.25em;color: #696969;}#sk-container-id-1 label.sk-toggleable__label-arrow:hover:before {color: black;}#sk-container-id-1 div.sk-estimator:hover label.sk-toggleable__label-arrow:before {color: black;}#sk-container-id-1 div.sk-toggleable__content {max-height: 0;max-width: 0;overflow: hidden;text-align: left;background-color: #f0f8ff;}#sk-container-id-1 div.sk-toggleable__content pre {margin: 0.2em;color: black;border-radius: 0.25em;background-color: #f0f8ff;}#sk-container-id-1 input.sk-toggleable__control:checked~div.sk-toggleable__content {max-height: 200px;max-width: 100%;overflow: auto;}#sk-container-id-1 input.sk-toggleable__control:checked~label.sk-toggleable__label-arrow:before {content: \"▾\";}#sk-container-id-1 div.sk-estimator input.sk-toggleable__control:checked~label.sk-toggleable__label {background-color: #d4ebff;}#sk-container-id-1 div.sk-label input.sk-toggleable__control:checked~label.sk-toggleable__label {background-color: #d4ebff;}#sk-container-id-1 input.sk-hidden--visually {border: 0;clip: rect(1px 1px 1px 1px);clip: rect(1px, 1px, 1px, 1px);height: 1px;margin: -1px;overflow: hidden;padding: 0;position: absolute;width: 1px;}#sk-container-id-1 div.sk-estimator {font-family: monospace;background-color: #f0f8ff;border: 1px dotted black;border-radius: 0.25em;box-sizing: border-box;margin-bottom: 0.5em;}#sk-container-id-1 div.sk-estimator:hover {background-color: #d4ebff;}#sk-container-id-1 div.sk-parallel-item::after {content: \"\";width: 100%;border-bottom: 1px solid gray;flex-grow: 1;}#sk-container-id-1 div.sk-label:hover label.sk-toggleable__label {background-color: #d4ebff;}#sk-container-id-1 div.sk-serial::before {content: \"\";position: absolute;border-left: 1px solid gray;box-sizing: border-box;top: 0;bottom: 0;left: 50%;z-index: 0;}#sk-container-id-1 div.sk-serial {display: flex;flex-direction: column;align-items: center;background-color: white;padding-right: 0.2em;padding-left: 0.2em;position: relative;}#sk-container-id-1 div.sk-item {position: relative;z-index: 1;}#sk-container-id-1 div.sk-parallel {display: flex;align-items: stretch;justify-content: center;background-color: white;position: relative;}#sk-container-id-1 div.sk-item::before, #sk-container-id-1 div.sk-parallel-item::before {content: \"\";position: absolute;border-left: 1px solid gray;box-sizing: border-box;top: 0;bottom: 0;left: 50%;z-index: -1;}#sk-container-id-1 div.sk-parallel-item {display: flex;flex-direction: column;z-index: 1;position: relative;background-color: white;}#sk-container-id-1 div.sk-parallel-item:first-child::after {align-self: flex-end;width: 50%;}#sk-container-id-1 div.sk-parallel-item:last-child::after {align-self: flex-start;width: 50%;}#sk-container-id-1 div.sk-parallel-item:only-child::after {width: 0;}#sk-container-id-1 div.sk-dashed-wrapped {border: 1px dashed gray;margin: 0 0.4em 0.5em 0.4em;box-sizing: border-box;padding-bottom: 0.4em;background-color: white;}#sk-container-id-1 div.sk-label label {font-family: monospace;font-weight: bold;display: inline-block;line-height: 1.2em;}#sk-container-id-1 div.sk-label-container {text-align: center;}#sk-container-id-1 div.sk-container {/* jupyter's `normalize.less` sets `[hidden] { display: none; }` but bootstrap.min.css set `[hidden] { display: none !important; }` so we also need the `!important` here to be able to override the default hidden behavior on the sphinx rendered scikit-learn.org. See: https://github.com/scikit-learn/scikit-learn/issues/21755 */display: inline-block !important;position: relative;}#sk-container-id-1 div.sk-text-repr-fallback {display: none;}</style><div id=\"sk-container-id-1\" class=\"sk-top-container\"><div class=\"sk-text-repr-fallback\"><pre>DecisionTreeClassifier(max_depth=3)</pre><b>In a Jupyter environment, please rerun this cell to show the HTML representation or trust the notebook. <br />On GitHub, the HTML representation is unable to render, please try loading this page with nbviewer.org.</b></div><div class=\"sk-container\" hidden><div class=\"sk-item\"><div class=\"sk-estimator sk-toggleable\"><input class=\"sk-toggleable__control sk-hidden--visually\" id=\"sk-estimator-id-1\" type=\"checkbox\" checked><label for=\"sk-estimator-id-1\" class=\"sk-toggleable__label sk-toggleable__label-arrow\">DecisionTreeClassifier</label><div class=\"sk-toggleable__content\"><pre>DecisionTreeClassifier(max_depth=3)</pre></div></div></div></div></div>"
            ],
            "text/plain": [
              "DecisionTreeClassifier(max_depth=3)"
            ]
          },
          "execution_count": 20,
          "metadata": {},
          "output_type": "execute_result"
        }
      ],
      "source": [
        "# Train a decision tree with gini index\n",
        "dt_gini = DecisionTreeClassifier(criterion='gini' , max_depth=3)\n",
        "dt_gini.fit(X_train,y_train)"
      ]
    },
    {
      "cell_type": "code",
      "execution_count": 21,
      "metadata": {
        "id": "9Nyy3k6x9Kqr"
      },
      "outputs": [],
      "source": [
        "# predict labels for test data\n",
        "\n",
        "y_pred_test_gini = dt_gini.predict(X_test)\n",
        "y_pred_train_gini = dt_gini.predict(X_train)"
      ]
    },
    {
      "cell_type": "code",
      "execution_count": 22,
      "metadata": {
        "id": "Fb3VqmIk9Kqs"
      },
      "outputs": [
        {
          "name": "stdout",
          "output_type": "stream",
          "text": [
            "on test  =  0.829\n",
            "on Train = 0.827\n"
          ]
        }
      ],
      "source": [
        "# print f1 score for train and test data\n",
        "print(f\"on test  =  {f1_score(y_pred_test_gini , y_test , average='weighted'):.3f}\")\n",
        "print(f\"on Train = {f1_score(y_pred_train_gini , y_train , average='weighted'):.3f}\")"
      ]
    },
    {
      "attachments": {},
      "cell_type": "markdown",
      "metadata": {
        "id": "f-Qtav-v9Kqs"
      },
      "source": [
        "_______________________________________"
      ]
    },
    {
      "attachments": {},
      "cell_type": "markdown",
      "metadata": {
        "id": "TyPBcJjX9Kqs"
      },
      "source": [
        "## Visualization of Decision Trees"
      ]
    },
    {
      "attachments": {},
      "cell_type": "markdown",
      "metadata": {
        "id": "SsjeaepX9Kqs"
      },
      "source": [
        "using decision trees as a classifier model gives us the ability to intrepret the decisions that a model makes by visulazing the model. we can use two methods to visulaize our decision tree model. in this section we are going to introduce you these to methods."
      ]
    },
    {
      "attachments": {},
      "cell_type": "markdown",
      "metadata": {
        "id": "koAFyt969Kqt"
      },
      "source": [
        "### 📖 Visualizing with plot_tree function\n",
        "we can use `plot_tree` function of decision tree models in sklear library to visualize our model\n",
        "\n",
        "#### 💭 Questions\n",
        "- visualize the model that you have used `entropy` as a criterion using plot tree method.\n",
        "\n",
        "**Write the answer below:** "
      ]
    },
    {
      "cell_type": "code",
      "execution_count": 23,
      "metadata": {
        "id": "VKSKbM3_9Kqt"
      },
      "outputs": [
        {
          "data": {
            "text/plain": [
              "[Text(0.3333333333333333, 0.875, 'x[5] <= 1.5\\nentropy = 1.205\\nsamples = 1382\\nvalue = [968, 307, 52, 55]'),\n",
              " Text(0.16666666666666666, 0.625, 'entropy = 0.0\\nsamples = 461\\nvalue = [461, 0, 0, 0]'),\n",
              " Text(0.5, 0.625, 'x[3] <= 1.5\\nentropy = 1.479\\nsamples = 921\\nvalue = [507, 307, 52, 55]'),\n",
              " Text(0.3333333333333333, 0.375, 'entropy = 0.0\\nsamples = 309\\nvalue = [309, 0, 0, 0]'),\n",
              " Text(0.6666666666666666, 0.375, 'x[0] <= 2.5\\nentropy = 1.641\\nsamples = 612\\nvalue = [198, 307, 52, 55]'),\n",
              " Text(0.5, 0.125, 'entropy = 0.998\\nsamples = 303\\nvalue = [160, 143, 0, 0]'),\n",
              " Text(0.8333333333333334, 0.125, 'entropy = 1.733\\nsamples = 309\\nvalue = [38, 164, 52, 55]')]"
            ]
          },
          "execution_count": 23,
          "metadata": {},
          "output_type": "execute_result"
        },
        {
          "data": {
            "image/png": "[encoded data removed]",
            "text/plain": [
              "<Figure size 432x288 with 1 Axes>"
            ]
          },
          "metadata": {
            "needs_background": "light"
          },
          "output_type": "display_data"
        }
      ],
      "source": [
        "# visualize tree using sklearn\n",
        "from sklearn.tree import plot_tree\n",
        "plot_tree(dt)"
      ]
    },
    {
      "attachments": {},
      "cell_type": "markdown",
      "metadata": {
        "id": "j8g7JE319Kqt"
      },
      "source": [
        "### 📖 Visualizing with graphviz \n",
        "We can also export the tree in Graphviz format using the export_graphviz exporter. If you use the conda package manager, the graphviz binaries and the python package can be installed with `conda install python-graphviz`.\n",
        "\n",
        "Alternatively binaries for graphviz can be downloaded from the graphviz project homepage, and the Python wrapper installed from pypi with `pip install graphviz`.\n",
        "\n",
        "if you ecounter any problem with running graphviz, you can use this [link](https://stackoverflow.com/questions/35064304/runtimeerror-make-sure-the-graphviz-executables-are-on-your-systems-path-aft)\n",
        "\n",
        "#### 💭 Questions\n",
        "- visualize the model that you have used `gini` as a criterion using graphviz.\n",
        "\n",
        "**Write the answer below:** "
      ]
    },
    {
      "cell_type": "code",
      "execution_count": 28,
      "metadata": {
        "id": "_VJ_AMVK9Kqu"
      },
      "outputs": [
        {
          "data": {
            "image/svg+xml": [
              "<?xml version=\"1.0\" encoding=\"UTF-8\" standalone=\"no\"?>\n",
              "<!DOCTYPE svg PUBLIC \"-//W3C//DTD SVG 1.1//EN\"\n",
              " \"http://www.w3.org/Graphics/SVG/1.1/DTD/svg11.dtd\">\n",
              "<!-- Generated by graphviz version 8.0.5 (20230430.1635)\n",
              " -->\n",
              "<!-- Title: Tree Pages: 1 -->\n",
              "<svg width=\"524pt\" height=\"396pt\"\n",
              " viewBox=\"0.00 0.00 523.62 395.50\" xmlns=\"http://www.w3.org/2000/svg\" xmlns:xlink=\"http://www.w3.org/1999/xlink\">\n",
              "<g id=\"graph0\" class=\"graph\" transform=\"scale(1 1) rotate(0) translate(4 391.5)\">\n",
              "<title>Tree</title>\n",
              "<polygon fill=\"white\" stroke=\"none\" points=\"-4,4 -4,-391.5 519.62,-391.5 519.62,4 -4,4\"/>\n",
              "<!-- 0 -->\n",
              "<g id=\"node1\" class=\"node\">\n",
              "<title>0</title>\n",
              "<polygon fill=\"none\" stroke=\"black\" points=\"249.75,-387.5 72.5,-387.5 72.5,-313.5 249.75,-313.5 249.75,-387.5\"/>\n",
              "<text text-anchor=\"middle\" x=\"161.12\" y=\"-370.2\" font-family=\"Helvetica,sans-Serif\" font-size=\"14.00\">x[5] &lt;= 1.5</text>\n",
              "<text text-anchor=\"middle\" x=\"161.12\" y=\"-353.7\" font-family=\"Helvetica,sans-Serif\" font-size=\"14.00\">gini = 0.457</text>\n",
              "<text text-anchor=\"middle\" x=\"161.12\" y=\"-337.2\" font-family=\"Helvetica,sans-Serif\" font-size=\"14.00\">samples = 1382</text>\n",
              "<text text-anchor=\"middle\" x=\"161.12\" y=\"-320.7\" font-family=\"Helvetica,sans-Serif\" font-size=\"14.00\">value = [968, 307, 52, 55]</text>\n",
              "</g>\n",
              "<!-- 1 -->\n",
              "<g id=\"node2\" class=\"node\">\n",
              "<title>1</title>\n",
              "<polygon fill=\"none\" stroke=\"black\" points=\"144.25,-269.25 0,-269.25 0,-211.75 144.25,-211.75 144.25,-269.25\"/>\n",
              "<text text-anchor=\"middle\" x=\"72.12\" y=\"-251.95\" font-family=\"Helvetica,sans-Serif\" font-size=\"14.00\">gini = 0.0</text>\n",
              "<text text-anchor=\"middle\" x=\"72.12\" y=\"-235.45\" font-family=\"Helvetica,sans-Serif\" font-size=\"14.00\">samples = 461</text>\n",
              "<text text-anchor=\"middle\" x=\"72.12\" y=\"-218.95\" font-family=\"Helvetica,sans-Serif\" font-size=\"14.00\">value = [461, 0, 0, 0]</text>\n",
              "</g>\n",
              "<!-- 0&#45;&gt;1 -->\n",
              "<g id=\"edge1\" class=\"edge\">\n",
              "<title>0&#45;&gt;1</title>\n",
              "<path fill=\"none\" stroke=\"black\" d=\"M131.24,-313.24C121.91,-301.91 111.6,-289.41 102.25,-278.06\"/>\n",
              "<polygon fill=\"black\" stroke=\"black\" points=\"104.38,-276.13 95.32,-270.64 98.97,-280.59 104.38,-276.13\"/>\n",
              "<text text-anchor=\"middle\" x=\"92.92\" y=\"-289.48\" font-family=\"Helvetica,sans-Serif\" font-size=\"14.00\">True</text>\n",
              "</g>\n",
              "<!-- 2 -->\n",
              "<g id=\"node3\" class=\"node\">\n",
              "<title>2</title>\n",
              "<polygon fill=\"none\" stroke=\"black\" points=\"339.75,-277.5 162.5,-277.5 162.5,-203.5 339.75,-203.5 339.75,-277.5\"/>\n",
              "<text text-anchor=\"middle\" x=\"251.12\" y=\"-260.2\" font-family=\"Helvetica,sans-Serif\" font-size=\"14.00\">x[3] &lt;= 1.5</text>\n",
              "<text text-anchor=\"middle\" x=\"251.12\" y=\"-243.7\" font-family=\"Helvetica,sans-Serif\" font-size=\"14.00\">gini = 0.579</text>\n",
              "<text text-anchor=\"middle\" x=\"251.12\" y=\"-227.2\" font-family=\"Helvetica,sans-Serif\" font-size=\"14.00\">samples = 921</text>\n",
              "<text text-anchor=\"middle\" x=\"251.12\" y=\"-210.7\" font-family=\"Helvetica,sans-Serif\" font-size=\"14.00\">value = [507, 307, 52, 55]</text>\n",
              "</g>\n",
              "<!-- 0&#45;&gt;2 -->\n",
              "<g id=\"edge2\" class=\"edge\">\n",
              "<title>0&#45;&gt;2</title>\n",
              "<path fill=\"none\" stroke=\"black\" d=\"M191.34,-313.24C198.62,-304.51 206.47,-295.09 214.01,-286.03\"/>\n",
              "<polygon fill=\"black\" stroke=\"black\" points=\"217.12,-288.77 220.83,-278.85 211.74,-284.29 217.12,-288.77\"/>\n",
              "<text text-anchor=\"middle\" x=\"223.1\" y=\"-297.7\" font-family=\"Helvetica,sans-Serif\" font-size=\"14.00\">False</text>\n",
              "</g>\n",
              "<!-- 3 -->\n",
              "<g id=\"node4\" class=\"node\">\n",
              "<title>3</title>\n",
              "<polygon fill=\"none\" stroke=\"black\" points=\"233.25,-159.25 89,-159.25 89,-101.75 233.25,-101.75 233.25,-159.25\"/>\n",
              "<text text-anchor=\"middle\" x=\"161.12\" y=\"-141.95\" font-family=\"Helvetica,sans-Serif\" font-size=\"14.00\">gini = 0.0</text>\n",
              "<text text-anchor=\"middle\" x=\"161.12\" y=\"-125.45\" font-family=\"Helvetica,sans-Serif\" font-size=\"14.00\">samples = 309</text>\n",
              "<text text-anchor=\"middle\" x=\"161.12\" y=\"-108.95\" font-family=\"Helvetica,sans-Serif\" font-size=\"14.00\">value = [309, 0, 0, 0]</text>\n",
              "</g>\n",
              "<!-- 2&#45;&gt;3 -->\n",
              "<g id=\"edge3\" class=\"edge\">\n",
              "<title>2&#45;&gt;3</title>\n",
              "<path fill=\"none\" stroke=\"black\" d=\"M220.91,-203.24C211.47,-191.91 201.05,-179.41 191.59,-168.06\"/>\n",
              "<polygon fill=\"black\" stroke=\"black\" points=\"193.67,-166.08 184.58,-160.64 188.29,-170.57 193.67,-166.08\"/>\n",
              "</g>\n",
              "<!-- 4 -->\n",
              "<g id=\"node5\" class=\"node\">\n",
              "<title>4</title>\n",
              "<polygon fill=\"none\" stroke=\"black\" points=\"428.75,-167.5 251.5,-167.5 251.5,-93.5 428.75,-93.5 428.75,-167.5\"/>\n",
              "<text text-anchor=\"middle\" x=\"340.12\" y=\"-150.2\" font-family=\"Helvetica,sans-Serif\" font-size=\"14.00\">x[0] &lt;= 2.5</text>\n",
              "<text text-anchor=\"middle\" x=\"340.12\" y=\"-133.7\" font-family=\"Helvetica,sans-Serif\" font-size=\"14.00\">gini = 0.628</text>\n",
              "<text text-anchor=\"middle\" x=\"340.12\" y=\"-117.2\" font-family=\"Helvetica,sans-Serif\" font-size=\"14.00\">samples = 612</text>\n",
              "<text text-anchor=\"middle\" x=\"340.12\" y=\"-100.7\" font-family=\"Helvetica,sans-Serif\" font-size=\"14.00\">value = [198, 307, 52, 55]</text>\n",
              "</g>\n",
              "<!-- 2&#45;&gt;4 -->\n",
              "<g id=\"edge4\" class=\"edge\">\n",
              "<title>2&#45;&gt;4</title>\n",
              "<path fill=\"none\" stroke=\"black\" d=\"M281.01,-203.24C288.13,-194.6 295.81,-185.28 303.2,-176.31\"/>\n",
              "<polygon fill=\"black\" stroke=\"black\" points=\"306.51,-178.79 310.17,-168.85 301.11,-174.34 306.51,-178.79\"/>\n",
              "</g>\n",
              "<!-- 5 -->\n",
              "<g id=\"node6\" class=\"node\">\n",
              "<title>5</title>\n",
              "<polygon fill=\"none\" stroke=\"black\" points=\"328.5,-57.5 167.75,-57.5 167.75,0 328.5,0 328.5,-57.5\"/>\n",
              "<text text-anchor=\"middle\" x=\"248.12\" y=\"-40.2\" font-family=\"Helvetica,sans-Serif\" font-size=\"14.00\">gini = 0.498</text>\n",
              "<text text-anchor=\"middle\" x=\"248.12\" y=\"-23.7\" font-family=\"Helvetica,sans-Serif\" font-size=\"14.00\">samples = 303</text>\n",
              "<text text-anchor=\"middle\" x=\"248.12\" y=\"-7.2\" font-family=\"Helvetica,sans-Serif\" font-size=\"14.00\">value = [160, 143, 0, 0]</text>\n",
              "</g>\n",
              "<!-- 4&#45;&gt;5 -->\n",
              "<g id=\"edge5\" class=\"edge\">\n",
              "<title>4&#45;&gt;5</title>\n",
              "<path fill=\"none\" stroke=\"black\" d=\"M306.65,-93.21C298.39,-84.25 289.55,-74.66 281.3,-65.72\"/>\n",
              "<polygon fill=\"black\" stroke=\"black\" points=\"284.28,-63.71 274.93,-58.73 279.14,-68.45 284.28,-63.71\"/>\n",
              "</g>\n",
              "<!-- 6 -->\n",
              "<g id=\"node7\" class=\"node\">\n",
              "<title>6</title>\n",
              "<polygon fill=\"none\" stroke=\"black\" points=\"515.62,-57.5 346.62,-57.5 346.62,0 515.62,0 515.62,-57.5\"/>\n",
              "<text text-anchor=\"middle\" x=\"431.12\" y=\"-40.2\" font-family=\"Helvetica,sans-Serif\" font-size=\"14.00\">gini = 0.643</text>\n",
              "<text text-anchor=\"middle\" x=\"431.12\" y=\"-23.7\" font-family=\"Helvetica,sans-Serif\" font-size=\"14.00\">samples = 309</text>\n",
              "<text text-anchor=\"middle\" x=\"431.12\" y=\"-7.2\" font-family=\"Helvetica,sans-Serif\" font-size=\"14.00\">value = [38, 164, 52, 55]</text>\n",
              "</g>\n",
              "<!-- 4&#45;&gt;6 -->\n",
              "<g id=\"edge6\" class=\"edge\">\n",
              "<title>4&#45;&gt;6</title>\n",
              "<path fill=\"none\" stroke=\"black\" d=\"M373.24,-93.21C381.41,-84.25 390.15,-74.66 398.31,-65.72\"/>\n",
              "<polygon fill=\"black\" stroke=\"black\" points=\"400.45,-68.47 404.6,-58.73 395.28,-63.76 400.45,-68.47\"/>\n",
              "</g>\n",
              "</g>\n",
              "</svg>\n"
            ],
            "text/plain": [
              "<graphviz.sources.Source at 0x267fe14b820>"
            ]
          },
          "metadata": {},
          "output_type": "display_data"
        }
      ],
      "source": [
        "# visualize tree using graphviz\n",
        "from IPython.display import display\n",
        "\n",
        "from sklearn.tree import export_graphviz\n",
        "import graphviz\n",
        "dot_data = export_graphviz(dt_gini,out_file=None)\n",
        "graph = graphviz.Source(dot_data)\n",
        "# graph.format = 'png'\n",
        "# graph.render('gini Tree', view=True)\n",
        "display(graph)\n",
        "\n"
      ]
    },
    {
      "attachments": {},
      "cell_type": "markdown",
      "metadata": {
        "id": "6X2UNjkv9Kqu"
      },
      "source": [
        "______________________________"
      ]
    },
    {
      "attachments": {},
      "cell_type": "markdown",
      "metadata": {
        "id": "kKQbtGPw9Kqv"
      },
      "source": [
        "## (Optional) One step of Decision Tree from Scratch"
      ]
    },
    {
      "attachments": {},
      "cell_type": "markdown",
      "metadata": {
        "id": "Rg7OjdCE9Kqv"
      },
      "source": [
        "In this section we are going to have a binary classification using decision trees and implement the fisrt step of decision tree algorithm from scratch to understand how this algorithm works. due to simpilicity we are going to use a genric binary dataset in this section. regarding the information in the table below, to convert categorical features to ordinal features, we have used `one hot encoding`"
      ]
    },
    {
      "attachments": {},
      "cell_type": "markdown",
      "metadata": {
        "id": "T2B_R-MH9Kqv"
      },
      "source": [
        "|   Ear Shape | Face Shape | Whiskers |   Cat  |\n",
        "|:---------:|:-----------:|:---------:|:------:|\n",
        "|   Pointy   |   Round     |  Present  |    1   |\n",
        "|   Floppy   |  Not Round  |  Present  |    1   |\n",
        "|   Floppy   |  Round      |  Absent   |    0   |\n",
        "|   Pointy   |  Not Round  |  Present  |    0   |\n",
        "|   Pointy   |   Round     |  Present  |    1   |\n",
        "|   Pointy   |   Round     |  Absent   |    1   |\n",
        "|   Floppy   |  Not Round  |  Absent   |    0   |\n",
        "|   Pointy   |  Round      |  Absent   |    1   |\n",
        "|    Floppy  |   Round     |  Absent   |    0   |\n",
        "|   Floppy   |  Round      |  Absent   |    0   |\n"
      ]
    },
    {
      "cell_type": "code",
      "execution_count": null,
      "metadata": {
        "id": "eKZs_J4Z9Kqw"
      },
      "outputs": [],
      "source": [
        "# Creating a binary dataset\n",
        "X_train = np.array([[1, 1, 1],\n",
        "[0, 0, 1],\n",
        " [0, 1, 0],\n",
        " [1, 0, 1],\n",
        " [1, 1, 1],\n",
        " [1, 1, 0],\n",
        " [0, 0, 0],\n",
        " [1, 1, 0],\n",
        " [0, 1, 0],\n",
        " [0, 1, 0]])\n",
        "\n",
        "y_train = np.array([1, 1, 0, 0, 1, 1, 0, 1, 0, 0])"
      ]
    },
    {
      "attachments": {},
      "cell_type": "markdown",
      "metadata": {
        "id": "Edbj3zaH9Kqw"
      },
      "source": [
        "On each node, we compute the information gain for each feature, then split the node on the feature with the higher information gain, by comparing the entropy of the node with the weighted entropy in the two splitted nodes. So, the root node has every animal in our dataset. Remember that $p_1^{node}$ is the proportion of positive class (cats) in the root node. So\n",
        "\n",
        "$$p_1^{node} = \\frac{5}{10} = 0.5$$"
      ]
    },
    {
      "attachments": {},
      "cell_type": "markdown",
      "metadata": {
        "id": "e54jqTqB9Kqx"
      },
      "source": [
        "To illustrate, let's compute the information gain if we split the node for each of the features. To do this, let's write some functions."
      ]
    },
    {
      "attachments": {},
      "cell_type": "markdown",
      "metadata": {
        "id": "AFMLw4sh9Kqx"
      },
      "source": [
        "### 📖 Information gain of each feature\n",
        "To illustrate, let's compute the information gain if we split the node for each of the features. To do this, let's write some functions.\n",
        "\n",
        "#### 💭 Questions\n",
        "- write a function  for any Given a dataset and a index feature which return two lists for the two split nodes, the left node has the animals that have  that feature = 1 and the right node those that have the feature = 0 \n",
        "- define another function to compute `weighted entropy`for each feature in splitted nodes. this function need to take `x_train`, `y_train`, `left` and `right` indices that you found in the previous question and its going to return `weighted entropy` using this formula below:\n",
        "  - $w^{\\text{left}}$ and $w^{\\text{right}}$, the proportion of animals in **each node**.\n",
        "  - $p^{\\text{left}}$ and $p^{\\text{right}}$, the proportion of cats in **each split**.\n",
        "\n",
        "$$\\text{weighted entropy} = w^{left} * H(p^{left}) + w^{right} * H(p^{left})$$\n",
        "\n",
        "- test your functions on feature with indice 0.\n",
        "- To compute the `Information Gain` we must subtract it from the entropy in the node we chose to split (in this case, the root node). write another  to calculate information gain for each feature in splitted node. this function needs to take `x_train`, `y_train`, `left` and `right` indices as input and return the information gain by subtracting weighted entropy from previous node's entropy as the formula shows in the second section. you can consider entropy of node p1 as we describe equal to frequency of labels equal to 1 in your dataset.\n",
        "- for each feature in the dataset compute the information gain and select the feature which has the highest information gain.\n",
        "\n",
        "\n",
        "\n",
        "\n",
        "**Write the answer below:** "
      ]
    },
    {
      "cell_type": "code",
      "execution_count": null,
      "metadata": {
        "id": "pflrRA_d9Kqy"
      },
      "outputs": [],
      "source": [
        "# Function to split indices"
      ]
    },
    {
      "cell_type": "code",
      "execution_count": null,
      "metadata": {
        "id": "rpa_BAX-9Kqy"
      },
      "outputs": [],
      "source": [
        "# function for weighted entropy"
      ]
    },
    {
      "cell_type": "code",
      "execution_count": null,
      "metadata": {
        "id": "K5DSuAOz9Kq1"
      },
      "outputs": [],
      "source": [
        "# calculate information gain"
      ]
    },
    {
      "cell_type": "code",
      "execution_count": null,
      "metadata": {
        "id": "9TBQq1j09Kq1"
      },
      "outputs": [],
      "source": [
        "# calculate information gain for each feature"
      ]
    },
    {
      "attachments": {},
      "cell_type": "markdown",
      "metadata": {
        "id": "UDsN-ThJ9Kq1"
      },
      "source": [
        "this was one step of performing decision tree algorithm on our simple data. The process is recursive, which means we must perform these calculations for each node until we meet a stopping criteria:\n",
        "\n",
        "- If the tree depth after splitting exceeds a threshold\n",
        "- If the resulting node has only 1 class\n",
        "- If the information gain of splitting is below a threshold"
      ]
    }
  ],
  "metadata": {
    "colab": {
      "provenance": []
    },
    "kernelspec": {
      "display_name": "Python 3",
      "language": "python",
      "name": "python3"
    },
    "language_info": {
      "codemirror_mode": {
        "name": "ipython",
        "version": 3
      },
      "file_extension": ".py",
      "mimetype": "text/x-python",
      "name": "python",
      "nbconvert_exporter": "python",
      "pygments_lexer": "ipython3",
      "version": "3.9.0"
    },
    "orig_nbformat": 4
  },
  "nbformat": 4,
  "nbformat_minor": 0
}
