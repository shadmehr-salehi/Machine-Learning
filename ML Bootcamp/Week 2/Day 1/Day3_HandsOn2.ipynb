{
  "cells": [
    {
      "attachments": {},
      "cell_type": "markdown",
      "metadata": {
        "id": "K7CxNd1XuS2Z"
      },
      "source": [
        "<img src=\"https://raw.githubusercontent.com/HooshBaaz/2022_DataAnalytics_SummerSchool/main/assets/logo3.png\" width=\"200\" height=\"200\" >\n",
        "\n",
        "<div style=\"display:block\"><br><br>\n",
        "    <div style=\"display:block\" align=left display=block> \n",
        "        <font size=5><b>Day3 - HandsOn2: Muli Label Classification & Imbalance Data</b></font><br>\n",
        "        <hr/>\n",
        "\n",
        "</div>\n",
        "\n",
        "<pre>\n",
        ".\n",
        "── Dataset\n",
        "│\n",
        "├── One vs One Classification\n",
        "│\n",
        "├── One vs Rest Classification\n",
        "├\n",
        "├── ROC/AUC\n",
        "│\n",
        "├── Different Models Performance\n",
        "│ \n",
        "├── Dealing with Imbalance Data\n",
        "│\n",
        "└── Effect of Over-Sampling and Under Sampling\n",
        "</pre>"
      ]
    },
    {
      "attachments": {},
      "cell_type": "markdown",
      "metadata": {
        "id": "5laga0mAuS2b"
      },
      "source": [
        "The sections marked with a Thinking Emoji (💭) are those which you need to read and answer. All right, without further ado, let's get started!\n",
        "______________________________________"
      ]
    },
    {
      "attachments": {},
      "cell_type": "markdown",
      "metadata": {
        "id": "b4WQdwDiuS2c"
      },
      "source": [
        "## Import Modules/Libraries"
      ]
    },
    {
      "cell_type": "code",
      "execution_count": 2,
      "metadata": {
        "id": "w_Si9KWduS2c"
      },
      "outputs": [],
      "source": [
        "import pandas as pd \n",
        "import numpy as np\n",
        "import matplotlib.pyplot as plt\n",
        "import seaborn as sns "
      ]
    },
    {
      "attachments": {},
      "cell_type": "markdown",
      "metadata": {
        "id": "9ozixJsHuS2d"
      },
      "source": [
        "_______________________"
      ]
    },
    {
      "attachments": {},
      "cell_type": "markdown",
      "metadata": {
        "id": "65X145eluS2e"
      },
      "source": [
        "## Dataset"
      ]
    },
    {
      "attachments": {},
      "cell_type": "markdown",
      "metadata": {
        "id": "8lVKrbqduS2e"
      },
      "source": [
        "Before doing anything, we need to get familiar with Dataset. In this HandsON, we will focus on the standard imbalanced multi-class classification problem referred to as “Glass Identification” or simply `glass`. The dataset describes the chemical properties of glass and involves classifying samples of glass using their chemical properties as one of six classes. The dataset was credited to Vina Spiehler in 1987. Ignoring the sample identification number, there are nine input variables that summarize the properties of the glass dataset; they are:\n",
        "\n",
        "- RI: Refractive Index\n",
        "- Na: Sodium\n",
        "- Mg: Magnesium\n",
        "- Al: Aluminum\n",
        "- Si: Silicon\n",
        "- K: Potassium\n",
        "- Ca: Calcium\n",
        "- Ba: Barium\n",
        "- Fe: Iron\n",
        "\n",
        "The chemical compositions are measured as the weight percent in corresponding oxide."
      ]
    },
    {
      "attachments": {},
      "cell_type": "markdown",
      "metadata": {
        "id": "qF3FZ3ZPuS2e"
      },
      "source": [
        "### 📖 Read Dataset and Exploration\n",
        "In this section we are going to read the dataset and have some visualizations to explore the dataset.\n",
        "\n",
        "#### 💭 Questions\n",
        "- Read the dataset `glass.csv` considering column names which are explaiend before and use the name `Label` for the target column.\n",
        "- plot count of each label by choosing a proper plot. can you explain what is the problem in this dataset?\n",
        "\n",
        "\n",
        "**Write the answer below:** \n"
      ]
    },
    {
      "cell_type": "code",
      "execution_count": 3,
      "metadata": {
        "id": "h4JrE9WvuS2f"
      },
      "outputs": [],
      "source": [
        "# Read csv data\n",
        "df = pd.read_csv('glass.csv')\n",
        "df = df.rename(columns={'1' :'Label'})"
      ]
    },
    {
      "cell_type": "code",
      "execution_count": 4,
      "metadata": {
        "id": "RZov88uJuS2f"
      },
      "outputs": [
        {
          "data": {
            "text/plain": [
              "<AxesSubplot:>"
            ]
          },
          "execution_count": 4,
          "metadata": {},
          "output_type": "execute_result"
        },
        {
          "data": {
            "image/png": "[encoded data removed]",
            "text/plain": [
              "<Figure size 432x288 with 1 Axes>"
            ]
          },
          "metadata": {
            "needs_background": "light"
          },
          "output_type": "display_data"
        }
      ],
      "source": [
        "# plot count of each label\n",
        "df['Label'].value_counts().plot(kind='bar')"
      ]
    },
    {
      "attachments": {},
      "cell_type": "markdown",
      "metadata": {
        "id": "mNBEScT7uS2g"
      },
      "source": [
        "__________________________"
      ]
    },
    {
      "attachments": {},
      "cell_type": "markdown",
      "metadata": {
        "id": "Wjr2APywuS2g"
      },
      "source": [
        "## One vs One Classification"
      ]
    },
    {
      "attachments": {},
      "cell_type": "markdown",
      "metadata": {
        "id": "5K3gfpH7uS2g"
      },
      "source": [
        "Unlike the dataset that you work on in the morning session, this dataset is Multiclass. Thus we can not use models like `svm` and `logistic regression` directly to classify multiclass data, because they are designed for binary classification. We need to use techniques to concur this problem. classifying One-vs-One is a heuristic method for using binary classification algorithms for multi-class classification. In this section we are going to deal with this problem.\n",
        "\n",
        "\n",
        "#### 💭 Questions\n",
        "- As always, Split data into two parts: Train and Test. use 20% of data for test.\n",
        "- Define a logistic regression model.\n",
        "- Use the `One-vs-One` method of the sklearn library to define a classifier for multiclass data.\n",
        "- Train your model on Train data and get predictions for test data.\n",
        "- As the data is imbalanced, select a proper evaluation metric and evaluate your model.\n",
        "\n",
        "\n",
        "**Write the answer below:** "
      ]
    },
    {
      "cell_type": "code",
      "execution_count": 5,
      "metadata": {
        "id": "u61hxC_huS2g"
      },
      "outputs": [],
      "source": [
        "# Train Test Split\n",
        "from sklearn.model_selection import train_test_split\n",
        "X = df.drop('Label' , axis=1)\n",
        "y = df['Label']\n",
        "X_train , X_test , y_train , y_test = train_test_split(X,y , test_size=0.2)"
      ]
    },
    {
      "cell_type": "code",
      "execution_count": 6,
      "metadata": {},
      "outputs": [
        {
          "data": {
            "text/plain": [
              "(170, 9)"
            ]
          },
          "execution_count": 6,
          "metadata": {},
          "output_type": "execute_result"
        }
      ],
      "source": [
        "X_train.shape"
      ]
    },
    {
      "cell_type": "code",
      "execution_count": 7,
      "metadata": {
        "id": "-GIPQA7FuS2h"
      },
      "outputs": [],
      "source": [
        "#define logitic regression model\n",
        "from sklearn.linear_model import LogisticRegression\n",
        "estimator = LogisticRegression(max_iter=10000)\n",
        "\n"
      ]
    },
    {
      "cell_type": "code",
      "execution_count": 8,
      "metadata": {
        "id": "vb-rGCQcuS2h"
      },
      "outputs": [],
      "source": [
        "# define one vs one classfier and train and predict labels for test data\n",
        "from sklearn.multiclass import OneVsOneClassifier\n",
        "ovo = OneVsOneClassifier(estimator).fit(X_train , y_train)\n",
        "y_pred = ovo.predict(X_test)"
      ]
    },
    {
      "cell_type": "code",
      "execution_count": 9,
      "metadata": {
        "id": "g-r1heZ2uS2h"
      },
      "outputs": [
        {
          "name": "stdout",
          "output_type": "stream",
          "text": [
            "              precision    recall  f1-score   support\n",
            "\n",
            "           1       0.57      0.67      0.62        12\n",
            "           2       0.46      0.40      0.43        15\n",
            "           3       0.00      0.00      0.00         0\n",
            "           5       0.33      0.33      0.33         3\n",
            "           6       0.33      0.33      0.33         3\n",
            "           7       0.89      0.80      0.84        10\n",
            "\n",
            "    accuracy                           0.56        43\n",
            "   macro avg       0.43      0.42      0.43        43\n",
            "weighted avg       0.57      0.56      0.56        43\n",
            "\n"
          ]
        },
        {
          "name": "stderr",
          "output_type": "stream",
          "text": [
            "c:\\Users\\shadm\\AppData\\Local\\Programs\\Python\\Python39\\lib\\site-packages\\sklearn\\metrics\\_classification.py:1344: UndefinedMetricWarning: Recall and F-score are ill-defined and being set to 0.0 in labels with no true samples. Use `zero_division` parameter to control this behavior.\n",
            "  _warn_prf(average, modifier, msg_start, len(result))\n",
            "c:\\Users\\shadm\\AppData\\Local\\Programs\\Python\\Python39\\lib\\site-packages\\sklearn\\metrics\\_classification.py:1344: UndefinedMetricWarning: Recall and F-score are ill-defined and being set to 0.0 in labels with no true samples. Use `zero_division` parameter to control this behavior.\n",
            "  _warn_prf(average, modifier, msg_start, len(result))\n",
            "c:\\Users\\shadm\\AppData\\Local\\Programs\\Python\\Python39\\lib\\site-packages\\sklearn\\metrics\\_classification.py:1344: UndefinedMetricWarning: Recall and F-score are ill-defined and being set to 0.0 in labels with no true samples. Use `zero_division` parameter to control this behavior.\n",
            "  _warn_prf(average, modifier, msg_start, len(result))\n"
          ]
        }
      ],
      "source": [
        "# evaluate your classifier\n",
        "from sklearn.metrics import classification_report\n",
        "\n",
        "print(classification_report(y_pred , y_test))\n"
      ]
    },
    {
      "attachments": {},
      "cell_type": "markdown",
      "metadata": {
        "id": "89SPPHKtuS2h"
      },
      "source": [
        "__________________________"
      ]
    },
    {
      "attachments": {},
      "cell_type": "markdown",
      "metadata": {
        "id": "xf_wfyNPuS2h"
      },
      "source": [
        "## One vs Rest Classification"
      ]
    },
    {
      "attachments": {},
      "cell_type": "markdown",
      "metadata": {
        "id": "gb6zKBnFuS2h"
      },
      "source": [
        "One-vs-rest (OvR for short, also referred to as One-vs-All or OvA) is another heuristic method for using binary classification algorithms for multi-class classification. It involves splitting the multi-class dataset into multiple binary classification problems. A binary classifier is then trained on each binary classification problem and predictions are made using the model that is the most confident. In this section we will use this technique to classify our multiclass data.\n",
        "#### 💭 Questions\n",
        "- Define a new linear model (in this section `logistic regression`)\n",
        "- Use the `One-vs-Rest` method of the sklearn library to define a classifier for multiclass data.\n",
        "- Train your model on Train data that you have splitted in the last section and get predictions for test data.\n",
        "- Evaluate your model with the same metric that you have evaluated your `one-vs-one` model.\n",
        "\n",
        "\n",
        "**Write the answer below:** "
      ]
    },
    {
      "cell_type": "code",
      "execution_count": 10,
      "metadata": {
        "id": "_qVJNwyRuS2i"
      },
      "outputs": [],
      "source": [
        "#define logitic regression model\n",
        "estimator2 = LogisticRegression(max_iter=10000)"
      ]
    },
    {
      "cell_type": "code",
      "execution_count": 11,
      "metadata": {
        "id": "s3oAUbjSuS2i"
      },
      "outputs": [],
      "source": [
        "# define one vs all classfier and train and predict labels for test data\n",
        "from sklearn.multiclass import OneVsRestClassifier\n",
        "\n",
        "ovr = OneVsRestClassifier(estimator2).fit(X_train , y_train)\n",
        "y_pred2 = ovr.predict(X_test)\n",
        "probs = ovr.predict_proba(X_test)[:,1]"
      ]
    },
    {
      "cell_type": "code",
      "execution_count": 12,
      "metadata": {},
      "outputs": [
        {
          "data": {
            "text/plain": [
              "array([1, 1, 2, 7, 7, 7, 1, 6, 1, 2, 2, 2, 2, 2, 1, 7, 1, 5, 1, 6, 1, 1,\n",
              "       1, 7, 7, 5, 7, 2, 1, 1, 1, 2, 5, 6, 7, 2, 7, 2, 2, 7, 7, 2, 1],\n",
              "      dtype=int64)"
            ]
          },
          "execution_count": 12,
          "metadata": {},
          "output_type": "execute_result"
        }
      ],
      "source": [
        "y_pred2"
      ]
    },
    {
      "cell_type": "code",
      "execution_count": 13,
      "metadata": {
        "id": "TB0xGbwluS2i"
      },
      "outputs": [
        {
          "name": "stdout",
          "output_type": "stream",
          "text": [
            "              precision    recall  f1-score   support\n",
            "\n",
            "           1       0.71      0.71      0.71        14\n",
            "           2       0.50      0.46      0.48        13\n",
            "           3       0.00      0.00      0.00         1\n",
            "           5       0.33      0.33      0.33         3\n",
            "           6       0.33      0.33      0.33         3\n",
            "           7       0.82      1.00      0.90         9\n",
            "\n",
            "    accuracy                           0.63        43\n",
            "   macro avg       0.45      0.47      0.46        43\n",
            "weighted avg       0.60      0.63      0.61        43\n",
            "\n"
          ]
        },
        {
          "name": "stderr",
          "output_type": "stream",
          "text": [
            "c:\\Users\\shadm\\AppData\\Local\\Programs\\Python\\Python39\\lib\\site-packages\\sklearn\\metrics\\_classification.py:1344: UndefinedMetricWarning: Precision and F-score are ill-defined and being set to 0.0 in labels with no predicted samples. Use `zero_division` parameter to control this behavior.\n",
            "  _warn_prf(average, modifier, msg_start, len(result))\n",
            "c:\\Users\\shadm\\AppData\\Local\\Programs\\Python\\Python39\\lib\\site-packages\\sklearn\\metrics\\_classification.py:1344: UndefinedMetricWarning: Precision and F-score are ill-defined and being set to 0.0 in labels with no predicted samples. Use `zero_division` parameter to control this behavior.\n",
            "  _warn_prf(average, modifier, msg_start, len(result))\n",
            "c:\\Users\\shadm\\AppData\\Local\\Programs\\Python\\Python39\\lib\\site-packages\\sklearn\\metrics\\_classification.py:1344: UndefinedMetricWarning: Precision and F-score are ill-defined and being set to 0.0 in labels with no predicted samples. Use `zero_division` parameter to control this behavior.\n",
            "  _warn_prf(average, modifier, msg_start, len(result))\n"
          ]
        }
      ],
      "source": [
        "# evaluate your classifier\n",
        "print(classification_report(y_test, y_pred2))\n"
      ]
    },
    {
      "cell_type": "code",
      "execution_count": null,
      "metadata": {},
      "outputs": [],
      "source": []
    },
    {
      "attachments": {},
      "cell_type": "markdown",
      "metadata": {
        "id": "eX8gEqogxdIH"
      },
      "source": [
        "### 📖 ROC/AUC\n",
        "The receiver operating characteristic (ROC) curve is another common tool used with binary classifiers. In this section we are going to plot ROC and compute AUC for our classifier.\n",
        "\n",
        "\n",
        "#### 💭 Questions\n",
        "- plot `ROC` curve for the classifier.\n",
        "- Calculate `AUC` for the one vs one classfier you trained on data.\n",
        "\n",
        "\n",
        "\n",
        "\n",
        "**Write the answer below:**"
      ]
    },
    {
      "cell_type": "code",
      "execution_count": null,
      "metadata": {},
      "outputs": [],
      "source": []
    },
    {
      "cell_type": "code",
      "execution_count": 14,
      "metadata": {
        "id": "12XnrZt4xdII"
      },
      "outputs": [
        {
          "data": {
            "text/plain": [
              "[<matplotlib.lines.Line2D at 0x21b51173970>]"
            ]
          },
          "execution_count": 14,
          "metadata": {},
          "output_type": "execute_result"
        },
        {
          "data": {
            "image/png": "[encoded data removed]",
            "text/plain": [
              "<Figure size 432x288 with 1 Axes>"
            ]
          },
          "metadata": {
            "needs_background": "light"
          },
          "output_type": "display_data"
        }
      ],
      "source": [
        "# Roc\n",
        "from sklearn.metrics import  roc_curve, auc \n",
        "\n",
        "fpr , tpr , thold = roc_curve(y_test,probs , pos_label=1)\n",
        "\n",
        "\n",
        "plt.plot(fpr , tpr)\n"
      ]
    },
    {
      "cell_type": "code",
      "execution_count": 15,
      "metadata": {
        "id": "_kiGzXhRxdII"
      },
      "outputs": [
        {
          "name": "stdout",
          "output_type": "stream",
          "text": [
            "0.7266009852216749\n"
          ]
        }
      ],
      "source": [
        "# Auc\n",
        "# from sklearn.metrics import RocCurveDisplay.from_estimator\n",
        "roc_auc = auc(fpr , tpr)\n",
        "print(roc_auc)"
      ]
    },
    {
      "attachments": {},
      "cell_type": "markdown",
      "metadata": {
        "id": "oqtC823wuS2i"
      },
      "source": [
        "__________________________"
      ]
    },
    {
      "attachments": {},
      "cell_type": "markdown",
      "metadata": {
        "id": "V40tu854uS2i"
      },
      "source": [
        "## Different Models Performance"
      ]
    },
    {
      "attachments": {},
      "cell_type": "markdown",
      "metadata": {
        "id": "ZWrxUygmuS2i"
      },
      "source": [
        "In this section we are going to compare performance of different classifiers on our data.\n",
        "#### 💭 Questions\n",
        "- Define Models like `KNN`, `Gaussian Naive Bayes` which are inherently for multiclass classification and `logistic regression` by choosing the parameter `multi_class=multinomial`\n",
        "- Use train data that you have splitted in the second section to train your models.\n",
        "- predict labels for test data.\n",
        "- evaluate your models using the metric that you have chosen for the last two sections.\n",
        "- which model has the best performance?\n",
        "\n",
        "\n",
        "**Write the answer below:** "
      ]
    },
    {
      "cell_type": "code",
      "execution_count": 16,
      "metadata": {
        "id": "TM9vtV-fuS2j"
      },
      "outputs": [],
      "source": [
        "# define models\n",
        "from sklearn.neighbors import KNeighborsClassifier\n",
        "from sklearn.linear_model import LogisticRegression\n",
        "from sklearn.naive_bayes import GaussianNB\n",
        "\n",
        "nb = GaussianNB()\n",
        "lr = LogisticRegression(max_iter=10000)\n",
        "knn = KNeighborsClassifier()"
      ]
    },
    {
      "cell_type": "code",
      "execution_count": 17,
      "metadata": {
        "id": "uddiFmfEuS2j"
      },
      "outputs": [],
      "source": [
        "# Train Models\n",
        "knn.fit(X_train,y_train)\n",
        "lr.fit(X_train,y_train)\n",
        "nb.fit(X_train,y_train)\n",
        "\n",
        "lr_pred = lr.predict(X_test)\n",
        "nb_pred = nb.predict(X_test)\n",
        "knn_pred = knn.predict(X_test)\n"
      ]
    },
    {
      "cell_type": "code",
      "execution_count": 18,
      "metadata": {
        "id": "9E4fU9oQuS2j"
      },
      "outputs": [
        {
          "name": "stdout",
          "output_type": "stream",
          "text": [
            "knn score = 0.7209302325581395 \n",
            " lr score = 0.6511627906976745 \n",
            " nb score = 0.6511627906976745\n"
          ]
        }
      ],
      "source": [
        "# Evaluate models\n",
        "from sklearn.metrics import accuracy_score\n",
        "\n",
        "print(f\"knn score = {accuracy_score(y_test , knn_pred)} \\n lr score = {accuracy_score(y_test , lr_pred)} \\n nb score = {accuracy_score(y_test , nb_pred)}\")"
      ]
    },
    {
      "attachments": {},
      "cell_type": "markdown",
      "metadata": {
        "id": "TLLjvMwJuS2j"
      },
      "source": [
        "______________________________"
      ]
    },
    {
      "attachments": {},
      "cell_type": "markdown",
      "metadata": {
        "id": "kJWOXdJEuS2j"
      },
      "source": [
        "## Dealing with Imbalance Data"
      ]
    },
    {
      "attachments": {},
      "cell_type": "markdown",
      "metadata": {
        "id": "9ejjXaUJuS2j"
      },
      "source": [
        "As you may have noticed up to now, the dataset that we have in this handsOn and the dataset that we had in the morning session are both imbalanced. Imbalanced datasets may often produce poor performance when running a Machine Learning model, although, in some cases the evaluation metrics produce good results. This can be due to the fact that the model is good at predicting the majority class, but it has poor performance while predicting the minority class. Since the evaluation metrics calculate the average value between the majority and minority classes, the final performance looks ok.\n",
        "\n",
        "In this part of HandsOn we are going to introduce different techniques to deal with Imbalanced data."
      ]
    },
    {
      "attachments": {},
      "cell_type": "markdown",
      "metadata": {
        "id": "VWpbS96iuS2j"
      },
      "source": [
        "### Random Undersampling\n",
        "As the name suggests, random undersampling reduces the number of majority classes randomly down to the desired ratio against the minority class. This is probably the easiest way to undersample and can actually yield good results if there are a lot of the majority class instances that are close to each other.\n",
        "\n",
        "\n",
        "\n",
        "\n",
        "#### 💭 Questions\n",
        "- First you need to install an `imbalanced-learn` library to work with this section's methods.\n",
        "- Use the method for `Random Under Sampling` from the library you have installed to under-sample the train data that you have Splitted in the second section.\n",
        "- print the shape of train data after undersampling.\n",
        "- Train models on the new resampled train data and evaluate your models on the test data from section two.\n",
        "- Compare the performance with the models that you have trained on the imbalanced data. Is there any improvement?\n",
        "\n",
        "\n",
        "\n",
        "**Write the answer below:** "
      ]
    },
    {
      "cell_type": "code",
      "execution_count": 19,
      "metadata": {
        "id": "H47kHspOuS2k"
      },
      "outputs": [],
      "source": [
        "# pip install imblearn\n",
        "#! pip install imbalanced-learn"
      ]
    },
    {
      "cell_type": "code",
      "execution_count": 20,
      "metadata": {},
      "outputs": [
        {
          "data": {
            "text/plain": [
              "(170, 9)"
            ]
          },
          "execution_count": 20,
          "metadata": {},
          "output_type": "execute_result"
        }
      ],
      "source": [
        "X_train.shape"
      ]
    },
    {
      "cell_type": "code",
      "execution_count": 21,
      "metadata": {
        "id": "LY5F-0H5uS2k"
      },
      "outputs": [],
      "source": [
        "# Under sample\n",
        "from imblearn.under_sampling import RandomUnderSampler\n",
        "rus = RandomUnderSampler()\n",
        "X_resample , y_resample = rus.fit_resample(X_train , y_train)\n"
      ]
    },
    {
      "cell_type": "code",
      "execution_count": 22,
      "metadata": {
        "id": "jN3kXvYIuS2k"
      },
      "outputs": [
        {
          "name": "stdout",
          "output_type": "stream",
          "text": [
            "(36, 9)\n",
            "(36,)\n"
          ]
        }
      ],
      "source": [
        "# Print shape of data\n",
        "print(X_resample.shape)\n",
        "print(y_resample.shape)\n"
      ]
    },
    {
      "cell_type": "code",
      "execution_count": 23,
      "metadata": {
        "id": "4NJuDdNIuS2k"
      },
      "outputs": [],
      "source": [
        "# Train Models\n",
        "nb_2 = GaussianNB()\n",
        "lr_2 = LogisticRegression(max_iter=10000)\n",
        "knn_2 = KNeighborsClassifier()\n",
        "\n",
        "knn_2.fit(X_resample,y_resample)\n",
        "lr_2.fit(X_resample,y_resample)\n",
        "nb_2.fit(X_resample,y_resample)\n",
        "\n",
        "lr_pred_2 = lr_2.predict(X_test)\n",
        "nb_pred_2 = nb_2.predict(X_test)\n",
        "knn_pred_2 = knn_2.predict(X_test)"
      ]
    },
    {
      "cell_type": "code",
      "execution_count": 24,
      "metadata": {
        "id": "5lRT6DWluS2k"
      },
      "outputs": [
        {
          "name": "stdout",
          "output_type": "stream",
          "text": [
            "knn score = 0.4418604651162791 \n",
            " lr score = 0.37209302325581395 \n",
            " nb score = 0.6046511627906976\n"
          ]
        }
      ],
      "source": [
        "# Evaluate Models\n",
        "print(f\"knn score = {accuracy_score(y_test , knn_pred_2)} \\n lr score = {accuracy_score(y_test , lr_pred_2)} \\n nb score = {accuracy_score(y_test , nb_pred_2)}\")"
      ]
    },
    {
      "attachments": {},
      "cell_type": "markdown",
      "metadata": {
        "id": "0JAmq7SeuS2k"
      },
      "source": [
        "### Oversampling with SMOTE\n",
        "For over-sampling techniques, SMOTE (Synthetic Minority Oversampling Technique) is considered as one of the most popular and influential data sampling algorithms in ML and data mining. With SMOTE, the minority class is over-sampled by creating “synthetic” examples rather than by over-sampling with replacement.\n",
        "\n",
        "\n",
        "\n",
        "\n",
        "#### 💭 Questions\n",
        "- Use the method for `SMOTE` from the library you have installed to under-sample the train data that you have Splitted in the second section.\n",
        "- print the shape of train data after oversampling.\n",
        "- Train models on the new resampled train data and evaluate your models on the test data from section two.\n",
        "- Compare the performance with the models that you have trained on the imbalanced data and when you have undersampled. Is there any improvement?\n",
        "\n",
        "\n",
        "**Write the answer below:** "
      ]
    },
    {
      "cell_type": "code",
      "execution_count": 25,
      "metadata": {
        "id": "gDhOWQz7uS2p"
      },
      "outputs": [],
      "source": [
        "#! pip install -U threadpoolctl"
      ]
    },
    {
      "cell_type": "code",
      "execution_count": 26,
      "metadata": {
        "id": "gzsSgsaBuS2p"
      },
      "outputs": [],
      "source": [
        "# Oversampling \n",
        "from imblearn.over_sampling import SMOTE\n",
        "\n",
        "smote = SMOTE()\n",
        "\n",
        "X_resample_2 , y_resample_2 = smote.fit_resample(X_train,y_train)"
      ]
    },
    {
      "cell_type": "code",
      "execution_count": 27,
      "metadata": {
        "id": "Oc8qi0M5uS2q"
      },
      "outputs": [
        {
          "data": {
            "text/plain": [
              "(378, 9)"
            ]
          },
          "execution_count": 27,
          "metadata": {},
          "output_type": "execute_result"
        }
      ],
      "source": [
        "# Print shape of data\n",
        "X_resample_2.shape"
      ]
    },
    {
      "cell_type": "code",
      "execution_count": 28,
      "metadata": {
        "id": "1c9-P98nuS2q"
      },
      "outputs": [],
      "source": [
        "# Train Models\n",
        "nb_3 = GaussianNB()\n",
        "lr_3 = LogisticRegression(max_iter=10000)\n",
        "knn_3 = KNeighborsClassifier()\n",
        "\n",
        "knn_3.fit(X_resample_2,y_resample_2)\n",
        "lr_3.fit(X_resample_2,y_resample_2)\n",
        "nb_3.fit(X_resample_2,y_resample_2)\n",
        "\n",
        "lr_pred_3 = lr_3.predict(X_test)\n",
        "nb_pred_3 = nb_3.predict(X_test)\n",
        "knn_pred_3 = knn_3.predict(X_test)"
      ]
    },
    {
      "cell_type": "code",
      "execution_count": 29,
      "metadata": {
        "id": "KsFs77F_uS2q"
      },
      "outputs": [
        {
          "name": "stdout",
          "output_type": "stream",
          "text": [
            "knn score = 0.6511627906976745 \n",
            " lr score = 0.627906976744186 \n",
            " nb score = 0.5348837209302325\n"
          ]
        }
      ],
      "source": [
        "# Evaluate Models\n",
        "print(f\"knn score = {accuracy_score(y_test , knn_pred_3)} \\n lr score = {accuracy_score(y_test , lr_pred_3)} \\n nb score = {accuracy_score(y_test , nb_pred_3)}\")"
      ]
    },
    {
      "attachments": {},
      "cell_type": "markdown",
      "metadata": {
        "id": "6a11fdCmuS2q"
      },
      "source": [
        "___________________________"
      ]
    },
    {
      "attachments": {},
      "cell_type": "markdown",
      "metadata": {
        "id": "R7UMtxC2uS2q"
      },
      "source": [
        "## Effect of Over-Sampling and Under Sampling"
      ]
    },
    {
      "attachments": {},
      "cell_type": "markdown",
      "metadata": {
        "id": "qyOLWqbiuS2q"
      },
      "source": [
        "In this section we want to compare the effect of methods that we have used to deal with imbalanced datasets.\n",
        "#### 💭 Questions\n",
        "- plot a bar plot to compare the effect of methods we have used for balancing datasets. The x-axis of this plot must be classifiers in 3 conditions (imbalanced data, undersampling and oversampling) and the y-axis must be the metric that you have chosen to compare classifiers.\n",
        "\n",
        "\n",
        "**Write the answer below:** "
      ]
    },
    {
      "cell_type": "code",
      "execution_count": 30,
      "metadata": {
        "id": "IDo2O6WQuS2q"
      },
      "outputs": [],
      "source": [
        "# Compare\n",
        "names = ['Knn' , 'NB' , 'LR']\n",
        "types = ['imbalanced ' , ', undersampling' , 'oversampling']\n",
        "knns = [accuracy_score(knn_pred , y_test) , accuracy_score(knn_pred_2 , y_test)  , accuracy_score(knn_pred_3 , y_test) ]\n",
        "nbs = [accuracy_score(nb_pred , y_test) , accuracy_score(nb_pred_2 , y_test) ,accuracy_score(nb_pred_3 , y_test)]\n",
        "lrs = [accuracy_score(lr_pred , y_test), accuracy_score(lr_pred_2 , y_test) , accuracy_score(lr_pred_3 , y_test)]"
      ]
    },
    {
      "cell_type": "code",
      "execution_count": 32,
      "metadata": {},
      "outputs": [
        {
          "data": {
            "text/plain": [
              "([<matplotlib.axis.XTick at 0x21b536fc460>,\n",
              "  <matplotlib.axis.XTick at 0x21b536fc430>,\n",
              "  <matplotlib.axis.XTick at 0x21b536f60d0>],\n",
              " [Text(0.25, 0, 'imbalance'),\n",
              "  Text(1.25, 0, 'undersample'),\n",
              "  Text(2.25, 0, 'oversample')])"
            ]
          },
          "execution_count": 32,
          "metadata": {},
          "output_type": "execute_result"
        },
        {
          "data": {
            "image/png": "[encoded data removed]",
            "text/plain": [
              "<Figure size 432x288 with 1 Axes>"
            ]
          },
          "metadata": {
            "needs_background": "light"
          },
          "output_type": "display_data"
        }
      ],
      "source": [
        "barWidth = 0.25\n",
        "x = np.arange(3)\n",
        "plt.bar(x, knns, width=0.25,)\n",
        "plt.bar(x+0.25, lrs, width=0.25)\n",
        "plt.bar(x+0.5,nbs, width=0.25)\n",
        "plt.legend(names)\n",
        "plt.xticks([0.25, 1.25, 2.25], ['imbalance', 'undersample', 'oversample'])"
      ]
    },
    {
      "cell_type": "code",
      "execution_count": null,
      "metadata": {},
      "outputs": [],
      "source": []
    }
  ],
  "metadata": {
    "colab": {
      "provenance": []
    },
    "kernelspec": {
      "display_name": "Python 3",
      "language": "python",
      "name": "python3"
    },
    "language_info": {
      "codemirror_mode": {
        "name": "ipython",
        "version": 3
      },
      "file_extension": ".py",
      "mimetype": "text/x-python",
      "name": "python",
      "nbconvert_exporter": "python",
      "pygments_lexer": "ipython3",
      "version": "3.9.0"
    },
    "orig_nbformat": 4
  },
  "nbformat": 4,
  "nbformat_minor": 0
}
