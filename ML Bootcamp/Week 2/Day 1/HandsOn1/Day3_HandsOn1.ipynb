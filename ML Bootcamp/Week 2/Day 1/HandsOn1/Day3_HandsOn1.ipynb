{
  "cells": [
    {
      "attachments": {},
      "cell_type": "markdown",
      "metadata": {
        "id": "95Rc1WbhLXO7"
      },
      "source": [
        "<img src=\"https://raw.githubusercontent.com/HooshBaaz/2022_DataAnalytics_SummerSchool/main/assets/logo3.png\" width=\"200\" height=\"200\" >\n",
        "\n",
        "<div style=\"display:block\"><br><br>\n",
        "    <div style=\"display:block\" align=left display=block> \n",
        "        <font size=5><b>Day3 - HandsOn1: Logsitic Regression & Binary Classification</b></font><br>\n",
        "        <hr/>\n",
        "\n",
        "</div>\n",
        "\n",
        "<pre>\n",
        ".\n",
        "├── Dataset\n",
        "│\n",
        "├── Binary Classification with Logistic Regression\n",
        "│\n",
        "├── Different Metrics for Evaluating the Classifer\n",
        "│ \n",
        "├── Plotting Decision Boundaries\n",
        "│\n",
        "└── (Optional) Cost-sensitive learning\n",
        "\n",
        " \n",
        "</pre>"
      ]
    },
    {
      "attachments": {},
      "cell_type": "markdown",
      "metadata": {
        "id": "pgLpNZKCLXO9"
      },
      "source": [
        "The sections marked with a Thinking Emoji (💭) are those which you need to read and answer. All right, without further ado, let's get started!\n",
        "______________________________________"
      ]
    },
    {
      "attachments": {},
      "cell_type": "markdown",
      "metadata": {
        "id": "vVJPlXvQLXO-"
      },
      "source": [
        "## Import Modules/Libraries"
      ]
    },
    {
      "cell_type": "code",
      "execution_count": 122,
      "metadata": {
        "id": "lAdCvDAvLXO-"
      },
      "outputs": [],
      "source": [
        "import pandas as pd\n",
        "import numpy as np\n",
        "import matplotlib.pyplot as plt\n",
        "import seaborn as sns\n",
        "\n",
        "# import warnings\n",
        "# warnings.filterwarnings(action='ignore')"
      ]
    },
    {
      "attachments": {},
      "cell_type": "markdown",
      "metadata": {
        "id": "yVeNDgJpLXO_"
      },
      "source": [
        "_______________________________"
      ]
    },
    {
      "attachments": {},
      "cell_type": "markdown",
      "metadata": {
        "id": "FVKUJmZjLXO_"
      },
      "source": [
        "## Dataset"
      ]
    },
    {
      "attachments": {},
      "cell_type": "markdown",
      "metadata": {
        "id": "ONd18Ba3LXO_"
      },
      "source": [
        "Before doing anything, we need to get familiar with Dataset. The desired dataset is located in the `banking.csv` file. This dataset is related to direct marketing campaigns (phone calls) of a Portuguese banking institution. The classification goal is to predict whether the client will subscribe (1/0) to a term deposit (variable y). Below you can see the description of each feature in the dataset."
      ]
    },
    {
      "attachments": {},
      "cell_type": "markdown",
      "metadata": {
        "id": "MO9vDHYxLXPA"
      },
      "source": [
        "| Feature | Description |\n",
        "| :- | :- |\n",
        "|age | age of customer\n",
        "|job  |  type of job\n",
        "| marital |  marital status\n",
        "| education  | status of education for each customer\n",
        "| default | has credit in default?\n",
        "| housing | has housing loan?\n",
        "| loan | has personal loan?\n",
        "| contact | contact communication type\n",
        "| month | last contact month of year\n",
        "| day_of_week | last contact day of the week\n",
        "| duration | last contact duration, in seconds (numeric). Important note: this attribute highly affects the output target (e.g., if duration=0 then y=’no’). The duration is not known before a call is performed, also, after the end of the call, y is obviously known. Thus, this input should only be included for benchmark purposes and should be discarded if the intention is to have a realistic predictive model\n",
        "| campaign | number of contacts performed during this campaign and for this client\n",
        "| pdays | number of days that passed by after the client was last contacted from a previous campaign (numeric; 999 means client was not previously contacted)\n",
        "| previous | number of contacts performed before this campaign and for this client\n",
        "| poutcome | outcome of the previous marketing campaign\n",
        "| emp.var.rate | consumer price index\n",
        "| cons.price.idx | number of contacts performed before this campaign and for this client\n",
        "| cons.conf.idx | consumer confidence index\n",
        "| euribor3m | euribor 3 month rate\n",
        "| nr.employed | number of employees\n",
        "| y | has the client subscribed a term deposit?\n",
        "\n",
        "\n",
        "\n"
      ]
    },
    {
      "cell_type": "code",
      "execution_count": 123,
      "metadata": {
        "id": "EkGDJmrOLXPA"
      },
      "outputs": [],
      "source": [
        "# read dataset as a csv file\n",
        "df = pd.read_csv('banking.csv')"
      ]
    },
    {
      "cell_type": "code",
      "execution_count": 124,
      "metadata": {
        "id": "cQIE_fTGLXPA"
      },
      "outputs": [
        {
          "data": {
            "text/html": [
              "<div>\n",
              "<style scoped>\n",
              "    .dataframe tbody tr th:only-of-type {\n",
              "        vertical-align: middle;\n",
              "    }\n",
              "\n",
              "    .dataframe tbody tr th {\n",
              "        vertical-align: top;\n",
              "    }\n",
              "\n",
              "    .dataframe thead th {\n",
              "        text-align: right;\n",
              "    }\n",
              "</style>\n",
              "<table border=\"1\" class=\"dataframe\">\n",
              "  <thead>\n",
              "    <tr style=\"text-align: right;\">\n",
              "      <th></th>\n",
              "      <th>age</th>\n",
              "      <th>job</th>\n",
              "      <th>marital</th>\n",
              "      <th>education</th>\n",
              "      <th>default</th>\n",
              "      <th>housing</th>\n",
              "      <th>loan</th>\n",
              "      <th>contact</th>\n",
              "      <th>month</th>\n",
              "      <th>day_of_week</th>\n",
              "      <th>...</th>\n",
              "      <th>campaign</th>\n",
              "      <th>pdays</th>\n",
              "      <th>previous</th>\n",
              "      <th>poutcome</th>\n",
              "      <th>emp_var_rate</th>\n",
              "      <th>cons_price_idx</th>\n",
              "      <th>cons_conf_idx</th>\n",
              "      <th>euribor3m</th>\n",
              "      <th>nr_employed</th>\n",
              "      <th>y</th>\n",
              "    </tr>\n",
              "  </thead>\n",
              "  <tbody>\n",
              "    <tr>\n",
              "      <th>0</th>\n",
              "      <td>44</td>\n",
              "      <td>blue-collar</td>\n",
              "      <td>married</td>\n",
              "      <td>basic.4y</td>\n",
              "      <td>unknown</td>\n",
              "      <td>yes</td>\n",
              "      <td>no</td>\n",
              "      <td>cellular</td>\n",
              "      <td>aug</td>\n",
              "      <td>thu</td>\n",
              "      <td>...</td>\n",
              "      <td>1</td>\n",
              "      <td>999</td>\n",
              "      <td>0</td>\n",
              "      <td>nonexistent</td>\n",
              "      <td>1.4</td>\n",
              "      <td>93.444</td>\n",
              "      <td>-36.1</td>\n",
              "      <td>4.963</td>\n",
              "      <td>5228.1</td>\n",
              "      <td>0</td>\n",
              "    </tr>\n",
              "    <tr>\n",
              "      <th>1</th>\n",
              "      <td>53</td>\n",
              "      <td>technician</td>\n",
              "      <td>married</td>\n",
              "      <td>unknown</td>\n",
              "      <td>no</td>\n",
              "      <td>no</td>\n",
              "      <td>no</td>\n",
              "      <td>cellular</td>\n",
              "      <td>nov</td>\n",
              "      <td>fri</td>\n",
              "      <td>...</td>\n",
              "      <td>1</td>\n",
              "      <td>999</td>\n",
              "      <td>0</td>\n",
              "      <td>nonexistent</td>\n",
              "      <td>-0.1</td>\n",
              "      <td>93.200</td>\n",
              "      <td>-42.0</td>\n",
              "      <td>4.021</td>\n",
              "      <td>5195.8</td>\n",
              "      <td>0</td>\n",
              "    </tr>\n",
              "    <tr>\n",
              "      <th>2</th>\n",
              "      <td>28</td>\n",
              "      <td>management</td>\n",
              "      <td>single</td>\n",
              "      <td>university.degree</td>\n",
              "      <td>no</td>\n",
              "      <td>yes</td>\n",
              "      <td>no</td>\n",
              "      <td>cellular</td>\n",
              "      <td>jun</td>\n",
              "      <td>thu</td>\n",
              "      <td>...</td>\n",
              "      <td>3</td>\n",
              "      <td>6</td>\n",
              "      <td>2</td>\n",
              "      <td>success</td>\n",
              "      <td>-1.7</td>\n",
              "      <td>94.055</td>\n",
              "      <td>-39.8</td>\n",
              "      <td>0.729</td>\n",
              "      <td>4991.6</td>\n",
              "      <td>1</td>\n",
              "    </tr>\n",
              "    <tr>\n",
              "      <th>3</th>\n",
              "      <td>39</td>\n",
              "      <td>services</td>\n",
              "      <td>married</td>\n",
              "      <td>high.school</td>\n",
              "      <td>no</td>\n",
              "      <td>no</td>\n",
              "      <td>no</td>\n",
              "      <td>cellular</td>\n",
              "      <td>apr</td>\n",
              "      <td>fri</td>\n",
              "      <td>...</td>\n",
              "      <td>2</td>\n",
              "      <td>999</td>\n",
              "      <td>0</td>\n",
              "      <td>nonexistent</td>\n",
              "      <td>-1.8</td>\n",
              "      <td>93.075</td>\n",
              "      <td>-47.1</td>\n",
              "      <td>1.405</td>\n",
              "      <td>5099.1</td>\n",
              "      <td>0</td>\n",
              "    </tr>\n",
              "    <tr>\n",
              "      <th>4</th>\n",
              "      <td>55</td>\n",
              "      <td>retired</td>\n",
              "      <td>married</td>\n",
              "      <td>basic.4y</td>\n",
              "      <td>no</td>\n",
              "      <td>yes</td>\n",
              "      <td>no</td>\n",
              "      <td>cellular</td>\n",
              "      <td>aug</td>\n",
              "      <td>fri</td>\n",
              "      <td>...</td>\n",
              "      <td>1</td>\n",
              "      <td>3</td>\n",
              "      <td>1</td>\n",
              "      <td>success</td>\n",
              "      <td>-2.9</td>\n",
              "      <td>92.201</td>\n",
              "      <td>-31.4</td>\n",
              "      <td>0.869</td>\n",
              "      <td>5076.2</td>\n",
              "      <td>1</td>\n",
              "    </tr>\n",
              "  </tbody>\n",
              "</table>\n",
              "<p>5 rows × 21 columns</p>\n",
              "</div>"
            ],
            "text/plain": [
              "   age          job  marital          education  default housing loan  \\\n",
              "0   44  blue-collar  married           basic.4y  unknown     yes   no   \n",
              "1   53   technician  married            unknown       no      no   no   \n",
              "2   28   management   single  university.degree       no     yes   no   \n",
              "3   39     services  married        high.school       no      no   no   \n",
              "4   55      retired  married           basic.4y       no     yes   no   \n",
              "\n",
              "    contact month day_of_week  ...  campaign  pdays  previous     poutcome  \\\n",
              "0  cellular   aug         thu  ...         1    999         0  nonexistent   \n",
              "1  cellular   nov         fri  ...         1    999         0  nonexistent   \n",
              "2  cellular   jun         thu  ...         3      6         2      success   \n",
              "3  cellular   apr         fri  ...         2    999         0  nonexistent   \n",
              "4  cellular   aug         fri  ...         1      3         1      success   \n",
              "\n",
              "  emp_var_rate  cons_price_idx  cons_conf_idx  euribor3m  nr_employed  y  \n",
              "0          1.4          93.444          -36.1      4.963       5228.1  0  \n",
              "1         -0.1          93.200          -42.0      4.021       5195.8  0  \n",
              "2         -1.7          94.055          -39.8      0.729       4991.6  1  \n",
              "3         -1.8          93.075          -47.1      1.405       5099.1  0  \n",
              "4         -2.9          92.201          -31.4      0.869       5076.2  1  \n",
              "\n",
              "[5 rows x 21 columns]"
            ]
          },
          "execution_count": 124,
          "metadata": {},
          "output_type": "execute_result"
        }
      ],
      "source": [
        "# print some rows of data \n",
        "df.head()"
      ]
    },
    {
      "attachments": {},
      "cell_type": "markdown",
      "metadata": {
        "id": "0x1klFguLXPB"
      },
      "source": [
        "### 📖 Preprocessing and Exploration\n",
        "First we want you to do some preprocessing on the dataset.\n",
        "\n",
        "\n",
        "#### 💭 Questions\n",
        "- print unique values of the `education` column.\n",
        "- Group the same education degrees with each other  and create just one. For example, group `basic.4y`, `basic.9y` and `basic.6y` together and call them `basic`.\n",
        "- Plot frequency of each education degree considering target value\n",
        "- Plot frequency of purchase month considering each label in target value. Which month might be a good predictor of the outcome variable?  \n",
        "- Convert Categorical features to dummy variables by one hot encoding.\n",
        "- Plot frequency of each target in the `y` column. Can you see anything abnormal in this distribution? may it cause any problem?\n",
        "\n",
        "\n",
        "\n",
        "\n",
        "**Write the answer below:**\n"
      ]
    },
    {
      "cell_type": "code",
      "execution_count": 125,
      "metadata": {
        "id": "0rBkkP3VLXPB"
      },
      "outputs": [
        {
          "data": {
            "text/plain": [
              "array(['basic.4y', 'unknown', 'university.degree', 'high.school',\n",
              "       'basic.9y', 'professional.course', 'basic.6y', 'illiterate'],\n",
              "      dtype=object)"
            ]
          },
          "execution_count": 125,
          "metadata": {},
          "output_type": "execute_result"
        }
      ],
      "source": [
        "# unique education\n",
        "df['education'].unique()"
      ]
    },
    {
      "cell_type": "code",
      "execution_count": 126,
      "metadata": {
        "id": "H3WHGRcmLXPB"
      },
      "outputs": [],
      "source": [
        "# group education\n",
        "df['education'] = df['education'].replace({'basic.4y' : 'basic' , 'basic.6y' : 'basic' , 'basic.9y' : 'basic' })\n",
        "\n"
      ]
    },
    {
      "cell_type": "code",
      "execution_count": 127,
      "metadata": {
        "id": "LZQ4QcdxLXPC"
      },
      "outputs": [
        {
          "data": {
            "text/plain": [
              "<AxesSubplot:xlabel='education'>"
            ]
          },
          "execution_count": 127,
          "metadata": {},
          "output_type": "execute_result"
        },
        {
          "data": {
            "image/png": "[encoded data removed]",
            "text/plain": [
              "<Figure size 432x288 with 1 Axes>"
            ]
          },
          "metadata": {
            "needs_background": "light"
          },
          "output_type": "display_data"
        }
      ],
      "source": [
        "# plot educattion\n",
        "# df['education'].value_counts().plot()\n",
        "grouped_education = df.groupby(['education', 'y']).size()\n",
        "grouped_education.unstack().plot(kind='bar')"
      ]
    },
    {
      "cell_type": "code",
      "execution_count": 128,
      "metadata": {
        "id": "thhQ4EB8LXPC"
      },
      "outputs": [
        {
          "data": {
            "text/plain": [
              "<AxesSubplot:xlabel='month'>"
            ]
          },
          "execution_count": 128,
          "metadata": {},
          "output_type": "execute_result"
        },
        {
          "data": {
            "image/png": "[encoded data removed]",
            "text/plain": [
              "<Figure size 432x288 with 1 Axes>"
            ]
          },
          "metadata": {
            "needs_background": "light"
          },
          "output_type": "display_data"
        }
      ],
      "source": [
        "# plot month\n",
        "\n",
        "grouped_month = df.groupby(['month', 'y']).size()\n",
        "grouped_month.unstack().plot(kind='bar')"
      ]
    },
    {
      "cell_type": "code",
      "execution_count": 133,
      "metadata": {
        "id": "IkIe3vgVLXPC"
      },
      "outputs": [],
      "source": [
        "# Convert categorical\n",
        "cat_cols = df.select_dtypes(include=['object']).astype('category')\n",
        "df = pd.get_dummies(df)"
      ]
    },
    {
      "cell_type": "code",
      "execution_count": 130,
      "metadata": {
        "id": "u9nKiJkSLXPC"
      },
      "outputs": [
        {
          "data": {
            "text/plain": [
              "<AxesSubplot:>"
            ]
          },
          "execution_count": 130,
          "metadata": {},
          "output_type": "execute_result"
        },
        {
          "data": {
            "image/png": "[encoded data removed]",
            "text/plain": [
              "<Figure size 432x288 with 1 Axes>"
            ]
          },
          "metadata": {
            "needs_background": "light"
          },
          "output_type": "display_data"
        }
      ],
      "source": [
        "# plot labels frequency\n",
        "df['y'].value_counts().plot(kind='bar')"
      ]
    },
    {
      "attachments": {},
      "cell_type": "markdown",
      "metadata": {
        "id": "1lyYLkDfLXPC"
      },
      "source": [
        "__________________"
      ]
    },
    {
      "attachments": {},
      "cell_type": "markdown",
      "metadata": {
        "id": "NtLf2l9iLXPC"
      },
      "source": [
        "## Binary Classification with Logistic Regression"
      ]
    },
    {
      "attachments": {},
      "cell_type": "markdown",
      "metadata": {
        "id": "f501PbsULXPC"
      },
      "source": [
        "### 📖 Logistic Regression\n",
        "after appropriate preprocessing, in this section we are going to classify data using `logistic` regression\n",
        "\n",
        "\n",
        "#### 💭 Questions\n",
        "- Split data into Train/Test and consider the unbalanced data using the parameter `stratify`. Consider 20 percent of data as Test data.\n",
        "- Find best parameter for `solver` using `Gridsearch`\n",
        "- Train a logistic Regression model. set `penalty` to `None`. Set `solver` to the best one that you have found in the last Question.\n",
        "- Predict labels for test data.\n",
        "\n",
        "\n",
        "\n",
        "\n",
        "**Write the answer below:**\n"
      ]
    },
    {
      "cell_type": "code",
      "execution_count": 134,
      "metadata": {
        "id": "jaoFmDnJLXPD"
      },
      "outputs": [],
      "source": [
        "# Train/Test Split\n",
        "from sklearn.model_selection import train_test_split\n",
        "\n",
        "X = df.drop('y' , axis=1)\n",
        "y = df['y']\n",
        "X_train , X_test , y_train , y_test = train_test_split(X, y , test_size=0.2 ,stratify=y)"
      ]
    },
    {
      "cell_type": "code",
      "execution_count": 135,
      "metadata": {
        "id": "Xf2UpxVkLXPD"
      },
      "outputs": [
        {
          "name": "stderr",
          "output_type": "stream",
          "text": [
            "c:\\Users\\shadm\\AppData\\Local\\Programs\\Python\\Python39\\lib\\site-packages\\scipy\\optimize\\_linesearch.py:456: LineSearchWarning: The line search algorithm did not converge\n",
            "  warn('The line search algorithm did not converge', LineSearchWarning)\n",
            "c:\\Users\\shadm\\AppData\\Local\\Programs\\Python\\Python39\\lib\\site-packages\\scipy\\optimize\\_linesearch.py:305: LineSearchWarning: The line search algorithm did not converge\n",
            "  warn('The line search algorithm did not converge', LineSearchWarning)\n",
            "c:\\Users\\shadm\\AppData\\Local\\Programs\\Python\\Python39\\lib\\site-packages\\sklearn\\utils\\optimize.py:210: ConvergenceWarning: newton-cg failed to converge. Increase the number of iterations.\n",
            "  warnings.warn(\n",
            "c:\\Users\\shadm\\AppData\\Local\\Programs\\Python\\Python39\\lib\\site-packages\\sklearn\\utils\\optimize.py:210: ConvergenceWarning: newton-cg failed to converge. Increase the number of iterations.\n",
            "  warnings.warn(\n",
            "c:\\Users\\shadm\\AppData\\Local\\Programs\\Python\\Python39\\lib\\site-packages\\sklearn\\utils\\optimize.py:210: ConvergenceWarning: newton-cg failed to converge. Increase the number of iterations.\n",
            "  warnings.warn(\n",
            "c:\\Users\\shadm\\AppData\\Local\\Programs\\Python\\Python39\\lib\\site-packages\\scipy\\optimize\\_linesearch.py:456: LineSearchWarning: The line search algorithm did not converge\n",
            "  warn('The line search algorithm did not converge', LineSearchWarning)\n",
            "c:\\Users\\shadm\\AppData\\Local\\Programs\\Python\\Python39\\lib\\site-packages\\scipy\\optimize\\_linesearch.py:305: LineSearchWarning: The line search algorithm did not converge\n",
            "  warn('The line search algorithm did not converge', LineSearchWarning)\n",
            "c:\\Users\\shadm\\AppData\\Local\\Programs\\Python\\Python39\\lib\\site-packages\\sklearn\\utils\\optimize.py:210: ConvergenceWarning: newton-cg failed to converge. Increase the number of iterations.\n",
            "  warnings.warn(\n",
            "c:\\Users\\shadm\\AppData\\Local\\Programs\\Python\\Python39\\lib\\site-packages\\scipy\\optimize\\_linesearch.py:456: LineSearchWarning: The line search algorithm did not converge\n",
            "  warn('The line search algorithm did not converge', LineSearchWarning)\n",
            "c:\\Users\\shadm\\AppData\\Local\\Programs\\Python\\Python39\\lib\\site-packages\\scipy\\optimize\\_linesearch.py:305: LineSearchWarning: The line search algorithm did not converge\n",
            "  warn('The line search algorithm did not converge', LineSearchWarning)\n",
            "c:\\Users\\shadm\\AppData\\Local\\Programs\\Python\\Python39\\lib\\site-packages\\sklearn\\utils\\optimize.py:210: ConvergenceWarning: newton-cg failed to converge. Increase the number of iterations.\n",
            "  warnings.warn(\n",
            "c:\\Users\\shadm\\AppData\\Local\\Programs\\Python\\Python39\\lib\\site-packages\\sklearn\\linear_model\\_logistic.py:458: ConvergenceWarning: lbfgs failed to converge (status=1):\n",
            "STOP: TOTAL NO. of ITERATIONS REACHED LIMIT.\n",
            "\n",
            "Increase the number of iterations (max_iter) or scale the data as shown in:\n",
            "    https://scikit-learn.org/stable/modules/preprocessing.html\n",
            "Please also refer to the documentation for alternative solver options:\n",
            "    https://scikit-learn.org/stable/modules/linear_model.html#logistic-regression\n",
            "  n_iter_i = _check_optimize_result(\n",
            "c:\\Users\\shadm\\AppData\\Local\\Programs\\Python\\Python39\\lib\\site-packages\\sklearn\\linear_model\\_logistic.py:458: ConvergenceWarning: lbfgs failed to converge (status=1):\n",
            "STOP: TOTAL NO. of ITERATIONS REACHED LIMIT.\n",
            "\n",
            "Increase the number of iterations (max_iter) or scale the data as shown in:\n",
            "    https://scikit-learn.org/stable/modules/preprocessing.html\n",
            "Please also refer to the documentation for alternative solver options:\n",
            "    https://scikit-learn.org/stable/modules/linear_model.html#logistic-regression\n",
            "  n_iter_i = _check_optimize_result(\n",
            "c:\\Users\\shadm\\AppData\\Local\\Programs\\Python\\Python39\\lib\\site-packages\\sklearn\\linear_model\\_logistic.py:458: ConvergenceWarning: lbfgs failed to converge (status=1):\n",
            "STOP: TOTAL NO. of ITERATIONS REACHED LIMIT.\n",
            "\n",
            "Increase the number of iterations (max_iter) or scale the data as shown in:\n",
            "    https://scikit-learn.org/stable/modules/preprocessing.html\n",
            "Please also refer to the documentation for alternative solver options:\n",
            "    https://scikit-learn.org/stable/modules/linear_model.html#logistic-regression\n",
            "  n_iter_i = _check_optimize_result(\n",
            "c:\\Users\\shadm\\AppData\\Local\\Programs\\Python\\Python39\\lib\\site-packages\\sklearn\\linear_model\\_logistic.py:458: ConvergenceWarning: lbfgs failed to converge (status=1):\n",
            "STOP: TOTAL NO. of ITERATIONS REACHED LIMIT.\n",
            "\n",
            "Increase the number of iterations (max_iter) or scale the data as shown in:\n",
            "    https://scikit-learn.org/stable/modules/preprocessing.html\n",
            "Please also refer to the documentation for alternative solver options:\n",
            "    https://scikit-learn.org/stable/modules/linear_model.html#logistic-regression\n",
            "  n_iter_i = _check_optimize_result(\n",
            "c:\\Users\\shadm\\AppData\\Local\\Programs\\Python\\Python39\\lib\\site-packages\\sklearn\\linear_model\\_logistic.py:458: ConvergenceWarning: lbfgs failed to converge (status=1):\n",
            "STOP: TOTAL NO. of ITERATIONS REACHED LIMIT.\n",
            "\n",
            "Increase the number of iterations (max_iter) or scale the data as shown in:\n",
            "    https://scikit-learn.org/stable/modules/preprocessing.html\n",
            "Please also refer to the documentation for alternative solver options:\n",
            "    https://scikit-learn.org/stable/modules/linear_model.html#logistic-regression\n",
            "  n_iter_i = _check_optimize_result(\n",
            "c:\\Users\\shadm\\AppData\\Local\\Programs\\Python\\Python39\\lib\\site-packages\\sklearn\\linear_model\\_sag.py:350: ConvergenceWarning: The max_iter was reached which means the coef_ did not converge\n",
            "  warnings.warn(\n",
            "c:\\Users\\shadm\\AppData\\Local\\Programs\\Python\\Python39\\lib\\site-packages\\sklearn\\linear_model\\_sag.py:350: ConvergenceWarning: The max_iter was reached which means the coef_ did not converge\n",
            "  warnings.warn(\n",
            "c:\\Users\\shadm\\AppData\\Local\\Programs\\Python\\Python39\\lib\\site-packages\\sklearn\\linear_model\\_sag.py:350: ConvergenceWarning: The max_iter was reached which means the coef_ did not converge\n",
            "  warnings.warn(\n",
            "c:\\Users\\shadm\\AppData\\Local\\Programs\\Python\\Python39\\lib\\site-packages\\sklearn\\linear_model\\_sag.py:350: ConvergenceWarning: The max_iter was reached which means the coef_ did not converge\n",
            "  warnings.warn(\n",
            "c:\\Users\\shadm\\AppData\\Local\\Programs\\Python\\Python39\\lib\\site-packages\\sklearn\\linear_model\\_sag.py:350: ConvergenceWarning: The max_iter was reached which means the coef_ did not converge\n",
            "  warnings.warn(\n",
            "c:\\Users\\shadm\\AppData\\Local\\Programs\\Python\\Python39\\lib\\site-packages\\sklearn\\linear_model\\_sag.py:350: ConvergenceWarning: The max_iter was reached which means the coef_ did not converge\n",
            "  warnings.warn(\n",
            "c:\\Users\\shadm\\AppData\\Local\\Programs\\Python\\Python39\\lib\\site-packages\\sklearn\\linear_model\\_sag.py:350: ConvergenceWarning: The max_iter was reached which means the coef_ did not converge\n",
            "  warnings.warn(\n",
            "c:\\Users\\shadm\\AppData\\Local\\Programs\\Python\\Python39\\lib\\site-packages\\sklearn\\linear_model\\_sag.py:350: ConvergenceWarning: The max_iter was reached which means the coef_ did not converge\n",
            "  warnings.warn(\n",
            "c:\\Users\\shadm\\AppData\\Local\\Programs\\Python\\Python39\\lib\\site-packages\\sklearn\\linear_model\\_sag.py:350: ConvergenceWarning: The max_iter was reached which means the coef_ did not converge\n",
            "  warnings.warn(\n",
            "c:\\Users\\shadm\\AppData\\Local\\Programs\\Python\\Python39\\lib\\site-packages\\sklearn\\linear_model\\_sag.py:350: ConvergenceWarning: The max_iter was reached which means the coef_ did not converge\n",
            "  warnings.warn(\n",
            "c:\\Users\\shadm\\AppData\\Local\\Programs\\Python\\Python39\\lib\\site-packages\\scipy\\optimize\\_linesearch.py:456: LineSearchWarning: The line search algorithm did not converge\n",
            "  warn('The line search algorithm did not converge', LineSearchWarning)\n",
            "c:\\Users\\shadm\\AppData\\Local\\Programs\\Python\\Python39\\lib\\site-packages\\scipy\\optimize\\_linesearch.py:305: LineSearchWarning: The line search algorithm did not converge\n",
            "  warn('The line search algorithm did not converge', LineSearchWarning)\n"
          ]
        },
        {
          "name": "stdout",
          "output_type": "stream",
          "text": [
            "Best parameters: {'solver': 'newton-cg'}\n",
            "Best score: 0.9107507226362681\n"
          ]
        },
        {
          "name": "stderr",
          "output_type": "stream",
          "text": [
            "c:\\Users\\shadm\\AppData\\Local\\Programs\\Python\\Python39\\lib\\site-packages\\sklearn\\utils\\optimize.py:210: ConvergenceWarning: newton-cg failed to converge. Increase the number of iterations.\n",
            "  warnings.warn(\n"
          ]
        }
      ],
      "source": [
        "# Grid search for solver\n",
        "from sklearn.model_selection import GridSearchCV\n",
        "from sklearn.linear_model import LogisticRegression\n",
        "\n",
        "param_grid = {'solver': ['newton-cg', 'lbfgs', 'liblinear', 'sag', 'saga']}\n",
        "\n",
        "estimator = LogisticRegression()\n",
        "\n",
        "grid_search = GridSearchCV(estimator, param_grid, cv=5)\n",
        "grid_search.fit(X, y)\n",
        "\n",
        "print('Best parameters:', grid_search.best_params_)\n",
        "print('Best score:', grid_search.best_score_)"
      ]
    },
    {
      "cell_type": "code",
      "execution_count": 141,
      "metadata": {
        "id": "rFoU-2C4LXPD"
      },
      "outputs": [
        {
          "name": "stderr",
          "output_type": "stream",
          "text": [
            "c:\\Users\\shadm\\AppData\\Local\\Programs\\Python\\Python39\\lib\\site-packages\\sklearn\\linear_model\\_logistic.py:1173: FutureWarning: `penalty='none'`has been deprecated in 1.2 and will be removed in 1.4. To keep the past behaviour, set `penalty=None`.\n",
            "  warnings.warn(\n",
            "c:\\Users\\shadm\\AppData\\Local\\Programs\\Python\\Python39\\lib\\site-packages\\scipy\\optimize\\_linesearch.py:456: LineSearchWarning: The line search algorithm did not converge\n",
            "  warn('The line search algorithm did not converge', LineSearchWarning)\n",
            "c:\\Users\\shadm\\AppData\\Local\\Programs\\Python\\Python39\\lib\\site-packages\\scipy\\optimize\\_linesearch.py:305: LineSearchWarning: The line search algorithm did not converge\n",
            "  warn('The line search algorithm did not converge', LineSearchWarning)\n",
            "c:\\Users\\shadm\\AppData\\Local\\Programs\\Python\\Python39\\lib\\site-packages\\sklearn\\utils\\optimize.py:210: ConvergenceWarning: newton-cg failed to converge. Increase the number of iterations.\n",
            "  warnings.warn(\n"
          ]
        }
      ],
      "source": [
        "# Train logistic\n",
        "model = LogisticRegression(solver='newton-cg' , penalty='none').fit(X_train, y_train)\n"
      ]
    },
    {
      "cell_type": "code",
      "execution_count": 159,
      "metadata": {
        "id": "9PofwBCdLXPD"
      },
      "outputs": [
        {
          "name": "stdout",
          "output_type": "stream",
          "text": [
            "Acc score 0.91\n"
          ]
        }
      ],
      "source": [
        "# Predict labels\n",
        "from sklearn.metrics import accuracy_score\n",
        "\n",
        "y_pred = model.predict(X_test)\n",
        "print(f\"Acc score {accuracy_score(y_pred , y_test):.2f}\")"
      ]
    },
    {
      "attachments": {},
      "cell_type": "markdown",
      "metadata": {
        "id": "4dvU-7qLtl3c"
      },
      "source": [
        "_______________"
      ]
    },
    {
      "attachments": {},
      "cell_type": "markdown",
      "metadata": {
        "id": "Nyzy63lWLXPD"
      },
      "source": [
        "## Different Metrics for Evaluating the Classifer"
      ]
    },
    {
      "attachments": {},
      "cell_type": "markdown",
      "metadata": {
        "id": "52hl1WZfLXPD"
      },
      "source": [
        "### 📖 Model Evaluation Using Confusion Matrix\n",
        "Now we need to evaluate Our Model. Confusion Matrix is one of the tools for this purpose.\n",
        "\n",
        "\n",
        "#### 💭 Questions\n",
        "- Calculate and save Confusion Matrix.\n",
        "- Calculate accuracy using `saved confusion matrix` and without using sklearn.\n",
        "- Find the Precision and Recall for the F1-score using the saved confusion matrix.\n",
        "- Which metric do you think shows the performance of the model more realistic than others? Is accuracy a good metric for this data?\n",
        "\n",
        "\n",
        "\n",
        "\n",
        "**Write the answer below:**\n"
      ]
    },
    {
      "cell_type": "code",
      "execution_count": 171,
      "metadata": {
        "id": "ctMgUkE0LXPE"
      },
      "outputs": [
        {
          "data": {
            "text/plain": [
              "Text(33.0, 0.5, 'True Lables')"
            ]
          },
          "execution_count": 171,
          "metadata": {},
          "output_type": "execute_result"
        },
        {
          "data": {
            "image/png": "[encoded data removed]",
            "text/plain": [
              "<Figure size 432x288 with 2 Axes>"
            ]
          },
          "metadata": {
            "needs_background": "light"
          },
          "output_type": "display_data"
        }
      ],
      "source": [
        "# Confusion Matrix\n",
        "from sklearn.metrics import confusion_matrix\n",
        "from sklearn.metrics import classification_report\n",
        "\n",
        "cm = confusion_matrix(y_test, y_pred)\n",
        "sns.heatmap(cm , annot=True ,fmt='d')\n",
        "plt.xlabel(\"preficted Labels\")\n",
        "plt.ylabel(\"True Lables\")"
      ]
    },
    {
      "cell_type": "code",
      "execution_count": 172,
      "metadata": {
        "id": "2ogicEHnLXPE"
      },
      "outputs": [
        {
          "data": {
            "text/plain": [
              "0.9084729303228939"
            ]
          },
          "execution_count": 172,
          "metadata": {},
          "output_type": "execute_result"
        }
      ],
      "source": [
        "# Accuracy\n",
        "\n",
        "((cm[0][0] + cm[1][1] ) / (cm[0][1] + cm[1][0] + cm[0][0] + cm[1][1]))  "
      ]
    },
    {
      "cell_type": "code",
      "execution_count": 173,
      "metadata": {
        "id": "NmIZv8IkLXPE"
      },
      "outputs": [
        {
          "data": {
            "text/plain": [
              "0.9726402188782489"
            ]
          },
          "execution_count": 173,
          "metadata": {},
          "output_type": "execute_result"
        }
      ],
      "source": [
        "# Precision \n",
        "cm[0][0] / (cm[0][0] + cm[0][1])"
      ]
    },
    {
      "cell_type": "code",
      "execution_count": 174,
      "metadata": {
        "id": "j4E3LFORLXPE"
      },
      "outputs": [
        {
          "data": {
            "text/plain": [
              "0.927713987473904"
            ]
          },
          "execution_count": 174,
          "metadata": {},
          "output_type": "execute_result"
        }
      ],
      "source": [
        "# Recall\n",
        "\n",
        "cm[0][0] / (cm[0][0] + cm[1][0])"
      ]
    },
    {
      "cell_type": "code",
      "execution_count": 175,
      "metadata": {
        "id": "jrdMX4SvLXPE"
      },
      "outputs": [
        {
          "data": {
            "text/plain": [
              "0.927713987473904"
            ]
          },
          "execution_count": 175,
          "metadata": {},
          "output_type": "execute_result"
        }
      ],
      "source": [
        "# F1-Score\n",
        "\n",
        "2*cm[0][0] / (2*cm[0][0] + cm[1][0] + cm[1][0])"
      ]
    },
    {
      "attachments": {},
      "cell_type": "markdown",
      "metadata": {
        "id": "3qUe-uEktl3p"
      },
      "source": [
        "________________________________________________"
      ]
    },
    {
      "attachments": {},
      "cell_type": "markdown",
      "metadata": {
        "id": "-6WdDKxjLXPS"
      },
      "source": [
        "## Decision Boundaries"
      ]
    },
    {
      "attachments": {},
      "cell_type": "markdown",
      "metadata": {
        "id": "lnPfHRRXLXPS"
      },
      "source": [
        "Consider numeric input features for the classification task defining a continuous input feature space. We can think of each input feature defining an axis or dimension on a feature space. Two input features would define a feature space that is a plane, with dots representing input coordinates in the input space. If there were three input variables, the feature space would be a three-dimensional volume.If there were n input variables, the feature space would be a n-dimensional hyperplane. Difficult to visualize spaces beyond three dimensions. Each point in the space can be assigned a class label. In terms of a two-dimensional feature space, we can think of each point on the planing having a different color, according to their assigned class. The goal of a classification algorithm is to learn how to divide up the feature space such that labels are assigned correctly to points in the feature space, or at least, as correctly as is possible. This is a useful geometric understanding of predictive classification modeling. We can take it one step further. Once a classification machine learning algorithm divides a feature space, we can then classify each point in the feature space, on some arbitrary grid, to get an idea of how exactly the algorithm chose to divide up the feature space. This is called a `decision surface` or `decision boundary`, and it provides a diagnostic tool for understanding a model on a predictive classification modeling task."
      ]
    },
    {
      "attachments": {},
      "cell_type": "markdown",
      "metadata": {
        "id": "v1gaf7BULXPS"
      },
      "source": [
        "### 📖 Dataset and Model\n",
        "In order to better understand the concept of decision boundary, we decided to work with a two dimensional synthetic dataset. In this section, first we are going to generate a dataset using sklearn library and then classify the data with a logistic regression model.\n",
        "\n",
        "\n",
        "#### 💭 Questions\n",
        "- Generate dataset using `make_classification()` method in `sklearn` library.use the information below in order to create the dataset:\n",
        "- n_samples=5000, centers=2, n_features=2, n_classes=2, n_clusters_per_class=1,weights=[0.95, 0.05]\n",
        "- use `matplotlib` or `seaborn` to create a scatter plot considering the classes in different colors.\n",
        "- After splitting data into Train/Test, use the `logistic regression` model to predict labels for test data and evaluate the model by calculating the accuracy.\n",
        "\n",
        "\n",
        "\n",
        "\n",
        "**Write the answer below:**\n",
        "\n"
      ]
    },
    {
      "cell_type": "code",
      "execution_count": 236,
      "metadata": {
        "id": "k7DYESoOLXPT"
      },
      "outputs": [
        {
          "data": {
            "text/plain": [
              "0      -1.370943\n",
              "1      -0.544536\n",
              "2      -2.212908\n",
              "3      -1.048199\n",
              "4       1.447294\n",
              "          ...   \n",
              "4995    1.652447\n",
              "4996    0.104156\n",
              "4997    1.485713\n",
              "4998   -1.019779\n",
              "4999   -1.388699\n",
              "Name: 1, Length: 5000, dtype: float64"
            ]
          },
          "execution_count": 236,
          "metadata": {},
          "output_type": "execute_result"
        }
      ],
      "source": [
        "# Generate dataset\n",
        "from sklearn.datasets import make_classification\n",
        "\n",
        "X ,y = make_classification(n_classes=2 , n_features=2 ,n_samples=5000 , n_clusters_per_class=1 , weights=[0.95 , 0.05], n_informative=2 , n_redundant=0 , n_repeated=0)\n",
        "\n",
        "df = pd.DataFrame(X)\n",
        "df[1]"
      ]
    },
    {
      "cell_type": "code",
      "execution_count": 237,
      "metadata": {
        "id": "qCExhmm-LXPT"
      },
      "outputs": [
        {
          "data": {
            "text/plain": [
              "<matplotlib.collections.PathCollection at 0x2a7b72ddb80>"
            ]
          },
          "execution_count": 237,
          "metadata": {},
          "output_type": "execute_result"
        },
        {
          "data": {
            "image/png": "[encoded data removed]",
            "text/plain": [
              "<Figure size 432x288 with 1 Axes>"
            ]
          },
          "metadata": {
            "needs_background": "light"
          },
          "output_type": "display_data"
        }
      ],
      "source": [
        "# Scatter plot\n",
        "plt.scatter(df[0] , df[1] , c=y)"
      ]
    },
    {
      "cell_type": "code",
      "execution_count": 238,
      "metadata": {
        "id": "glcmIXxhtl3x"
      },
      "outputs": [
        {
          "data": {
            "text/plain": [
              "0.991"
            ]
          },
          "execution_count": 238,
          "metadata": {},
          "output_type": "execute_result"
        }
      ],
      "source": [
        "# logistic regression model\n",
        "# fit the model\n",
        "# make predictions\n",
        "# evaluate the predictions\n",
        "X_train2 , X_test2 , y_train2 , y_test2 = train_test_split(X,y ,test_size=0.2)\n",
        "model2 = LogisticRegression().fit(X_train2,y_train2)\n",
        "y_pred2 = model2.predict(X_test2)\n",
        "accuracy_score(y_pred2,y_test2)"
      ]
    },
    {
      "cell_type": "code",
      "execution_count": null,
      "metadata": {},
      "outputs": [],
      "source": []
    },
    {
      "attachments": {},
      "cell_type": "markdown",
      "metadata": {
        "id": "3jZnH15VLXPT"
      },
      "source": [
        "### 📖 Plotting Decision Boundary\n",
        "In this section we are going to plot the decision boundary step by step.\n",
        "\n",
        "\n",
        "#### 💭 Questions\n",
        "- First, we need to define a grid of points across the feature space. To do this, we can find the minimum and maximum values for each feature and expand the grid one step beyond that to ensure the whole feature space is covered.\n",
        "- Create a uniform sample across each dimension using the arange() function at a chosen resolution. We will use a resolution of 0.1 in this case.\n",
        "- We need to turn this into a grid. We can use the `meshgrid()` NumPy function to create a grid from these two vectors.\n",
        "- Flatten out the grid to create samples that we can feed into the model and make a prediction.\n",
        "- Stack the vectors side by side as columns in an input dataset, e.g. like our original training dataset, but at a much higher resolution.\n",
        "- Feed this data into our model and get a prediction for each point in the grid and then reshape the predictions back into a grid\n",
        "- Plot the grid of values as a contour plot. The `contourf()` function takes separate grids for each axis, just like what was returned from our prior call to meshgrid(). You can also plot the actual points of the dataset over the top to see how well they were separated by the logistic regression decision surface.\n",
        "\n",
        "\n",
        "\n",
        "\n",
        "**Write the answer below:**\n"
      ]
    },
    {
      "cell_type": "code",
      "execution_count": 245,
      "metadata": {
        "id": "sE_BS8sbtl4_"
      },
      "outputs": [
        {
          "data": {
            "text/plain": [
              "<matplotlib.collections.PathCollection at 0x2a7ba217f70>"
            ]
          },
          "execution_count": 245,
          "metadata": {},
          "output_type": "execute_result"
        },
        {
          "data": {
            "image/png": "[encoded data removed]",
            "text/plain": [
              "<Figure size 432x288 with 1 Axes>"
            ]
          },
          "metadata": {
            "needs_background": "light"
          },
          "output_type": "display_data"
        }
      ],
      "source": [
        "x_min , x_max = df[0].min() -1 , df[0].max() + 1\n",
        "y_min , y_max = df[1].min() - 1 , df[1].max() + 1 \n",
        "xx , yy = np.meshgrid(np.arange(x_min , x_max , 0.1 ) , np.arange(y_min , y_max , 0.1))\n",
        "Z = model2.predict(np.c_[xx.ravel(), yy.ravel()])\n",
        "Z = Z.reshape(xx.shape)\n",
        "plt.contourf(xx, yy, Z, alpha=0.4)\n",
        "plt.scatter(X[:, 0], X[:, 1], c=y, edgecolors='k')"
      ]
    },
    {
      "attachments": {},
      "cell_type": "markdown",
      "metadata": {
        "id": "0wWKGwmjtl5O"
      },
      "source": [
        "________________________________________"
      ]
    },
    {
      "attachments": {},
      "cell_type": "markdown",
      "metadata": {
        "id": "jJrajEwntl5R"
      },
      "source": [
        "## (Optional) Cost-sensitive learning\n",
        "Cost-sensitive learning is a subfield of machine learning that addresses classification problems where the misclassification costs are not equal [Elk01, FernandezGarciaG+18, LS08]. Cost-sensitive problems occur in many disciplines such as medicine (e.g., disease detection), engineering (e.g., machine failure detection), transport (e.g., traffic-jam detection), finance (e.g., fraud detection), and so forth. They are often related to the class-imbalance problem since in most of these problems, the goal is to detect events that are rare. The training datasets therefore typically contain fewer examples of the event of interest.\n",
        "\n",
        "\n",
        "Python sklearn provides support for cost-sensitive learning for most baseline classifiers thanks to the class_weight parameter. The parameter allows to specify costs in three different ways:\n",
        "\n",
        "\n",
        "- `None`: The misclassification costs are set to 1 (default)\n",
        "- `balanced`: The costs are set according to the imbalance ratio\n",
        "- `{0:c10, 1:c01}`: The misclassification costs are explicitly set for the two classes by means of a dictionary.\n",
        "\n",
        "\n",
        "The use of class weights usually implies a modification in the loss function of the learning algorithm. The modification depends on the type of algorithm. By strongly penalizing mistakes on the minority class, cost-sensitive learning improves their importance during the classifier training step. This pushes the decision boundary away from these instances, allowing to improve generalization on the minority class [FernandezGarciaG+18, GTM+20].\n",
        "\n",
        "\n",
        "#### 💭 Questions\n",
        "- First build a logistic regression classifier with equal weights for the two classes.\n",
        "- Plot the decision boundary for train and test data and the classifier\n",
        "- Calculate proportion of data in classes as `IR`\n",
        "- Define a new classifier by considering `IR` as misclassification count\n",
        "- Plot new decision boundary for new classifier\n",
        "- Is there any change in the decision boundary comparing two the classifiers?\n",
        "\n",
        "\n",
        "\n",
        "\n",
        "**Write the answer below:**"
      ]
    },
    {
      "cell_type": "code",
      "execution_count": null,
      "metadata": {
        "id": "Q4ZPj_bjtl5X"
      },
      "outputs": [],
      "source": [
        "# Set IR =1 \n"
      ]
    },
    {
      "cell_type": "code",
      "execution_count": null,
      "metadata": {
        "id": "ysnkSS4Dtl5d"
      },
      "outputs": [],
      "source": [
        "# Train classifier\n"
      ]
    },
    {
      "cell_type": "code",
      "execution_count": null,
      "metadata": {
        "id": "v9UoT7LTtl5f"
      },
      "outputs": [],
      "source": [
        "# plot decision boundary"
      ]
    },
    {
      "cell_type": "code",
      "execution_count": null,
      "metadata": {
        "id": "EKSYjDtBtl5o"
      },
      "outputs": [],
      "source": [
        "# Set IR and class_weight\n",
        "IR=0.05/0.95\n",
        "class_weight={0:IR,1:1}"
      ]
    },
    {
      "cell_type": "code",
      "execution_count": null,
      "metadata": {
        "id": "3xhducXTtl57"
      },
      "outputs": [],
      "source": [
        "# Train classifier with new IR and class_weight\n"
      ]
    },
    {
      "cell_type": "code",
      "execution_count": null,
      "metadata": {
        "id": "J9yGnDwNtl59"
      },
      "outputs": [],
      "source": [
        "# plot decision boundary\n"
      ]
    }
  ],
  "metadata": {
    "colab": {
      "provenance": []
    },
    "kernelspec": {
      "display_name": "Python 3",
      "language": "python",
      "name": "python3"
    },
    "language_info": {
      "codemirror_mode": {
        "name": "ipython",
        "version": 3
      },
      "file_extension": ".py",
      "mimetype": "text/x-python",
      "name": "python",
      "nbconvert_exporter": "python",
      "pygments_lexer": "ipython3",
      "version": "3.9.0"
    },
    "orig_nbformat": 4
  },
  "nbformat": 4,
  "nbformat_minor": 0
}
